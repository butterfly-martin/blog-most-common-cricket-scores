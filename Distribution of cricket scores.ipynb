{
 "cells": [
  {
   "cell_type": "code",
   "execution_count": 3,
   "metadata": {},
   "outputs": [],
   "source": [
    "import csv \n",
    "import pandas as pd\n",
    "import numpy as np\n",
    "import os\n",
    "import plotly  as py\n",
    "import plotly.express as px\n",
    "import plotly.graph_objs as go\n",
    "folder = \"C:/Users/user/Documents/GitHub/Martin Shine Blog Posts/\"\n",
    "data = \"C:/Users/user/Documents/GitHub/Martin Shine Blog Posts/raw_csv/\""
   ]
  },
  {
   "cell_type": "code",
   "execution_count": 319,
   "metadata": {},
   "outputs": [],
   "source": [
    "#This will create a scorecard of each match\n",
    "def extract_scorecard(file_name):\n",
    "    #Make csv into dataframe\n",
    "    balls = pd.read_csv(data + file_name)\n",
    "    #Get just the runs scored by each batsman and then group them by striker to get runs scored by batsman per match\n",
    "    runs = balls[['striker','runs_off_bat','innings']].groupby(['striker','innings']).sum().reset_index().rename(columns = {'striker':'batsman'})\n",
    "\n",
    "    #Did they get out? and if so who and how?\n",
    "    dismissals = balls[['innings','player_dismissed','bowler','wicket_type']][balls.player_dismissed.notnull()]\n",
    "    scorecard = pd.merge(runs, dismissals,how='left',left_on=['batsman','innings'], right_on=['player_dismissed','innings'])\n",
    "    scorecard.drop(columns=['player_dismissed'])\n",
    "\n",
    "    #How many balls did they face?\n",
    "    balls_faced = balls[['striker','runs_off_bat','innings']].groupby(['striker','innings']).count().reset_index().rename(columns = {'runs_off_bat':'balls_faced','striker':'batsman'})\n",
    "    scorecard = pd.merge(scorecard, balls_faced,how='left',on=['batsman','innings'])\n",
    "\n",
    "    #What position did they bat\n",
    "    bat_order = pd.melt(balls[['innings', 'ball','striker', 'non_striker']],id_vars=[\"innings\", \"ball\"]).sort_values(['innings','ball']).reset_index().drop(columns=\"index\")\n",
    "    #This step is needed for the openers, want the person facing the first ball to be batting #1\n",
    "    bat_order.loc[bat_order.variable == 'non_striker', 'ball'] = bat_order['ball']+0.01\n",
    "    #Get lowest ball in an innings that the batsman came in\n",
    "    bat_order  = bat_order.groupby(['value','innings']).min().sort_values(['innings','ball']).reset_index().rename(columns = {'value':'batsman'})\n",
    "    #Assign position\n",
    "    bat_order['position'] = bat_order.groupby('innings').cumcount()+1\n",
    "    scorecard = pd.merge(scorecard, bat_order,how='left',on=['batsman','innings'])\n",
    "\n",
    "    #Get the match info and add that in too\n",
    "    match_info = balls[['match_id','start_date','venue','batting_team','bowling_team']].iloc[0].to_list()\n",
    "    scorecard['match_id']   = match_info[0]\n",
    "    scorecard['start_date'] = match_info[1]\n",
    "    scorecard['match_id'], scorecard['start_date'] , scorecard['venue'] = [match_info[0],match_info[1],match_info[2]]\n",
    "\n",
    "    #Get who batted in what innings\n",
    "    innings = balls.loc[balls.ball == 0.1][['innings','batting_team','bowling_team']]\n",
    "    scorecard = pd.merge(scorecard,innings,how='left',on=['innings'])\n",
    "    #Get columns in nicer order\n",
    "    scorecard = scorecard[['match_id','start_date','venue','batting_team','bowling_team','innings','position','batsman', 'runs_off_bat','balls_faced', 'bowler','wicket_type']].rename(columns = {'runs_off_bat':'runs','wicket_type':'how_out'})\n",
    "    #Sort rows\n",
    "    scorecard = scorecard.sort_values(['innings','position'])\n",
    "    return scorecard"
   ]
  },
  {
   "cell_type": "code",
   "execution_count": null,
   "metadata": {},
   "outputs": [],
   "source": [
    "#Get a list of all files where the csvs are stored (only csv files though!)\n",
    "arr=os.listdir((data))\n",
    "arr = [x for x in arr if \".csv\" in x]\n",
    "#Then import every one and make it one large dataframe\n",
    "for file in arr:\n",
    "    #Might be necessary if one of the imports errors out, uncomment and run again if you need to see which file is causing problems\n",
    "    #print(file)\n",
    "    scorecard = extract_scorecard(file)\n",
    "    if file == arr[0]:\n",
    "        all_scores = scorecard\n",
    "    else:\n",
    "        all_scores = all_scores.append(scorecard)\n",
    "#Write to csv so we can just import that rather than re-do the whole processing if the notebook goes down\n",
    "all_scores.to_csv(folder + \"all_scores.csv\",index=False)"
   ]
  },
  {
   "cell_type": "code",
   "execution_count": 4,
   "metadata": {},
   "outputs": [],
   "source": [
    "#If necessary, import the csv to get the dataframe\n",
    "all_scores = pd.read_csv(folder + \"all_scores.csv\")"
   ]
  },
  {
   "cell_type": "code",
   "execution_count": 294,
   "metadata": {
    "scrolled": true
   },
   "outputs": [
    {
     "name": "stdout",
     "output_type": "stream",
     "text": [
      "There are 70097 innings in this dataset.\n"
     ]
    },
    {
     "data": {
      "text/plain": [
       "(0      7928\n",
       " 1      4071\n",
       " 2      3085\n",
       " 4      2868\n",
       " 5      2514\n",
       "        ... \n",
       " 236       1\n",
       " 197       1\n",
       " 245       1\n",
       " 291       1\n",
       " 205       1\n",
       " Name: runs, Length: 257, dtype: int64,\n",
       " 70097)"
      ]
     },
     "execution_count": 294,
     "metadata": {},
     "output_type": "execute_result"
    }
   ],
   "source": [
    "#Best to exclude \"Not outs\", as they're not really scores (switch on or off if change mind)\n",
    "all_scores_excl = all_scores[pd.notnull(all_scores.how_out)]\n",
    "def get_freq_count(df_out,df_in,total):\n",
    "    #Get a count of each run\n",
    "    df_out = df_in['runs'].value_counts()\n",
    "    #Make it as a percentage of all innings and then sort\n",
    "    total = len(df_in)\n",
    "    print('There are ' + str(total) + ' innings in this dataset.')\n",
    "    #percentage = (runs/total) *100\n",
    "    df_out.sort_index()\n",
    "    return df_out,total\n",
    "get_freq_count(\"runs\",all_scores_excl,\"total\")"
   ]
  },
  {
   "cell_type": "code",
   "execution_count": 233,
   "metadata": {},
   "outputs": [
    {
     "data": {
      "application/vnd.plotly.v1+json": {
       "config": {
        "plotlyServerURL": "https://plot.ly"
       },
       "data": [
        {
         "alignmentgroup": "True",
         "hovertemplate": "Runs=%{x}<br>Percentage=%{y}<extra></extra>",
         "legendgroup": "",
         "marker": {
          "color": "#636efa"
         },
         "name": "",
         "offsetgroup": "",
         "orientation": "v",
         "showlegend": false,
         "textposition": "auto",
         "type": "bar",
         "x": [
          0,
          1,
          2,
          4,
          5,
          3,
          6,
          7,
          8,
          9,
          10,
          11,
          12,
          13,
          14,
          15,
          16,
          17,
          19,
          18,
          20,
          21,
          22,
          24,
          23,
          25,
          26,
          28,
          27,
          29,
          30,
          31,
          33,
          38,
          32,
          35,
          34,
          36,
          37,
          40,
          39,
          43,
          41,
          42,
          50,
          44,
          46,
          45,
          51,
          52,
          47,
          53,
          48,
          55,
          54,
          49,
          56,
          63,
          58,
          59,
          62,
          57,
          60,
          61,
          64,
          65,
          67,
          71,
          68,
          66,
          69,
          74,
          72,
          76,
          70,
          73,
          79,
          75,
          77,
          80,
          78,
          82,
          83,
          81,
          89,
          84,
          86,
          87,
          85,
          90,
          102,
          88,
          91,
          92,
          95,
          101,
          103,
          100,
          104,
          109,
          94,
          96,
          106,
          105,
          97,
          110,
          107,
          93,
          112,
          113,
          117,
          98,
          108,
          99,
          119,
          115,
          118,
          116,
          111,
          121,
          124,
          127,
          126,
          128,
          122,
          114,
          123,
          130,
          120,
          129,
          138,
          125,
          136,
          137,
          135,
          131,
          139,
          144,
          147,
          134,
          143,
          133,
          140,
          176,
          148,
          150,
          132,
          146,
          149,
          156,
          141,
          151,
          142,
          158,
          153,
          169,
          152,
          160,
          173,
          162,
          166,
          159,
          161,
          180,
          167,
          145,
          157,
          164,
          192,
          163,
          174,
          202,
          226,
          175,
          165,
          215,
          224,
          177,
          154,
          196,
          199,
          186,
          155,
          171,
          190,
          195,
          193,
          170,
          239,
          185,
          243,
          200,
          179,
          178,
          168,
          203,
          211,
          218,
          212,
          206,
          191,
          194,
          187,
          213,
          209,
          189,
          184,
          183,
          214,
          182,
          181,
          221,
          219,
          319,
          204,
          235,
          201,
          172,
          227,
          270,
          267,
          293,
          313,
          232,
          258,
          230,
          251,
          374,
          188,
          217,
          231,
          253,
          317,
          333,
          216,
          254,
          234,
          260,
          228,
          240,
          238,
          264,
          290,
          302,
          225,
          263,
          210,
          287,
          208,
          294,
          262,
          275,
          236,
          197,
          245,
          291,
          205
         ],
         "xaxis": "x",
         "y": [
          11.310041799221079,
          5.807666519251894,
          4.401044267229696,
          4.091473244218726,
          3.586458764283778,
          3.1713197426423387,
          3.1213889324792787,
          2.7932721799791715,
          2.709103099990014,
          2.4751415895116766,
          2.3995320769790434,
          2.212648187511591,
          2.1883960797181046,
          2.0913876485441603,
          1.871692083826697,
          1.7918027875658018,
          1.6691156540222833,
          1.6320241950440104,
          1.5022040886200552,
          1.5007774940439678,
          1.3681041984678375,
          1.3467052798265262,
          1.2810819293265048,
          1.2582564161091059,
          1.2225915517069204,
          1.1455554445981997,
          1.065666148337304,
          1.0171619327503318,
          0.9786438791959713,
          0.937272636489436,
          0.9215800961524745,
          0.893048204630726,
          0.8003195571850437,
          0.7518153415980712,
          0.7518153415980712,
          0.7432557741415468,
          0.7318430175328473,
          0.720430260924148,
          0.683338801945875,
          0.646247342967602,
          0.6405409646632524,
          0.5948899382284548,
          0.5948899382284548,
          0.5392527497610454,
          0.5363995606088706,
          0.5321197768806083,
          0.5306931823045208,
          0.5092942636632095,
          0.4593634535001498,
          0.4493772914675378,
          0.4422443185871008,
          0.39801988672839067,
          0.392313508424041,
          0.37804756266316675,
          0.3737677789349045,
          0.3709145897827297,
          0.3709145897827297,
          0.3352497253805441,
          0.33239653622836923,
          0.328116752500107,
          0.32669015792401956,
          0.30529123928270824,
          0.29673167182618376,
          0.27818594233704724,
          0.273906158608785,
          0.2710529694566101,
          0.26677318572834785,
          0.24537426708703655,
          0.24109448335877426,
          0.23824129420659942,
          0.2311083213261623,
          0.2082828081087636,
          0.199723240652239,
          0.19829664607615163,
          0.19401686234788934,
          0.18973707861962708,
          0.18260410573918998,
          0.1783243220109277,
          0.17689772743484028,
          0.16120518709787865,
          0.14836583591309188,
          0.14693924133700442,
          0.13980626845656732,
          0.13837967388047992,
          0.11555416066308115,
          0.11412756608699373,
          0.11270097151090631,
          0.11270097151090631,
          0.1112743769348189,
          0.10556799863046921,
          0.10128821490220694,
          0.10128821490220694,
          0.09700843117394467,
          0.09700843117394467,
          0.09700843117394467,
          0.09700843117394467,
          0.08702226914133272,
          0.08416907998915789,
          0.08416907998915789,
          0.08131589083698304,
          0.07988929626089561,
          0.07988929626089561,
          0.07560951253263336,
          0.07275632338045851,
          0.07275632338045851,
          0.06990313422828366,
          0.06847653965219624,
          0.06704994507610883,
          0.05849037761958428,
          0.05849037761958428,
          0.05563718846740945,
          0.054210593891322024,
          0.05278399931523461,
          0.05278399931523461,
          0.05135740473914718,
          0.05135740473914718,
          0.048504215586972335,
          0.048504215586972335,
          0.045651026434797494,
          0.04279783728262265,
          0.04137124270653523,
          0.03851805355436039,
          0.03709145897827297,
          0.03566486440218554,
          0.03566486440218554,
          0.03423826982609812,
          0.0328116752500107,
          0.0328116752500107,
          0.031385080673923274,
          0.029958486097835857,
          0.028531891521748433,
          0.027105296945661012,
          0.027105296945661012,
          0.024252107793486168,
          0.022825513217398747,
          0.022825513217398747,
          0.021398918641311326,
          0.021398918641311326,
          0.021398918641311326,
          0.021398918641311326,
          0.021398918641311326,
          0.019972324065223902,
          0.019972324065223902,
          0.018545729489136485,
          0.01711913491304906,
          0.01711913491304906,
          0.01711913491304906,
          0.01711913491304906,
          0.015692540336961637,
          0.015692540336961637,
          0.015692540336961637,
          0.015692540336961637,
          0.012839351184786796,
          0.012839351184786796,
          0.011412756608699373,
          0.011412756608699373,
          0.011412756608699373,
          0.011412756608699373,
          0.011412756608699373,
          0.009986162032611951,
          0.009986162032611951,
          0.009986162032611951,
          0.009986162032611951,
          0.00855956745652453,
          0.00855956745652453,
          0.00855956745652453,
          0.00855956745652453,
          0.00855956745652453,
          0.00855956745652453,
          0.007132972880437108,
          0.007132972880437108,
          0.007132972880437108,
          0.007132972880437108,
          0.007132972880437108,
          0.007132972880437108,
          0.007132972880437108,
          0.007132972880437108,
          0.007132972880437108,
          0.007132972880437108,
          0.007132972880437108,
          0.007132972880437108,
          0.007132972880437108,
          0.005706378304349687,
          0.005706378304349687,
          0.005706378304349687,
          0.005706378304349687,
          0.004279783728262265,
          0.004279783728262265,
          0.004279783728262265,
          0.004279783728262265,
          0.004279783728262265,
          0.004279783728262265,
          0.004279783728262265,
          0.004279783728262265,
          0.004279783728262265,
          0.004279783728262265,
          0.004279783728262265,
          0.004279783728262265,
          0.004279783728262265,
          0.004279783728262265,
          0.004279783728262265,
          0.0028531891521748434,
          0.0028531891521748434,
          0.0028531891521748434,
          0.0028531891521748434,
          0.0028531891521748434,
          0.0028531891521748434,
          0.0028531891521748434,
          0.0028531891521748434,
          0.0028531891521748434,
          0.0028531891521748434,
          0.0028531891521748434,
          0.0028531891521748434,
          0.0028531891521748434,
          0.0028531891521748434,
          0.0028531891521748434,
          0.0028531891521748434,
          0.0028531891521748434,
          0.0014265945760874217,
          0.0014265945760874217,
          0.0014265945760874217,
          0.0014265945760874217,
          0.0014265945760874217,
          0.0014265945760874217,
          0.0014265945760874217,
          0.0014265945760874217,
          0.0014265945760874217,
          0.0014265945760874217,
          0.0014265945760874217,
          0.0014265945760874217,
          0.0014265945760874217,
          0.0014265945760874217,
          0.0014265945760874217,
          0.0014265945760874217,
          0.0014265945760874217,
          0.0014265945760874217,
          0.0014265945760874217,
          0.0014265945760874217,
          0.0014265945760874217,
          0.0014265945760874217,
          0.0014265945760874217,
          0.0014265945760874217,
          0.0014265945760874217,
          0.0014265945760874217,
          0.0014265945760874217,
          0.0014265945760874217,
          0.0014265945760874217,
          0.0014265945760874217,
          0.0014265945760874217,
          0.0014265945760874217,
          0.0014265945760874217,
          0.0014265945760874217,
          0.0014265945760874217,
          0.0014265945760874217,
          0.0014265945760874217,
          0.0014265945760874217,
          0.0014265945760874217
         ],
         "yaxis": "y"
        }
       ],
       "layout": {
        "barmode": "relative",
        "legend": {
         "tracegroupgap": 0
        },
        "margin": {
         "t": 60
        },
        "template": {
         "data": {
          "bar": [
           {
            "error_x": {
             "color": "#2a3f5f"
            },
            "error_y": {
             "color": "#2a3f5f"
            },
            "marker": {
             "line": {
              "color": "#E5ECF6",
              "width": 0.5
             }
            },
            "type": "bar"
           }
          ],
          "barpolar": [
           {
            "marker": {
             "line": {
              "color": "#E5ECF6",
              "width": 0.5
             }
            },
            "type": "barpolar"
           }
          ],
          "carpet": [
           {
            "aaxis": {
             "endlinecolor": "#2a3f5f",
             "gridcolor": "white",
             "linecolor": "white",
             "minorgridcolor": "white",
             "startlinecolor": "#2a3f5f"
            },
            "baxis": {
             "endlinecolor": "#2a3f5f",
             "gridcolor": "white",
             "linecolor": "white",
             "minorgridcolor": "white",
             "startlinecolor": "#2a3f5f"
            },
            "type": "carpet"
           }
          ],
          "choropleth": [
           {
            "colorbar": {
             "outlinewidth": 0,
             "ticks": ""
            },
            "type": "choropleth"
           }
          ],
          "contour": [
           {
            "colorbar": {
             "outlinewidth": 0,
             "ticks": ""
            },
            "colorscale": [
             [
              0,
              "#0d0887"
             ],
             [
              0.1111111111111111,
              "#46039f"
             ],
             [
              0.2222222222222222,
              "#7201a8"
             ],
             [
              0.3333333333333333,
              "#9c179e"
             ],
             [
              0.4444444444444444,
              "#bd3786"
             ],
             [
              0.5555555555555556,
              "#d8576b"
             ],
             [
              0.6666666666666666,
              "#ed7953"
             ],
             [
              0.7777777777777778,
              "#fb9f3a"
             ],
             [
              0.8888888888888888,
              "#fdca26"
             ],
             [
              1,
              "#f0f921"
             ]
            ],
            "type": "contour"
           }
          ],
          "contourcarpet": [
           {
            "colorbar": {
             "outlinewidth": 0,
             "ticks": ""
            },
            "type": "contourcarpet"
           }
          ],
          "heatmap": [
           {
            "colorbar": {
             "outlinewidth": 0,
             "ticks": ""
            },
            "colorscale": [
             [
              0,
              "#0d0887"
             ],
             [
              0.1111111111111111,
              "#46039f"
             ],
             [
              0.2222222222222222,
              "#7201a8"
             ],
             [
              0.3333333333333333,
              "#9c179e"
             ],
             [
              0.4444444444444444,
              "#bd3786"
             ],
             [
              0.5555555555555556,
              "#d8576b"
             ],
             [
              0.6666666666666666,
              "#ed7953"
             ],
             [
              0.7777777777777778,
              "#fb9f3a"
             ],
             [
              0.8888888888888888,
              "#fdca26"
             ],
             [
              1,
              "#f0f921"
             ]
            ],
            "type": "heatmap"
           }
          ],
          "heatmapgl": [
           {
            "colorbar": {
             "outlinewidth": 0,
             "ticks": ""
            },
            "colorscale": [
             [
              0,
              "#0d0887"
             ],
             [
              0.1111111111111111,
              "#46039f"
             ],
             [
              0.2222222222222222,
              "#7201a8"
             ],
             [
              0.3333333333333333,
              "#9c179e"
             ],
             [
              0.4444444444444444,
              "#bd3786"
             ],
             [
              0.5555555555555556,
              "#d8576b"
             ],
             [
              0.6666666666666666,
              "#ed7953"
             ],
             [
              0.7777777777777778,
              "#fb9f3a"
             ],
             [
              0.8888888888888888,
              "#fdca26"
             ],
             [
              1,
              "#f0f921"
             ]
            ],
            "type": "heatmapgl"
           }
          ],
          "histogram": [
           {
            "marker": {
             "colorbar": {
              "outlinewidth": 0,
              "ticks": ""
             }
            },
            "type": "histogram"
           }
          ],
          "histogram2d": [
           {
            "colorbar": {
             "outlinewidth": 0,
             "ticks": ""
            },
            "colorscale": [
             [
              0,
              "#0d0887"
             ],
             [
              0.1111111111111111,
              "#46039f"
             ],
             [
              0.2222222222222222,
              "#7201a8"
             ],
             [
              0.3333333333333333,
              "#9c179e"
             ],
             [
              0.4444444444444444,
              "#bd3786"
             ],
             [
              0.5555555555555556,
              "#d8576b"
             ],
             [
              0.6666666666666666,
              "#ed7953"
             ],
             [
              0.7777777777777778,
              "#fb9f3a"
             ],
             [
              0.8888888888888888,
              "#fdca26"
             ],
             [
              1,
              "#f0f921"
             ]
            ],
            "type": "histogram2d"
           }
          ],
          "histogram2dcontour": [
           {
            "colorbar": {
             "outlinewidth": 0,
             "ticks": ""
            },
            "colorscale": [
             [
              0,
              "#0d0887"
             ],
             [
              0.1111111111111111,
              "#46039f"
             ],
             [
              0.2222222222222222,
              "#7201a8"
             ],
             [
              0.3333333333333333,
              "#9c179e"
             ],
             [
              0.4444444444444444,
              "#bd3786"
             ],
             [
              0.5555555555555556,
              "#d8576b"
             ],
             [
              0.6666666666666666,
              "#ed7953"
             ],
             [
              0.7777777777777778,
              "#fb9f3a"
             ],
             [
              0.8888888888888888,
              "#fdca26"
             ],
             [
              1,
              "#f0f921"
             ]
            ],
            "type": "histogram2dcontour"
           }
          ],
          "mesh3d": [
           {
            "colorbar": {
             "outlinewidth": 0,
             "ticks": ""
            },
            "type": "mesh3d"
           }
          ],
          "parcoords": [
           {
            "line": {
             "colorbar": {
              "outlinewidth": 0,
              "ticks": ""
             }
            },
            "type": "parcoords"
           }
          ],
          "pie": [
           {
            "automargin": true,
            "type": "pie"
           }
          ],
          "scatter": [
           {
            "marker": {
             "colorbar": {
              "outlinewidth": 0,
              "ticks": ""
             }
            },
            "type": "scatter"
           }
          ],
          "scatter3d": [
           {
            "line": {
             "colorbar": {
              "outlinewidth": 0,
              "ticks": ""
             }
            },
            "marker": {
             "colorbar": {
              "outlinewidth": 0,
              "ticks": ""
             }
            },
            "type": "scatter3d"
           }
          ],
          "scattercarpet": [
           {
            "marker": {
             "colorbar": {
              "outlinewidth": 0,
              "ticks": ""
             }
            },
            "type": "scattercarpet"
           }
          ],
          "scattergeo": [
           {
            "marker": {
             "colorbar": {
              "outlinewidth": 0,
              "ticks": ""
             }
            },
            "type": "scattergeo"
           }
          ],
          "scattergl": [
           {
            "marker": {
             "colorbar": {
              "outlinewidth": 0,
              "ticks": ""
             }
            },
            "type": "scattergl"
           }
          ],
          "scattermapbox": [
           {
            "marker": {
             "colorbar": {
              "outlinewidth": 0,
              "ticks": ""
             }
            },
            "type": "scattermapbox"
           }
          ],
          "scatterpolar": [
           {
            "marker": {
             "colorbar": {
              "outlinewidth": 0,
              "ticks": ""
             }
            },
            "type": "scatterpolar"
           }
          ],
          "scatterpolargl": [
           {
            "marker": {
             "colorbar": {
              "outlinewidth": 0,
              "ticks": ""
             }
            },
            "type": "scatterpolargl"
           }
          ],
          "scatterternary": [
           {
            "marker": {
             "colorbar": {
              "outlinewidth": 0,
              "ticks": ""
             }
            },
            "type": "scatterternary"
           }
          ],
          "surface": [
           {
            "colorbar": {
             "outlinewidth": 0,
             "ticks": ""
            },
            "colorscale": [
             [
              0,
              "#0d0887"
             ],
             [
              0.1111111111111111,
              "#46039f"
             ],
             [
              0.2222222222222222,
              "#7201a8"
             ],
             [
              0.3333333333333333,
              "#9c179e"
             ],
             [
              0.4444444444444444,
              "#bd3786"
             ],
             [
              0.5555555555555556,
              "#d8576b"
             ],
             [
              0.6666666666666666,
              "#ed7953"
             ],
             [
              0.7777777777777778,
              "#fb9f3a"
             ],
             [
              0.8888888888888888,
              "#fdca26"
             ],
             [
              1,
              "#f0f921"
             ]
            ],
            "type": "surface"
           }
          ],
          "table": [
           {
            "cells": {
             "fill": {
              "color": "#EBF0F8"
             },
             "line": {
              "color": "white"
             }
            },
            "header": {
             "fill": {
              "color": "#C8D4E3"
             },
             "line": {
              "color": "white"
             }
            },
            "type": "table"
           }
          ]
         },
         "layout": {
          "annotationdefaults": {
           "arrowcolor": "#2a3f5f",
           "arrowhead": 0,
           "arrowwidth": 1
          },
          "autotypenumbers": "strict",
          "coloraxis": {
           "colorbar": {
            "outlinewidth": 0,
            "ticks": ""
           }
          },
          "colorscale": {
           "diverging": [
            [
             0,
             "#8e0152"
            ],
            [
             0.1,
             "#c51b7d"
            ],
            [
             0.2,
             "#de77ae"
            ],
            [
             0.3,
             "#f1b6da"
            ],
            [
             0.4,
             "#fde0ef"
            ],
            [
             0.5,
             "#f7f7f7"
            ],
            [
             0.6,
             "#e6f5d0"
            ],
            [
             0.7,
             "#b8e186"
            ],
            [
             0.8,
             "#7fbc41"
            ],
            [
             0.9,
             "#4d9221"
            ],
            [
             1,
             "#276419"
            ]
           ],
           "sequential": [
            [
             0,
             "#0d0887"
            ],
            [
             0.1111111111111111,
             "#46039f"
            ],
            [
             0.2222222222222222,
             "#7201a8"
            ],
            [
             0.3333333333333333,
             "#9c179e"
            ],
            [
             0.4444444444444444,
             "#bd3786"
            ],
            [
             0.5555555555555556,
             "#d8576b"
            ],
            [
             0.6666666666666666,
             "#ed7953"
            ],
            [
             0.7777777777777778,
             "#fb9f3a"
            ],
            [
             0.8888888888888888,
             "#fdca26"
            ],
            [
             1,
             "#f0f921"
            ]
           ],
           "sequentialminus": [
            [
             0,
             "#0d0887"
            ],
            [
             0.1111111111111111,
             "#46039f"
            ],
            [
             0.2222222222222222,
             "#7201a8"
            ],
            [
             0.3333333333333333,
             "#9c179e"
            ],
            [
             0.4444444444444444,
             "#bd3786"
            ],
            [
             0.5555555555555556,
             "#d8576b"
            ],
            [
             0.6666666666666666,
             "#ed7953"
            ],
            [
             0.7777777777777778,
             "#fb9f3a"
            ],
            [
             0.8888888888888888,
             "#fdca26"
            ],
            [
             1,
             "#f0f921"
            ]
           ]
          },
          "colorway": [
           "#636efa",
           "#EF553B",
           "#00cc96",
           "#ab63fa",
           "#FFA15A",
           "#19d3f3",
           "#FF6692",
           "#B6E880",
           "#FF97FF",
           "#FECB52"
          ],
          "font": {
           "color": "#2a3f5f"
          },
          "geo": {
           "bgcolor": "white",
           "lakecolor": "white",
           "landcolor": "#E5ECF6",
           "showlakes": true,
           "showland": true,
           "subunitcolor": "white"
          },
          "hoverlabel": {
           "align": "left"
          },
          "hovermode": "closest",
          "mapbox": {
           "style": "light"
          },
          "paper_bgcolor": "white",
          "plot_bgcolor": "#E5ECF6",
          "polar": {
           "angularaxis": {
            "gridcolor": "white",
            "linecolor": "white",
            "ticks": ""
           },
           "bgcolor": "#E5ECF6",
           "radialaxis": {
            "gridcolor": "white",
            "linecolor": "white",
            "ticks": ""
           }
          },
          "scene": {
           "xaxis": {
            "backgroundcolor": "#E5ECF6",
            "gridcolor": "white",
            "gridwidth": 2,
            "linecolor": "white",
            "showbackground": true,
            "ticks": "",
            "zerolinecolor": "white"
           },
           "yaxis": {
            "backgroundcolor": "#E5ECF6",
            "gridcolor": "white",
            "gridwidth": 2,
            "linecolor": "white",
            "showbackground": true,
            "ticks": "",
            "zerolinecolor": "white"
           },
           "zaxis": {
            "backgroundcolor": "#E5ECF6",
            "gridcolor": "white",
            "gridwidth": 2,
            "linecolor": "white",
            "showbackground": true,
            "ticks": "",
            "zerolinecolor": "white"
           }
          },
          "shapedefaults": {
           "line": {
            "color": "#2a3f5f"
           }
          },
          "ternary": {
           "aaxis": {
            "gridcolor": "white",
            "linecolor": "white",
            "ticks": ""
           },
           "baxis": {
            "gridcolor": "white",
            "linecolor": "white",
            "ticks": ""
           },
           "bgcolor": "#E5ECF6",
           "caxis": {
            "gridcolor": "white",
            "linecolor": "white",
            "ticks": ""
           }
          },
          "title": {
           "x": 0.05
          },
          "xaxis": {
           "automargin": true,
           "gridcolor": "white",
           "linecolor": "white",
           "ticks": "",
           "title": {
            "standoff": 15
           },
           "zerolinecolor": "white",
           "zerolinewidth": 2
          },
          "yaxis": {
           "automargin": true,
           "gridcolor": "white",
           "linecolor": "white",
           "ticks": "",
           "title": {
            "standoff": 15
           },
           "zerolinecolor": "white",
           "zerolinewidth": 2
          }
         }
        },
        "xaxis": {
         "anchor": "y",
         "domain": [
          0,
          1
         ],
         "range": [
          -0.5,
          150.5
         ],
         "title": {
          "text": "Runs"
         }
        },
        "yaxis": {
         "anchor": "x",
         "domain": [
          0,
          1
         ],
         "range": [
          0,
          11.5
         ],
         "title": {
          "text": "Percentage"
         }
        }
       }
      },
      "text/html": [
       "<div>                            <div id=\"0663da7a-f64c-4c41-8d7c-c2db42b4745e\" class=\"plotly-graph-div\" style=\"height:525px; width:100%;\"></div>            <script type=\"text/javascript\">                require([\"plotly\"], function(Plotly) {                    window.PLOTLYENV=window.PLOTLYENV || {};                                    if (document.getElementById(\"0663da7a-f64c-4c41-8d7c-c2db42b4745e\")) {                    Plotly.newPlot(                        \"0663da7a-f64c-4c41-8d7c-c2db42b4745e\",                        [{\"alignmentgroup\": \"True\", \"hovertemplate\": \"Runs=%{x}<br>Percentage=%{y}<extra></extra>\", \"legendgroup\": \"\", \"marker\": {\"color\": \"#636efa\"}, \"name\": \"\", \"offsetgroup\": \"\", \"orientation\": \"v\", \"showlegend\": false, \"textposition\": \"auto\", \"type\": \"bar\", \"x\": [0, 1, 2, 4, 5, 3, 6, 7, 8, 9, 10, 11, 12, 13, 14, 15, 16, 17, 19, 18, 20, 21, 22, 24, 23, 25, 26, 28, 27, 29, 30, 31, 33, 38, 32, 35, 34, 36, 37, 40, 39, 43, 41, 42, 50, 44, 46, 45, 51, 52, 47, 53, 48, 55, 54, 49, 56, 63, 58, 59, 62, 57, 60, 61, 64, 65, 67, 71, 68, 66, 69, 74, 72, 76, 70, 73, 79, 75, 77, 80, 78, 82, 83, 81, 89, 84, 86, 87, 85, 90, 102, 88, 91, 92, 95, 101, 103, 100, 104, 109, 94, 96, 106, 105, 97, 110, 107, 93, 112, 113, 117, 98, 108, 99, 119, 115, 118, 116, 111, 121, 124, 127, 126, 128, 122, 114, 123, 130, 120, 129, 138, 125, 136, 137, 135, 131, 139, 144, 147, 134, 143, 133, 140, 176, 148, 150, 132, 146, 149, 156, 141, 151, 142, 158, 153, 169, 152, 160, 173, 162, 166, 159, 161, 180, 167, 145, 157, 164, 192, 163, 174, 202, 226, 175, 165, 215, 224, 177, 154, 196, 199, 186, 155, 171, 190, 195, 193, 170, 239, 185, 243, 200, 179, 178, 168, 203, 211, 218, 212, 206, 191, 194, 187, 213, 209, 189, 184, 183, 214, 182, 181, 221, 219, 319, 204, 235, 201, 172, 227, 270, 267, 293, 313, 232, 258, 230, 251, 374, 188, 217, 231, 253, 317, 333, 216, 254, 234, 260, 228, 240, 238, 264, 290, 302, 225, 263, 210, 287, 208, 294, 262, 275, 236, 197, 245, 291, 205], \"xaxis\": \"x\", \"y\": [11.310041799221079, 5.807666519251894, 4.401044267229696, 4.091473244218726, 3.586458764283778, 3.1713197426423387, 3.1213889324792787, 2.7932721799791715, 2.709103099990014, 2.4751415895116766, 2.3995320769790434, 2.212648187511591, 2.1883960797181046, 2.0913876485441603, 1.871692083826697, 1.7918027875658018, 1.6691156540222833, 1.6320241950440104, 1.5022040886200552, 1.5007774940439678, 1.3681041984678375, 1.3467052798265262, 1.2810819293265048, 1.2582564161091059, 1.2225915517069204, 1.1455554445981997, 1.065666148337304, 1.0171619327503318, 0.9786438791959713, 0.937272636489436, 0.9215800961524745, 0.893048204630726, 0.8003195571850437, 0.7518153415980712, 0.7518153415980712, 0.7432557741415468, 0.7318430175328473, 0.720430260924148, 0.683338801945875, 0.646247342967602, 0.6405409646632524, 0.5948899382284548, 0.5948899382284548, 0.5392527497610454, 0.5363995606088706, 0.5321197768806083, 0.5306931823045208, 0.5092942636632095, 0.4593634535001498, 0.4493772914675378, 0.4422443185871008, 0.39801988672839067, 0.392313508424041, 0.37804756266316675, 0.3737677789349045, 0.3709145897827297, 0.3709145897827297, 0.3352497253805441, 0.33239653622836923, 0.328116752500107, 0.32669015792401956, 0.30529123928270824, 0.29673167182618376, 0.27818594233704724, 0.273906158608785, 0.2710529694566101, 0.26677318572834785, 0.24537426708703655, 0.24109448335877426, 0.23824129420659942, 0.2311083213261623, 0.2082828081087636, 0.199723240652239, 0.19829664607615163, 0.19401686234788934, 0.18973707861962708, 0.18260410573918998, 0.1783243220109277, 0.17689772743484028, 0.16120518709787865, 0.14836583591309188, 0.14693924133700442, 0.13980626845656732, 0.13837967388047992, 0.11555416066308115, 0.11412756608699373, 0.11270097151090631, 0.11270097151090631, 0.1112743769348189, 0.10556799863046921, 0.10128821490220694, 0.10128821490220694, 0.09700843117394467, 0.09700843117394467, 0.09700843117394467, 0.09700843117394467, 0.08702226914133272, 0.08416907998915789, 0.08416907998915789, 0.08131589083698304, 0.07988929626089561, 0.07988929626089561, 0.07560951253263336, 0.07275632338045851, 0.07275632338045851, 0.06990313422828366, 0.06847653965219624, 0.06704994507610883, 0.05849037761958428, 0.05849037761958428, 0.05563718846740945, 0.054210593891322024, 0.05278399931523461, 0.05278399931523461, 0.05135740473914718, 0.05135740473914718, 0.048504215586972335, 0.048504215586972335, 0.045651026434797494, 0.04279783728262265, 0.04137124270653523, 0.03851805355436039, 0.03709145897827297, 0.03566486440218554, 0.03566486440218554, 0.03423826982609812, 0.0328116752500107, 0.0328116752500107, 0.031385080673923274, 0.029958486097835857, 0.028531891521748433, 0.027105296945661012, 0.027105296945661012, 0.024252107793486168, 0.022825513217398747, 0.022825513217398747, 0.021398918641311326, 0.021398918641311326, 0.021398918641311326, 0.021398918641311326, 0.021398918641311326, 0.019972324065223902, 0.019972324065223902, 0.018545729489136485, 0.01711913491304906, 0.01711913491304906, 0.01711913491304906, 0.01711913491304906, 0.015692540336961637, 0.015692540336961637, 0.015692540336961637, 0.015692540336961637, 0.012839351184786796, 0.012839351184786796, 0.011412756608699373, 0.011412756608699373, 0.011412756608699373, 0.011412756608699373, 0.011412756608699373, 0.009986162032611951, 0.009986162032611951, 0.009986162032611951, 0.009986162032611951, 0.00855956745652453, 0.00855956745652453, 0.00855956745652453, 0.00855956745652453, 0.00855956745652453, 0.00855956745652453, 0.007132972880437108, 0.007132972880437108, 0.007132972880437108, 0.007132972880437108, 0.007132972880437108, 0.007132972880437108, 0.007132972880437108, 0.007132972880437108, 0.007132972880437108, 0.007132972880437108, 0.007132972880437108, 0.007132972880437108, 0.007132972880437108, 0.005706378304349687, 0.005706378304349687, 0.005706378304349687, 0.005706378304349687, 0.004279783728262265, 0.004279783728262265, 0.004279783728262265, 0.004279783728262265, 0.004279783728262265, 0.004279783728262265, 0.004279783728262265, 0.004279783728262265, 0.004279783728262265, 0.004279783728262265, 0.004279783728262265, 0.004279783728262265, 0.004279783728262265, 0.004279783728262265, 0.004279783728262265, 0.0028531891521748434, 0.0028531891521748434, 0.0028531891521748434, 0.0028531891521748434, 0.0028531891521748434, 0.0028531891521748434, 0.0028531891521748434, 0.0028531891521748434, 0.0028531891521748434, 0.0028531891521748434, 0.0028531891521748434, 0.0028531891521748434, 0.0028531891521748434, 0.0028531891521748434, 0.0028531891521748434, 0.0028531891521748434, 0.0028531891521748434, 0.0014265945760874217, 0.0014265945760874217, 0.0014265945760874217, 0.0014265945760874217, 0.0014265945760874217, 0.0014265945760874217, 0.0014265945760874217, 0.0014265945760874217, 0.0014265945760874217, 0.0014265945760874217, 0.0014265945760874217, 0.0014265945760874217, 0.0014265945760874217, 0.0014265945760874217, 0.0014265945760874217, 0.0014265945760874217, 0.0014265945760874217, 0.0014265945760874217, 0.0014265945760874217, 0.0014265945760874217, 0.0014265945760874217, 0.0014265945760874217, 0.0014265945760874217, 0.0014265945760874217, 0.0014265945760874217, 0.0014265945760874217, 0.0014265945760874217, 0.0014265945760874217, 0.0014265945760874217, 0.0014265945760874217, 0.0014265945760874217, 0.0014265945760874217, 0.0014265945760874217, 0.0014265945760874217, 0.0014265945760874217, 0.0014265945760874217, 0.0014265945760874217, 0.0014265945760874217, 0.0014265945760874217], \"yaxis\": \"y\"}],                        {\"barmode\": \"relative\", \"legend\": {\"tracegroupgap\": 0}, \"margin\": {\"t\": 60}, \"template\": {\"data\": {\"bar\": [{\"error_x\": {\"color\": \"#2a3f5f\"}, \"error_y\": {\"color\": \"#2a3f5f\"}, \"marker\": {\"line\": {\"color\": \"#E5ECF6\", \"width\": 0.5}}, \"type\": \"bar\"}], \"barpolar\": [{\"marker\": {\"line\": {\"color\": \"#E5ECF6\", \"width\": 0.5}}, \"type\": \"barpolar\"}], \"carpet\": [{\"aaxis\": {\"endlinecolor\": \"#2a3f5f\", \"gridcolor\": \"white\", \"linecolor\": \"white\", \"minorgridcolor\": \"white\", \"startlinecolor\": \"#2a3f5f\"}, \"baxis\": {\"endlinecolor\": \"#2a3f5f\", \"gridcolor\": \"white\", \"linecolor\": \"white\", \"minorgridcolor\": \"white\", \"startlinecolor\": \"#2a3f5f\"}, \"type\": \"carpet\"}], \"choropleth\": [{\"colorbar\": {\"outlinewidth\": 0, \"ticks\": \"\"}, \"type\": \"choropleth\"}], \"contour\": [{\"colorbar\": {\"outlinewidth\": 0, \"ticks\": \"\"}, \"colorscale\": [[0.0, \"#0d0887\"], [0.1111111111111111, \"#46039f\"], [0.2222222222222222, \"#7201a8\"], [0.3333333333333333, \"#9c179e\"], [0.4444444444444444, \"#bd3786\"], [0.5555555555555556, \"#d8576b\"], [0.6666666666666666, \"#ed7953\"], [0.7777777777777778, \"#fb9f3a\"], [0.8888888888888888, \"#fdca26\"], [1.0, \"#f0f921\"]], \"type\": \"contour\"}], \"contourcarpet\": [{\"colorbar\": {\"outlinewidth\": 0, \"ticks\": \"\"}, \"type\": \"contourcarpet\"}], \"heatmap\": [{\"colorbar\": {\"outlinewidth\": 0, \"ticks\": \"\"}, \"colorscale\": [[0.0, \"#0d0887\"], [0.1111111111111111, \"#46039f\"], [0.2222222222222222, \"#7201a8\"], [0.3333333333333333, \"#9c179e\"], [0.4444444444444444, \"#bd3786\"], [0.5555555555555556, \"#d8576b\"], [0.6666666666666666, \"#ed7953\"], [0.7777777777777778, \"#fb9f3a\"], [0.8888888888888888, \"#fdca26\"], [1.0, \"#f0f921\"]], \"type\": \"heatmap\"}], \"heatmapgl\": [{\"colorbar\": {\"outlinewidth\": 0, \"ticks\": \"\"}, \"colorscale\": [[0.0, \"#0d0887\"], [0.1111111111111111, \"#46039f\"], [0.2222222222222222, \"#7201a8\"], [0.3333333333333333, \"#9c179e\"], [0.4444444444444444, \"#bd3786\"], [0.5555555555555556, \"#d8576b\"], [0.6666666666666666, \"#ed7953\"], [0.7777777777777778, \"#fb9f3a\"], [0.8888888888888888, \"#fdca26\"], [1.0, \"#f0f921\"]], \"type\": \"heatmapgl\"}], \"histogram\": [{\"marker\": {\"colorbar\": {\"outlinewidth\": 0, \"ticks\": \"\"}}, \"type\": \"histogram\"}], \"histogram2d\": [{\"colorbar\": {\"outlinewidth\": 0, \"ticks\": \"\"}, \"colorscale\": [[0.0, \"#0d0887\"], [0.1111111111111111, \"#46039f\"], [0.2222222222222222, \"#7201a8\"], [0.3333333333333333, \"#9c179e\"], [0.4444444444444444, \"#bd3786\"], [0.5555555555555556, \"#d8576b\"], [0.6666666666666666, \"#ed7953\"], [0.7777777777777778, \"#fb9f3a\"], [0.8888888888888888, \"#fdca26\"], [1.0, \"#f0f921\"]], \"type\": \"histogram2d\"}], \"histogram2dcontour\": [{\"colorbar\": {\"outlinewidth\": 0, \"ticks\": \"\"}, \"colorscale\": [[0.0, \"#0d0887\"], [0.1111111111111111, \"#46039f\"], [0.2222222222222222, \"#7201a8\"], [0.3333333333333333, \"#9c179e\"], [0.4444444444444444, \"#bd3786\"], [0.5555555555555556, \"#d8576b\"], [0.6666666666666666, \"#ed7953\"], [0.7777777777777778, \"#fb9f3a\"], [0.8888888888888888, \"#fdca26\"], [1.0, \"#f0f921\"]], \"type\": \"histogram2dcontour\"}], \"mesh3d\": [{\"colorbar\": {\"outlinewidth\": 0, \"ticks\": \"\"}, \"type\": \"mesh3d\"}], \"parcoords\": [{\"line\": {\"colorbar\": {\"outlinewidth\": 0, \"ticks\": \"\"}}, \"type\": \"parcoords\"}], \"pie\": [{\"automargin\": true, \"type\": \"pie\"}], \"scatter\": [{\"marker\": {\"colorbar\": {\"outlinewidth\": 0, \"ticks\": \"\"}}, \"type\": \"scatter\"}], \"scatter3d\": [{\"line\": {\"colorbar\": {\"outlinewidth\": 0, \"ticks\": \"\"}}, \"marker\": {\"colorbar\": {\"outlinewidth\": 0, \"ticks\": \"\"}}, \"type\": \"scatter3d\"}], \"scattercarpet\": [{\"marker\": {\"colorbar\": {\"outlinewidth\": 0, \"ticks\": \"\"}}, \"type\": \"scattercarpet\"}], \"scattergeo\": [{\"marker\": {\"colorbar\": {\"outlinewidth\": 0, \"ticks\": \"\"}}, \"type\": \"scattergeo\"}], \"scattergl\": [{\"marker\": {\"colorbar\": {\"outlinewidth\": 0, \"ticks\": \"\"}}, \"type\": \"scattergl\"}], \"scattermapbox\": [{\"marker\": {\"colorbar\": {\"outlinewidth\": 0, \"ticks\": \"\"}}, \"type\": \"scattermapbox\"}], \"scatterpolar\": [{\"marker\": {\"colorbar\": {\"outlinewidth\": 0, \"ticks\": \"\"}}, \"type\": \"scatterpolar\"}], \"scatterpolargl\": [{\"marker\": {\"colorbar\": {\"outlinewidth\": 0, \"ticks\": \"\"}}, \"type\": \"scatterpolargl\"}], \"scatterternary\": [{\"marker\": {\"colorbar\": {\"outlinewidth\": 0, \"ticks\": \"\"}}, \"type\": \"scatterternary\"}], \"surface\": [{\"colorbar\": {\"outlinewidth\": 0, \"ticks\": \"\"}, \"colorscale\": [[0.0, \"#0d0887\"], [0.1111111111111111, \"#46039f\"], [0.2222222222222222, \"#7201a8\"], [0.3333333333333333, \"#9c179e\"], [0.4444444444444444, \"#bd3786\"], [0.5555555555555556, \"#d8576b\"], [0.6666666666666666, \"#ed7953\"], [0.7777777777777778, \"#fb9f3a\"], [0.8888888888888888, \"#fdca26\"], [1.0, \"#f0f921\"]], \"type\": \"surface\"}], \"table\": [{\"cells\": {\"fill\": {\"color\": \"#EBF0F8\"}, \"line\": {\"color\": \"white\"}}, \"header\": {\"fill\": {\"color\": \"#C8D4E3\"}, \"line\": {\"color\": \"white\"}}, \"type\": \"table\"}]}, \"layout\": {\"annotationdefaults\": {\"arrowcolor\": \"#2a3f5f\", \"arrowhead\": 0, \"arrowwidth\": 1}, \"autotypenumbers\": \"strict\", \"coloraxis\": {\"colorbar\": {\"outlinewidth\": 0, \"ticks\": \"\"}}, \"colorscale\": {\"diverging\": [[0, \"#8e0152\"], [0.1, \"#c51b7d\"], [0.2, \"#de77ae\"], [0.3, \"#f1b6da\"], [0.4, \"#fde0ef\"], [0.5, \"#f7f7f7\"], [0.6, \"#e6f5d0\"], [0.7, \"#b8e186\"], [0.8, \"#7fbc41\"], [0.9, \"#4d9221\"], [1, \"#276419\"]], \"sequential\": [[0.0, \"#0d0887\"], [0.1111111111111111, \"#46039f\"], [0.2222222222222222, \"#7201a8\"], [0.3333333333333333, \"#9c179e\"], [0.4444444444444444, \"#bd3786\"], [0.5555555555555556, \"#d8576b\"], [0.6666666666666666, \"#ed7953\"], [0.7777777777777778, \"#fb9f3a\"], [0.8888888888888888, \"#fdca26\"], [1.0, \"#f0f921\"]], \"sequentialminus\": [[0.0, \"#0d0887\"], [0.1111111111111111, \"#46039f\"], [0.2222222222222222, \"#7201a8\"], [0.3333333333333333, \"#9c179e\"], [0.4444444444444444, \"#bd3786\"], [0.5555555555555556, \"#d8576b\"], [0.6666666666666666, \"#ed7953\"], [0.7777777777777778, \"#fb9f3a\"], [0.8888888888888888, \"#fdca26\"], [1.0, \"#f0f921\"]]}, \"colorway\": [\"#636efa\", \"#EF553B\", \"#00cc96\", \"#ab63fa\", \"#FFA15A\", \"#19d3f3\", \"#FF6692\", \"#B6E880\", \"#FF97FF\", \"#FECB52\"], \"font\": {\"color\": \"#2a3f5f\"}, \"geo\": {\"bgcolor\": \"white\", \"lakecolor\": \"white\", \"landcolor\": \"#E5ECF6\", \"showlakes\": true, \"showland\": true, \"subunitcolor\": \"white\"}, \"hoverlabel\": {\"align\": \"left\"}, \"hovermode\": \"closest\", \"mapbox\": {\"style\": \"light\"}, \"paper_bgcolor\": \"white\", \"plot_bgcolor\": \"#E5ECF6\", \"polar\": {\"angularaxis\": {\"gridcolor\": \"white\", \"linecolor\": \"white\", \"ticks\": \"\"}, \"bgcolor\": \"#E5ECF6\", \"radialaxis\": {\"gridcolor\": \"white\", \"linecolor\": \"white\", \"ticks\": \"\"}}, \"scene\": {\"xaxis\": {\"backgroundcolor\": \"#E5ECF6\", \"gridcolor\": \"white\", \"gridwidth\": 2, \"linecolor\": \"white\", \"showbackground\": true, \"ticks\": \"\", \"zerolinecolor\": \"white\"}, \"yaxis\": {\"backgroundcolor\": \"#E5ECF6\", \"gridcolor\": \"white\", \"gridwidth\": 2, \"linecolor\": \"white\", \"showbackground\": true, \"ticks\": \"\", \"zerolinecolor\": \"white\"}, \"zaxis\": {\"backgroundcolor\": \"#E5ECF6\", \"gridcolor\": \"white\", \"gridwidth\": 2, \"linecolor\": \"white\", \"showbackground\": true, \"ticks\": \"\", \"zerolinecolor\": \"white\"}}, \"shapedefaults\": {\"line\": {\"color\": \"#2a3f5f\"}}, \"ternary\": {\"aaxis\": {\"gridcolor\": \"white\", \"linecolor\": \"white\", \"ticks\": \"\"}, \"baxis\": {\"gridcolor\": \"white\", \"linecolor\": \"white\", \"ticks\": \"\"}, \"bgcolor\": \"#E5ECF6\", \"caxis\": {\"gridcolor\": \"white\", \"linecolor\": \"white\", \"ticks\": \"\"}}, \"title\": {\"x\": 0.05}, \"xaxis\": {\"automargin\": true, \"gridcolor\": \"white\", \"linecolor\": \"white\", \"ticks\": \"\", \"title\": {\"standoff\": 15}, \"zerolinecolor\": \"white\", \"zerolinewidth\": 2}, \"yaxis\": {\"automargin\": true, \"gridcolor\": \"white\", \"linecolor\": \"white\", \"ticks\": \"\", \"title\": {\"standoff\": 15}, \"zerolinecolor\": \"white\", \"zerolinewidth\": 2}}}, \"xaxis\": {\"anchor\": \"y\", \"domain\": [0.0, 1.0], \"range\": [-0.5, 150.5], \"title\": {\"text\": \"Runs\"}}, \"yaxis\": {\"anchor\": \"x\", \"domain\": [0.0, 1.0], \"range\": [0, 11.5], \"title\": {\"text\": \"Percentage\"}}},                        {\"responsive\": true}                    ).then(function(){\n",
       "                            \n",
       "var gd = document.getElementById('0663da7a-f64c-4c41-8d7c-c2db42b4745e');\n",
       "var x = new MutationObserver(function (mutations, observer) {{\n",
       "        var display = window.getComputedStyle(gd).display;\n",
       "        if (!display || display === 'none') {{\n",
       "            console.log([gd, 'removed!']);\n",
       "            Plotly.purge(gd);\n",
       "            observer.disconnect();\n",
       "        }}\n",
       "}});\n",
       "\n",
       "// Listen for the removal of the full notebook cells\n",
       "var notebookContainer = gd.closest('#notebook-container');\n",
       "if (notebookContainer) {{\n",
       "    x.observe(notebookContainer, {childList: true});\n",
       "}}\n",
       "\n",
       "// Listen for the clearing of the current output cell\n",
       "var outputEl = gd.closest('.output');\n",
       "if (outputEl) {{\n",
       "    x.observe(outputEl, {childList: true});\n",
       "}}\n",
       "\n",
       "                        })                };                });            </script>        </div>"
      ]
     },
     "metadata": {},
     "output_type": "display_data"
    }
   ],
   "source": [
    "#Plot all scores\n",
    "df = pd.DataFrame({'Runs':runs.index, 'Count':runs.values})  ## Converting series type to pandas df as plotly accepts dataframe as input. The two columns of df is FuncGroup which is being made by index of series and new variable called count which is made by values of series s.\n",
    "df['Percentage'] = (df['Count']/total)*100\n",
    "fig = px.bar(df, x='Runs', y='Percentage')\n",
    "fig.update_yaxes(range=[0,11.5])\n",
    "fig.update_xaxes(range=[-0.5,150.5])\n",
    "fig.show()"
   ]
  },
  {
   "cell_type": "code",
   "execution_count": 76,
   "metadata": {},
   "outputs": [
    {
     "data": {
      "application/vnd.plotly.v1+json": {
       "config": {
        "plotlyServerURL": "https://plot.ly"
       },
       "data": [
        {
         "alignmentgroup": "True",
         "hovertemplate": "Runs=%{x}<br>Percentage=%{y}<extra></extra>",
         "legendgroup": "",
         "marker": {
          "color": "#636efa"
         },
         "name": "",
         "offsetgroup": "",
         "orientation": "v",
         "showlegend": false,
         "textposition": "auto",
         "type": "bar",
         "x": [
          0,
          1,
          2,
          4,
          5,
          3,
          6,
          7,
          8,
          9,
          10,
          11,
          12,
          13,
          14,
          15,
          16,
          17,
          19,
          18,
          20,
          21,
          22,
          24,
          23,
          25,
          26,
          28,
          27,
          29,
          30,
          31,
          33,
          38,
          32,
          35,
          34,
          36,
          37,
          40,
          39,
          43,
          41,
          42,
          50,
          44,
          46,
          45,
          51,
          52,
          47,
          53,
          48,
          55,
          54,
          49,
          56,
          63,
          58,
          59,
          62,
          57,
          60,
          61,
          64,
          65,
          67,
          71,
          68,
          66,
          69,
          74,
          72,
          76,
          70,
          73,
          79,
          75,
          77,
          80,
          78,
          82,
          83,
          81,
          89,
          84,
          86,
          87,
          85,
          90,
          102,
          88,
          91,
          92,
          95,
          101,
          103,
          100,
          104,
          109,
          94,
          96,
          106,
          105,
          97,
          110,
          107,
          93,
          112,
          113,
          117,
          98,
          108,
          99,
          119,
          115,
          118,
          116,
          111,
          121,
          124,
          127,
          126,
          128,
          122,
          114,
          123,
          130,
          120,
          129,
          138,
          125,
          136,
          137,
          135,
          131,
          139,
          144,
          147,
          134,
          143,
          133,
          140,
          176,
          148,
          150,
          132,
          146,
          149,
          156,
          141,
          151,
          142,
          158,
          153,
          169,
          152,
          160,
          173,
          162,
          166,
          159,
          161,
          180,
          167,
          145,
          157,
          164,
          192,
          163,
          174,
          202,
          226,
          175,
          165,
          215,
          224,
          177,
          154,
          196,
          199,
          186,
          155,
          171,
          190,
          195,
          193,
          170,
          239,
          185,
          243,
          200,
          179,
          178,
          168,
          203,
          211,
          218,
          212,
          206,
          191,
          194,
          187,
          213,
          209,
          189,
          184,
          183,
          214,
          182,
          181,
          221,
          219,
          319,
          204,
          235,
          201,
          172,
          227,
          270,
          267,
          293,
          313,
          232,
          258,
          230,
          251,
          374,
          188,
          217,
          231,
          253,
          317,
          333,
          216,
          254,
          234,
          260,
          228,
          240,
          238,
          264,
          290,
          302,
          225,
          263,
          210,
          287,
          208,
          294,
          262,
          275,
          236,
          197,
          245,
          291,
          205
         ],
         "xaxis": "x",
         "y": [
          11.310041799221079,
          5.807666519251894,
          4.401044267229696,
          4.091473244218726,
          3.586458764283778,
          3.1713197426423387,
          3.1213889324792787,
          2.7932721799791715,
          2.709103099990014,
          2.4751415895116766,
          2.3995320769790434,
          2.212648187511591,
          2.1883960797181046,
          2.0913876485441603,
          1.871692083826697,
          1.7918027875658018,
          1.6691156540222833,
          1.6320241950440104,
          1.5022040886200552,
          1.5007774940439678,
          1.3681041984678375,
          1.3467052798265262,
          1.2810819293265048,
          1.2582564161091059,
          1.2225915517069204,
          1.1455554445981997,
          1.065666148337304,
          1.0171619327503318,
          0.9786438791959713,
          0.937272636489436,
          0.9215800961524745,
          0.893048204630726,
          0.8003195571850437,
          0.7518153415980712,
          0.7518153415980712,
          0.7432557741415468,
          0.7318430175328473,
          0.720430260924148,
          0.683338801945875,
          0.646247342967602,
          0.6405409646632524,
          0.5948899382284548,
          0.5948899382284548,
          0.5392527497610454,
          0.5363995606088706,
          0.5321197768806083,
          0.5306931823045208,
          0.5092942636632095,
          0.4593634535001498,
          0.4493772914675378,
          0.4422443185871008,
          0.39801988672839067,
          0.392313508424041,
          0.37804756266316675,
          0.3737677789349045,
          0.3709145897827297,
          0.3709145897827297,
          0.3352497253805441,
          0.33239653622836923,
          0.328116752500107,
          0.32669015792401956,
          0.30529123928270824,
          0.29673167182618376,
          0.27818594233704724,
          0.273906158608785,
          0.2710529694566101,
          0.26677318572834785,
          0.24537426708703655,
          0.24109448335877426,
          0.23824129420659942,
          0.2311083213261623,
          0.2082828081087636,
          0.199723240652239,
          0.19829664607615163,
          0.19401686234788934,
          0.18973707861962708,
          0.18260410573918998,
          0.1783243220109277,
          0.17689772743484028,
          0.16120518709787865,
          0.14836583591309188,
          0.14693924133700442,
          0.13980626845656732,
          0.13837967388047992,
          0.11555416066308115,
          0.11412756608699373,
          0.11270097151090631,
          0.11270097151090631,
          0.1112743769348189,
          0.10556799863046921,
          0.10128821490220694,
          0.10128821490220694,
          0.09700843117394467,
          0.09700843117394467,
          0.09700843117394467,
          0.09700843117394467,
          0.08702226914133272,
          0.08416907998915789,
          0.08416907998915789,
          0.08131589083698304,
          0.07988929626089561,
          0.07988929626089561,
          0.07560951253263336,
          0.07275632338045851,
          0.07275632338045851,
          0.06990313422828366,
          0.06847653965219624,
          0.06704994507610883,
          0.05849037761958428,
          0.05849037761958428,
          0.05563718846740945,
          0.054210593891322024,
          0.05278399931523461,
          0.05278399931523461,
          0.05135740473914718,
          0.05135740473914718,
          0.048504215586972335,
          0.048504215586972335,
          0.045651026434797494,
          0.04279783728262265,
          0.04137124270653523,
          0.03851805355436039,
          0.03709145897827297,
          0.03566486440218554,
          0.03566486440218554,
          0.03423826982609812,
          0.0328116752500107,
          0.0328116752500107,
          0.031385080673923274,
          0.029958486097835857,
          0.028531891521748433,
          0.027105296945661012,
          0.027105296945661012,
          0.024252107793486168,
          0.022825513217398747,
          0.022825513217398747,
          0.021398918641311326,
          0.021398918641311326,
          0.021398918641311326,
          0.021398918641311326,
          0.021398918641311326,
          0.019972324065223902,
          0.019972324065223902,
          0.018545729489136485,
          0.01711913491304906,
          0.01711913491304906,
          0.01711913491304906,
          0.01711913491304906,
          0.015692540336961637,
          0.015692540336961637,
          0.015692540336961637,
          0.015692540336961637,
          0.012839351184786796,
          0.012839351184786796,
          0.011412756608699373,
          0.011412756608699373,
          0.011412756608699373,
          0.011412756608699373,
          0.011412756608699373,
          0.009986162032611951,
          0.009986162032611951,
          0.009986162032611951,
          0.009986162032611951,
          0.00855956745652453,
          0.00855956745652453,
          0.00855956745652453,
          0.00855956745652453,
          0.00855956745652453,
          0.00855956745652453,
          0.007132972880437108,
          0.007132972880437108,
          0.007132972880437108,
          0.007132972880437108,
          0.007132972880437108,
          0.007132972880437108,
          0.007132972880437108,
          0.007132972880437108,
          0.007132972880437108,
          0.007132972880437108,
          0.007132972880437108,
          0.007132972880437108,
          0.007132972880437108,
          0.005706378304349687,
          0.005706378304349687,
          0.005706378304349687,
          0.005706378304349687,
          0.004279783728262265,
          0.004279783728262265,
          0.004279783728262265,
          0.004279783728262265,
          0.004279783728262265,
          0.004279783728262265,
          0.004279783728262265,
          0.004279783728262265,
          0.004279783728262265,
          0.004279783728262265,
          0.004279783728262265,
          0.004279783728262265,
          0.004279783728262265,
          0.004279783728262265,
          0.004279783728262265,
          0.0028531891521748434,
          0.0028531891521748434,
          0.0028531891521748434,
          0.0028531891521748434,
          0.0028531891521748434,
          0.0028531891521748434,
          0.0028531891521748434,
          0.0028531891521748434,
          0.0028531891521748434,
          0.0028531891521748434,
          0.0028531891521748434,
          0.0028531891521748434,
          0.0028531891521748434,
          0.0028531891521748434,
          0.0028531891521748434,
          0.0028531891521748434,
          0.0028531891521748434,
          0.0014265945760874217,
          0.0014265945760874217,
          0.0014265945760874217,
          0.0014265945760874217,
          0.0014265945760874217,
          0.0014265945760874217,
          0.0014265945760874217,
          0.0014265945760874217,
          0.0014265945760874217,
          0.0014265945760874217,
          0.0014265945760874217,
          0.0014265945760874217,
          0.0014265945760874217,
          0.0014265945760874217,
          0.0014265945760874217,
          0.0014265945760874217,
          0.0014265945760874217,
          0.0014265945760874217,
          0.0014265945760874217,
          0.0014265945760874217,
          0.0014265945760874217,
          0.0014265945760874217,
          0.0014265945760874217,
          0.0014265945760874217,
          0.0014265945760874217,
          0.0014265945760874217,
          0.0014265945760874217,
          0.0014265945760874217,
          0.0014265945760874217,
          0.0014265945760874217,
          0.0014265945760874217,
          0.0014265945760874217,
          0.0014265945760874217,
          0.0014265945760874217,
          0.0014265945760874217,
          0.0014265945760874217,
          0.0014265945760874217,
          0.0014265945760874217,
          0.0014265945760874217
         ],
         "yaxis": "y"
        }
       ],
       "layout": {
        "barmode": "relative",
        "legend": {
         "tracegroupgap": 0
        },
        "margin": {
         "t": 60
        },
        "template": {
         "data": {
          "bar": [
           {
            "error_x": {
             "color": "#2a3f5f"
            },
            "error_y": {
             "color": "#2a3f5f"
            },
            "marker": {
             "line": {
              "color": "#E5ECF6",
              "width": 0.5
             }
            },
            "type": "bar"
           }
          ],
          "barpolar": [
           {
            "marker": {
             "line": {
              "color": "#E5ECF6",
              "width": 0.5
             }
            },
            "type": "barpolar"
           }
          ],
          "carpet": [
           {
            "aaxis": {
             "endlinecolor": "#2a3f5f",
             "gridcolor": "white",
             "linecolor": "white",
             "minorgridcolor": "white",
             "startlinecolor": "#2a3f5f"
            },
            "baxis": {
             "endlinecolor": "#2a3f5f",
             "gridcolor": "white",
             "linecolor": "white",
             "minorgridcolor": "white",
             "startlinecolor": "#2a3f5f"
            },
            "type": "carpet"
           }
          ],
          "choropleth": [
           {
            "colorbar": {
             "outlinewidth": 0,
             "ticks": ""
            },
            "type": "choropleth"
           }
          ],
          "contour": [
           {
            "colorbar": {
             "outlinewidth": 0,
             "ticks": ""
            },
            "colorscale": [
             [
              0,
              "#0d0887"
             ],
             [
              0.1111111111111111,
              "#46039f"
             ],
             [
              0.2222222222222222,
              "#7201a8"
             ],
             [
              0.3333333333333333,
              "#9c179e"
             ],
             [
              0.4444444444444444,
              "#bd3786"
             ],
             [
              0.5555555555555556,
              "#d8576b"
             ],
             [
              0.6666666666666666,
              "#ed7953"
             ],
             [
              0.7777777777777778,
              "#fb9f3a"
             ],
             [
              0.8888888888888888,
              "#fdca26"
             ],
             [
              1,
              "#f0f921"
             ]
            ],
            "type": "contour"
           }
          ],
          "contourcarpet": [
           {
            "colorbar": {
             "outlinewidth": 0,
             "ticks": ""
            },
            "type": "contourcarpet"
           }
          ],
          "heatmap": [
           {
            "colorbar": {
             "outlinewidth": 0,
             "ticks": ""
            },
            "colorscale": [
             [
              0,
              "#0d0887"
             ],
             [
              0.1111111111111111,
              "#46039f"
             ],
             [
              0.2222222222222222,
              "#7201a8"
             ],
             [
              0.3333333333333333,
              "#9c179e"
             ],
             [
              0.4444444444444444,
              "#bd3786"
             ],
             [
              0.5555555555555556,
              "#d8576b"
             ],
             [
              0.6666666666666666,
              "#ed7953"
             ],
             [
              0.7777777777777778,
              "#fb9f3a"
             ],
             [
              0.8888888888888888,
              "#fdca26"
             ],
             [
              1,
              "#f0f921"
             ]
            ],
            "type": "heatmap"
           }
          ],
          "heatmapgl": [
           {
            "colorbar": {
             "outlinewidth": 0,
             "ticks": ""
            },
            "colorscale": [
             [
              0,
              "#0d0887"
             ],
             [
              0.1111111111111111,
              "#46039f"
             ],
             [
              0.2222222222222222,
              "#7201a8"
             ],
             [
              0.3333333333333333,
              "#9c179e"
             ],
             [
              0.4444444444444444,
              "#bd3786"
             ],
             [
              0.5555555555555556,
              "#d8576b"
             ],
             [
              0.6666666666666666,
              "#ed7953"
             ],
             [
              0.7777777777777778,
              "#fb9f3a"
             ],
             [
              0.8888888888888888,
              "#fdca26"
             ],
             [
              1,
              "#f0f921"
             ]
            ],
            "type": "heatmapgl"
           }
          ],
          "histogram": [
           {
            "marker": {
             "colorbar": {
              "outlinewidth": 0,
              "ticks": ""
             }
            },
            "type": "histogram"
           }
          ],
          "histogram2d": [
           {
            "colorbar": {
             "outlinewidth": 0,
             "ticks": ""
            },
            "colorscale": [
             [
              0,
              "#0d0887"
             ],
             [
              0.1111111111111111,
              "#46039f"
             ],
             [
              0.2222222222222222,
              "#7201a8"
             ],
             [
              0.3333333333333333,
              "#9c179e"
             ],
             [
              0.4444444444444444,
              "#bd3786"
             ],
             [
              0.5555555555555556,
              "#d8576b"
             ],
             [
              0.6666666666666666,
              "#ed7953"
             ],
             [
              0.7777777777777778,
              "#fb9f3a"
             ],
             [
              0.8888888888888888,
              "#fdca26"
             ],
             [
              1,
              "#f0f921"
             ]
            ],
            "type": "histogram2d"
           }
          ],
          "histogram2dcontour": [
           {
            "colorbar": {
             "outlinewidth": 0,
             "ticks": ""
            },
            "colorscale": [
             [
              0,
              "#0d0887"
             ],
             [
              0.1111111111111111,
              "#46039f"
             ],
             [
              0.2222222222222222,
              "#7201a8"
             ],
             [
              0.3333333333333333,
              "#9c179e"
             ],
             [
              0.4444444444444444,
              "#bd3786"
             ],
             [
              0.5555555555555556,
              "#d8576b"
             ],
             [
              0.6666666666666666,
              "#ed7953"
             ],
             [
              0.7777777777777778,
              "#fb9f3a"
             ],
             [
              0.8888888888888888,
              "#fdca26"
             ],
             [
              1,
              "#f0f921"
             ]
            ],
            "type": "histogram2dcontour"
           }
          ],
          "mesh3d": [
           {
            "colorbar": {
             "outlinewidth": 0,
             "ticks": ""
            },
            "type": "mesh3d"
           }
          ],
          "parcoords": [
           {
            "line": {
             "colorbar": {
              "outlinewidth": 0,
              "ticks": ""
             }
            },
            "type": "parcoords"
           }
          ],
          "pie": [
           {
            "automargin": true,
            "type": "pie"
           }
          ],
          "scatter": [
           {
            "marker": {
             "colorbar": {
              "outlinewidth": 0,
              "ticks": ""
             }
            },
            "type": "scatter"
           }
          ],
          "scatter3d": [
           {
            "line": {
             "colorbar": {
              "outlinewidth": 0,
              "ticks": ""
             }
            },
            "marker": {
             "colorbar": {
              "outlinewidth": 0,
              "ticks": ""
             }
            },
            "type": "scatter3d"
           }
          ],
          "scattercarpet": [
           {
            "marker": {
             "colorbar": {
              "outlinewidth": 0,
              "ticks": ""
             }
            },
            "type": "scattercarpet"
           }
          ],
          "scattergeo": [
           {
            "marker": {
             "colorbar": {
              "outlinewidth": 0,
              "ticks": ""
             }
            },
            "type": "scattergeo"
           }
          ],
          "scattergl": [
           {
            "marker": {
             "colorbar": {
              "outlinewidth": 0,
              "ticks": ""
             }
            },
            "type": "scattergl"
           }
          ],
          "scattermapbox": [
           {
            "marker": {
             "colorbar": {
              "outlinewidth": 0,
              "ticks": ""
             }
            },
            "type": "scattermapbox"
           }
          ],
          "scatterpolar": [
           {
            "marker": {
             "colorbar": {
              "outlinewidth": 0,
              "ticks": ""
             }
            },
            "type": "scatterpolar"
           }
          ],
          "scatterpolargl": [
           {
            "marker": {
             "colorbar": {
              "outlinewidth": 0,
              "ticks": ""
             }
            },
            "type": "scatterpolargl"
           }
          ],
          "scatterternary": [
           {
            "marker": {
             "colorbar": {
              "outlinewidth": 0,
              "ticks": ""
             }
            },
            "type": "scatterternary"
           }
          ],
          "surface": [
           {
            "colorbar": {
             "outlinewidth": 0,
             "ticks": ""
            },
            "colorscale": [
             [
              0,
              "#0d0887"
             ],
             [
              0.1111111111111111,
              "#46039f"
             ],
             [
              0.2222222222222222,
              "#7201a8"
             ],
             [
              0.3333333333333333,
              "#9c179e"
             ],
             [
              0.4444444444444444,
              "#bd3786"
             ],
             [
              0.5555555555555556,
              "#d8576b"
             ],
             [
              0.6666666666666666,
              "#ed7953"
             ],
             [
              0.7777777777777778,
              "#fb9f3a"
             ],
             [
              0.8888888888888888,
              "#fdca26"
             ],
             [
              1,
              "#f0f921"
             ]
            ],
            "type": "surface"
           }
          ],
          "table": [
           {
            "cells": {
             "fill": {
              "color": "#EBF0F8"
             },
             "line": {
              "color": "white"
             }
            },
            "header": {
             "fill": {
              "color": "#C8D4E3"
             },
             "line": {
              "color": "white"
             }
            },
            "type": "table"
           }
          ]
         },
         "layout": {
          "annotationdefaults": {
           "arrowcolor": "#2a3f5f",
           "arrowhead": 0,
           "arrowwidth": 1
          },
          "autotypenumbers": "strict",
          "coloraxis": {
           "colorbar": {
            "outlinewidth": 0,
            "ticks": ""
           }
          },
          "colorscale": {
           "diverging": [
            [
             0,
             "#8e0152"
            ],
            [
             0.1,
             "#c51b7d"
            ],
            [
             0.2,
             "#de77ae"
            ],
            [
             0.3,
             "#f1b6da"
            ],
            [
             0.4,
             "#fde0ef"
            ],
            [
             0.5,
             "#f7f7f7"
            ],
            [
             0.6,
             "#e6f5d0"
            ],
            [
             0.7,
             "#b8e186"
            ],
            [
             0.8,
             "#7fbc41"
            ],
            [
             0.9,
             "#4d9221"
            ],
            [
             1,
             "#276419"
            ]
           ],
           "sequential": [
            [
             0,
             "#0d0887"
            ],
            [
             0.1111111111111111,
             "#46039f"
            ],
            [
             0.2222222222222222,
             "#7201a8"
            ],
            [
             0.3333333333333333,
             "#9c179e"
            ],
            [
             0.4444444444444444,
             "#bd3786"
            ],
            [
             0.5555555555555556,
             "#d8576b"
            ],
            [
             0.6666666666666666,
             "#ed7953"
            ],
            [
             0.7777777777777778,
             "#fb9f3a"
            ],
            [
             0.8888888888888888,
             "#fdca26"
            ],
            [
             1,
             "#f0f921"
            ]
           ],
           "sequentialminus": [
            [
             0,
             "#0d0887"
            ],
            [
             0.1111111111111111,
             "#46039f"
            ],
            [
             0.2222222222222222,
             "#7201a8"
            ],
            [
             0.3333333333333333,
             "#9c179e"
            ],
            [
             0.4444444444444444,
             "#bd3786"
            ],
            [
             0.5555555555555556,
             "#d8576b"
            ],
            [
             0.6666666666666666,
             "#ed7953"
            ],
            [
             0.7777777777777778,
             "#fb9f3a"
            ],
            [
             0.8888888888888888,
             "#fdca26"
            ],
            [
             1,
             "#f0f921"
            ]
           ]
          },
          "colorway": [
           "#636efa",
           "#EF553B",
           "#00cc96",
           "#ab63fa",
           "#FFA15A",
           "#19d3f3",
           "#FF6692",
           "#B6E880",
           "#FF97FF",
           "#FECB52"
          ],
          "font": {
           "color": "#2a3f5f"
          },
          "geo": {
           "bgcolor": "white",
           "lakecolor": "white",
           "landcolor": "#E5ECF6",
           "showlakes": true,
           "showland": true,
           "subunitcolor": "white"
          },
          "hoverlabel": {
           "align": "left"
          },
          "hovermode": "closest",
          "mapbox": {
           "style": "light"
          },
          "paper_bgcolor": "white",
          "plot_bgcolor": "#E5ECF6",
          "polar": {
           "angularaxis": {
            "gridcolor": "white",
            "linecolor": "white",
            "ticks": ""
           },
           "bgcolor": "#E5ECF6",
           "radialaxis": {
            "gridcolor": "white",
            "linecolor": "white",
            "ticks": ""
           }
          },
          "scene": {
           "xaxis": {
            "backgroundcolor": "#E5ECF6",
            "gridcolor": "white",
            "gridwidth": 2,
            "linecolor": "white",
            "showbackground": true,
            "ticks": "",
            "zerolinecolor": "white"
           },
           "yaxis": {
            "backgroundcolor": "#E5ECF6",
            "gridcolor": "white",
            "gridwidth": 2,
            "linecolor": "white",
            "showbackground": true,
            "ticks": "",
            "zerolinecolor": "white"
           },
           "zaxis": {
            "backgroundcolor": "#E5ECF6",
            "gridcolor": "white",
            "gridwidth": 2,
            "linecolor": "white",
            "showbackground": true,
            "ticks": "",
            "zerolinecolor": "white"
           }
          },
          "shapedefaults": {
           "line": {
            "color": "#2a3f5f"
           }
          },
          "ternary": {
           "aaxis": {
            "gridcolor": "white",
            "linecolor": "white",
            "ticks": ""
           },
           "baxis": {
            "gridcolor": "white",
            "linecolor": "white",
            "ticks": ""
           },
           "bgcolor": "#E5ECF6",
           "caxis": {
            "gridcolor": "white",
            "linecolor": "white",
            "ticks": ""
           }
          },
          "title": {
           "x": 0.05
          },
          "xaxis": {
           "automargin": true,
           "gridcolor": "white",
           "linecolor": "white",
           "ticks": "",
           "title": {
            "standoff": 15
           },
           "zerolinecolor": "white",
           "zerolinewidth": 2
          },
          "yaxis": {
           "automargin": true,
           "gridcolor": "white",
           "linecolor": "white",
           "ticks": "",
           "title": {
            "standoff": 15
           },
           "zerolinecolor": "white",
           "zerolinewidth": 2
          }
         }
        },
        "xaxis": {
         "anchor": "y",
         "domain": [
          0,
          1
         ],
         "range": [
          39.5,
          60.5
         ],
         "title": {
          "text": "Runs"
         }
        },
        "yaxis": {
         "anchor": "x",
         "domain": [
          0,
          1
         ],
         "range": [
          0,
          0.7
         ],
         "title": {
          "text": "Percentage"
         }
        }
       }
      },
      "text/html": [
       "<div>                            <div id=\"a95c3f40-6261-4886-ae2a-e4e9d045ab2b\" class=\"plotly-graph-div\" style=\"height:525px; width:100%;\"></div>            <script type=\"text/javascript\">                require([\"plotly\"], function(Plotly) {                    window.PLOTLYENV=window.PLOTLYENV || {};                                    if (document.getElementById(\"a95c3f40-6261-4886-ae2a-e4e9d045ab2b\")) {                    Plotly.newPlot(                        \"a95c3f40-6261-4886-ae2a-e4e9d045ab2b\",                        [{\"alignmentgroup\": \"True\", \"hovertemplate\": \"Runs=%{x}<br>Percentage=%{y}<extra></extra>\", \"legendgroup\": \"\", \"marker\": {\"color\": \"#636efa\"}, \"name\": \"\", \"offsetgroup\": \"\", \"orientation\": \"v\", \"showlegend\": false, \"textposition\": \"auto\", \"type\": \"bar\", \"x\": [0, 1, 2, 4, 5, 3, 6, 7, 8, 9, 10, 11, 12, 13, 14, 15, 16, 17, 19, 18, 20, 21, 22, 24, 23, 25, 26, 28, 27, 29, 30, 31, 33, 38, 32, 35, 34, 36, 37, 40, 39, 43, 41, 42, 50, 44, 46, 45, 51, 52, 47, 53, 48, 55, 54, 49, 56, 63, 58, 59, 62, 57, 60, 61, 64, 65, 67, 71, 68, 66, 69, 74, 72, 76, 70, 73, 79, 75, 77, 80, 78, 82, 83, 81, 89, 84, 86, 87, 85, 90, 102, 88, 91, 92, 95, 101, 103, 100, 104, 109, 94, 96, 106, 105, 97, 110, 107, 93, 112, 113, 117, 98, 108, 99, 119, 115, 118, 116, 111, 121, 124, 127, 126, 128, 122, 114, 123, 130, 120, 129, 138, 125, 136, 137, 135, 131, 139, 144, 147, 134, 143, 133, 140, 176, 148, 150, 132, 146, 149, 156, 141, 151, 142, 158, 153, 169, 152, 160, 173, 162, 166, 159, 161, 180, 167, 145, 157, 164, 192, 163, 174, 202, 226, 175, 165, 215, 224, 177, 154, 196, 199, 186, 155, 171, 190, 195, 193, 170, 239, 185, 243, 200, 179, 178, 168, 203, 211, 218, 212, 206, 191, 194, 187, 213, 209, 189, 184, 183, 214, 182, 181, 221, 219, 319, 204, 235, 201, 172, 227, 270, 267, 293, 313, 232, 258, 230, 251, 374, 188, 217, 231, 253, 317, 333, 216, 254, 234, 260, 228, 240, 238, 264, 290, 302, 225, 263, 210, 287, 208, 294, 262, 275, 236, 197, 245, 291, 205], \"xaxis\": \"x\", \"y\": [11.310041799221079, 5.807666519251894, 4.401044267229696, 4.091473244218726, 3.586458764283778, 3.1713197426423387, 3.1213889324792787, 2.7932721799791715, 2.709103099990014, 2.4751415895116766, 2.3995320769790434, 2.212648187511591, 2.1883960797181046, 2.0913876485441603, 1.871692083826697, 1.7918027875658018, 1.6691156540222833, 1.6320241950440104, 1.5022040886200552, 1.5007774940439678, 1.3681041984678375, 1.3467052798265262, 1.2810819293265048, 1.2582564161091059, 1.2225915517069204, 1.1455554445981997, 1.065666148337304, 1.0171619327503318, 0.9786438791959713, 0.937272636489436, 0.9215800961524745, 0.893048204630726, 0.8003195571850437, 0.7518153415980712, 0.7518153415980712, 0.7432557741415468, 0.7318430175328473, 0.720430260924148, 0.683338801945875, 0.646247342967602, 0.6405409646632524, 0.5948899382284548, 0.5948899382284548, 0.5392527497610454, 0.5363995606088706, 0.5321197768806083, 0.5306931823045208, 0.5092942636632095, 0.4593634535001498, 0.4493772914675378, 0.4422443185871008, 0.39801988672839067, 0.392313508424041, 0.37804756266316675, 0.3737677789349045, 0.3709145897827297, 0.3709145897827297, 0.3352497253805441, 0.33239653622836923, 0.328116752500107, 0.32669015792401956, 0.30529123928270824, 0.29673167182618376, 0.27818594233704724, 0.273906158608785, 0.2710529694566101, 0.26677318572834785, 0.24537426708703655, 0.24109448335877426, 0.23824129420659942, 0.2311083213261623, 0.2082828081087636, 0.199723240652239, 0.19829664607615163, 0.19401686234788934, 0.18973707861962708, 0.18260410573918998, 0.1783243220109277, 0.17689772743484028, 0.16120518709787865, 0.14836583591309188, 0.14693924133700442, 0.13980626845656732, 0.13837967388047992, 0.11555416066308115, 0.11412756608699373, 0.11270097151090631, 0.11270097151090631, 0.1112743769348189, 0.10556799863046921, 0.10128821490220694, 0.10128821490220694, 0.09700843117394467, 0.09700843117394467, 0.09700843117394467, 0.09700843117394467, 0.08702226914133272, 0.08416907998915789, 0.08416907998915789, 0.08131589083698304, 0.07988929626089561, 0.07988929626089561, 0.07560951253263336, 0.07275632338045851, 0.07275632338045851, 0.06990313422828366, 0.06847653965219624, 0.06704994507610883, 0.05849037761958428, 0.05849037761958428, 0.05563718846740945, 0.054210593891322024, 0.05278399931523461, 0.05278399931523461, 0.05135740473914718, 0.05135740473914718, 0.048504215586972335, 0.048504215586972335, 0.045651026434797494, 0.04279783728262265, 0.04137124270653523, 0.03851805355436039, 0.03709145897827297, 0.03566486440218554, 0.03566486440218554, 0.03423826982609812, 0.0328116752500107, 0.0328116752500107, 0.031385080673923274, 0.029958486097835857, 0.028531891521748433, 0.027105296945661012, 0.027105296945661012, 0.024252107793486168, 0.022825513217398747, 0.022825513217398747, 0.021398918641311326, 0.021398918641311326, 0.021398918641311326, 0.021398918641311326, 0.021398918641311326, 0.019972324065223902, 0.019972324065223902, 0.018545729489136485, 0.01711913491304906, 0.01711913491304906, 0.01711913491304906, 0.01711913491304906, 0.015692540336961637, 0.015692540336961637, 0.015692540336961637, 0.015692540336961637, 0.012839351184786796, 0.012839351184786796, 0.011412756608699373, 0.011412756608699373, 0.011412756608699373, 0.011412756608699373, 0.011412756608699373, 0.009986162032611951, 0.009986162032611951, 0.009986162032611951, 0.009986162032611951, 0.00855956745652453, 0.00855956745652453, 0.00855956745652453, 0.00855956745652453, 0.00855956745652453, 0.00855956745652453, 0.007132972880437108, 0.007132972880437108, 0.007132972880437108, 0.007132972880437108, 0.007132972880437108, 0.007132972880437108, 0.007132972880437108, 0.007132972880437108, 0.007132972880437108, 0.007132972880437108, 0.007132972880437108, 0.007132972880437108, 0.007132972880437108, 0.005706378304349687, 0.005706378304349687, 0.005706378304349687, 0.005706378304349687, 0.004279783728262265, 0.004279783728262265, 0.004279783728262265, 0.004279783728262265, 0.004279783728262265, 0.004279783728262265, 0.004279783728262265, 0.004279783728262265, 0.004279783728262265, 0.004279783728262265, 0.004279783728262265, 0.004279783728262265, 0.004279783728262265, 0.004279783728262265, 0.004279783728262265, 0.0028531891521748434, 0.0028531891521748434, 0.0028531891521748434, 0.0028531891521748434, 0.0028531891521748434, 0.0028531891521748434, 0.0028531891521748434, 0.0028531891521748434, 0.0028531891521748434, 0.0028531891521748434, 0.0028531891521748434, 0.0028531891521748434, 0.0028531891521748434, 0.0028531891521748434, 0.0028531891521748434, 0.0028531891521748434, 0.0028531891521748434, 0.0014265945760874217, 0.0014265945760874217, 0.0014265945760874217, 0.0014265945760874217, 0.0014265945760874217, 0.0014265945760874217, 0.0014265945760874217, 0.0014265945760874217, 0.0014265945760874217, 0.0014265945760874217, 0.0014265945760874217, 0.0014265945760874217, 0.0014265945760874217, 0.0014265945760874217, 0.0014265945760874217, 0.0014265945760874217, 0.0014265945760874217, 0.0014265945760874217, 0.0014265945760874217, 0.0014265945760874217, 0.0014265945760874217, 0.0014265945760874217, 0.0014265945760874217, 0.0014265945760874217, 0.0014265945760874217, 0.0014265945760874217, 0.0014265945760874217, 0.0014265945760874217, 0.0014265945760874217, 0.0014265945760874217, 0.0014265945760874217, 0.0014265945760874217, 0.0014265945760874217, 0.0014265945760874217, 0.0014265945760874217, 0.0014265945760874217, 0.0014265945760874217, 0.0014265945760874217, 0.0014265945760874217], \"yaxis\": \"y\"}],                        {\"barmode\": \"relative\", \"legend\": {\"tracegroupgap\": 0}, \"margin\": {\"t\": 60}, \"template\": {\"data\": {\"bar\": [{\"error_x\": {\"color\": \"#2a3f5f\"}, \"error_y\": {\"color\": \"#2a3f5f\"}, \"marker\": {\"line\": {\"color\": \"#E5ECF6\", \"width\": 0.5}}, \"type\": \"bar\"}], \"barpolar\": [{\"marker\": {\"line\": {\"color\": \"#E5ECF6\", \"width\": 0.5}}, \"type\": \"barpolar\"}], \"carpet\": [{\"aaxis\": {\"endlinecolor\": \"#2a3f5f\", \"gridcolor\": \"white\", \"linecolor\": \"white\", \"minorgridcolor\": \"white\", \"startlinecolor\": \"#2a3f5f\"}, \"baxis\": {\"endlinecolor\": \"#2a3f5f\", \"gridcolor\": \"white\", \"linecolor\": \"white\", \"minorgridcolor\": \"white\", \"startlinecolor\": \"#2a3f5f\"}, \"type\": \"carpet\"}], \"choropleth\": [{\"colorbar\": {\"outlinewidth\": 0, \"ticks\": \"\"}, \"type\": \"choropleth\"}], \"contour\": [{\"colorbar\": {\"outlinewidth\": 0, \"ticks\": \"\"}, \"colorscale\": [[0.0, \"#0d0887\"], [0.1111111111111111, \"#46039f\"], [0.2222222222222222, \"#7201a8\"], [0.3333333333333333, \"#9c179e\"], [0.4444444444444444, \"#bd3786\"], [0.5555555555555556, \"#d8576b\"], [0.6666666666666666, \"#ed7953\"], [0.7777777777777778, \"#fb9f3a\"], [0.8888888888888888, \"#fdca26\"], [1.0, \"#f0f921\"]], \"type\": \"contour\"}], \"contourcarpet\": [{\"colorbar\": {\"outlinewidth\": 0, \"ticks\": \"\"}, \"type\": \"contourcarpet\"}], \"heatmap\": [{\"colorbar\": {\"outlinewidth\": 0, \"ticks\": \"\"}, \"colorscale\": [[0.0, \"#0d0887\"], [0.1111111111111111, \"#46039f\"], [0.2222222222222222, \"#7201a8\"], [0.3333333333333333, \"#9c179e\"], [0.4444444444444444, \"#bd3786\"], [0.5555555555555556, \"#d8576b\"], [0.6666666666666666, \"#ed7953\"], [0.7777777777777778, \"#fb9f3a\"], [0.8888888888888888, \"#fdca26\"], [1.0, \"#f0f921\"]], \"type\": \"heatmap\"}], \"heatmapgl\": [{\"colorbar\": {\"outlinewidth\": 0, \"ticks\": \"\"}, \"colorscale\": [[0.0, \"#0d0887\"], [0.1111111111111111, \"#46039f\"], [0.2222222222222222, \"#7201a8\"], [0.3333333333333333, \"#9c179e\"], [0.4444444444444444, \"#bd3786\"], [0.5555555555555556, \"#d8576b\"], [0.6666666666666666, \"#ed7953\"], [0.7777777777777778, \"#fb9f3a\"], [0.8888888888888888, \"#fdca26\"], [1.0, \"#f0f921\"]], \"type\": \"heatmapgl\"}], \"histogram\": [{\"marker\": {\"colorbar\": {\"outlinewidth\": 0, \"ticks\": \"\"}}, \"type\": \"histogram\"}], \"histogram2d\": [{\"colorbar\": {\"outlinewidth\": 0, \"ticks\": \"\"}, \"colorscale\": [[0.0, \"#0d0887\"], [0.1111111111111111, \"#46039f\"], [0.2222222222222222, \"#7201a8\"], [0.3333333333333333, \"#9c179e\"], [0.4444444444444444, \"#bd3786\"], [0.5555555555555556, \"#d8576b\"], [0.6666666666666666, \"#ed7953\"], [0.7777777777777778, \"#fb9f3a\"], [0.8888888888888888, \"#fdca26\"], [1.0, \"#f0f921\"]], \"type\": \"histogram2d\"}], \"histogram2dcontour\": [{\"colorbar\": {\"outlinewidth\": 0, \"ticks\": \"\"}, \"colorscale\": [[0.0, \"#0d0887\"], [0.1111111111111111, \"#46039f\"], [0.2222222222222222, \"#7201a8\"], [0.3333333333333333, \"#9c179e\"], [0.4444444444444444, \"#bd3786\"], [0.5555555555555556, \"#d8576b\"], [0.6666666666666666, \"#ed7953\"], [0.7777777777777778, \"#fb9f3a\"], [0.8888888888888888, \"#fdca26\"], [1.0, \"#f0f921\"]], \"type\": \"histogram2dcontour\"}], \"mesh3d\": [{\"colorbar\": {\"outlinewidth\": 0, \"ticks\": \"\"}, \"type\": \"mesh3d\"}], \"parcoords\": [{\"line\": {\"colorbar\": {\"outlinewidth\": 0, \"ticks\": \"\"}}, \"type\": \"parcoords\"}], \"pie\": [{\"automargin\": true, \"type\": \"pie\"}], \"scatter\": [{\"marker\": {\"colorbar\": {\"outlinewidth\": 0, \"ticks\": \"\"}}, \"type\": \"scatter\"}], \"scatter3d\": [{\"line\": {\"colorbar\": {\"outlinewidth\": 0, \"ticks\": \"\"}}, \"marker\": {\"colorbar\": {\"outlinewidth\": 0, \"ticks\": \"\"}}, \"type\": \"scatter3d\"}], \"scattercarpet\": [{\"marker\": {\"colorbar\": {\"outlinewidth\": 0, \"ticks\": \"\"}}, \"type\": \"scattercarpet\"}], \"scattergeo\": [{\"marker\": {\"colorbar\": {\"outlinewidth\": 0, \"ticks\": \"\"}}, \"type\": \"scattergeo\"}], \"scattergl\": [{\"marker\": {\"colorbar\": {\"outlinewidth\": 0, \"ticks\": \"\"}}, \"type\": \"scattergl\"}], \"scattermapbox\": [{\"marker\": {\"colorbar\": {\"outlinewidth\": 0, \"ticks\": \"\"}}, \"type\": \"scattermapbox\"}], \"scatterpolar\": [{\"marker\": {\"colorbar\": {\"outlinewidth\": 0, \"ticks\": \"\"}}, \"type\": \"scatterpolar\"}], \"scatterpolargl\": [{\"marker\": {\"colorbar\": {\"outlinewidth\": 0, \"ticks\": \"\"}}, \"type\": \"scatterpolargl\"}], \"scatterternary\": [{\"marker\": {\"colorbar\": {\"outlinewidth\": 0, \"ticks\": \"\"}}, \"type\": \"scatterternary\"}], \"surface\": [{\"colorbar\": {\"outlinewidth\": 0, \"ticks\": \"\"}, \"colorscale\": [[0.0, \"#0d0887\"], [0.1111111111111111, \"#46039f\"], [0.2222222222222222, \"#7201a8\"], [0.3333333333333333, \"#9c179e\"], [0.4444444444444444, \"#bd3786\"], [0.5555555555555556, \"#d8576b\"], [0.6666666666666666, \"#ed7953\"], [0.7777777777777778, \"#fb9f3a\"], [0.8888888888888888, \"#fdca26\"], [1.0, \"#f0f921\"]], \"type\": \"surface\"}], \"table\": [{\"cells\": {\"fill\": {\"color\": \"#EBF0F8\"}, \"line\": {\"color\": \"white\"}}, \"header\": {\"fill\": {\"color\": \"#C8D4E3\"}, \"line\": {\"color\": \"white\"}}, \"type\": \"table\"}]}, \"layout\": {\"annotationdefaults\": {\"arrowcolor\": \"#2a3f5f\", \"arrowhead\": 0, \"arrowwidth\": 1}, \"autotypenumbers\": \"strict\", \"coloraxis\": {\"colorbar\": {\"outlinewidth\": 0, \"ticks\": \"\"}}, \"colorscale\": {\"diverging\": [[0, \"#8e0152\"], [0.1, \"#c51b7d\"], [0.2, \"#de77ae\"], [0.3, \"#f1b6da\"], [0.4, \"#fde0ef\"], [0.5, \"#f7f7f7\"], [0.6, \"#e6f5d0\"], [0.7, \"#b8e186\"], [0.8, \"#7fbc41\"], [0.9, \"#4d9221\"], [1, \"#276419\"]], \"sequential\": [[0.0, \"#0d0887\"], [0.1111111111111111, \"#46039f\"], [0.2222222222222222, \"#7201a8\"], [0.3333333333333333, \"#9c179e\"], [0.4444444444444444, \"#bd3786\"], [0.5555555555555556, \"#d8576b\"], [0.6666666666666666, \"#ed7953\"], [0.7777777777777778, \"#fb9f3a\"], [0.8888888888888888, \"#fdca26\"], [1.0, \"#f0f921\"]], \"sequentialminus\": [[0.0, \"#0d0887\"], [0.1111111111111111, \"#46039f\"], [0.2222222222222222, \"#7201a8\"], [0.3333333333333333, \"#9c179e\"], [0.4444444444444444, \"#bd3786\"], [0.5555555555555556, \"#d8576b\"], [0.6666666666666666, \"#ed7953\"], [0.7777777777777778, \"#fb9f3a\"], [0.8888888888888888, \"#fdca26\"], [1.0, \"#f0f921\"]]}, \"colorway\": [\"#636efa\", \"#EF553B\", \"#00cc96\", \"#ab63fa\", \"#FFA15A\", \"#19d3f3\", \"#FF6692\", \"#B6E880\", \"#FF97FF\", \"#FECB52\"], \"font\": {\"color\": \"#2a3f5f\"}, \"geo\": {\"bgcolor\": \"white\", \"lakecolor\": \"white\", \"landcolor\": \"#E5ECF6\", \"showlakes\": true, \"showland\": true, \"subunitcolor\": \"white\"}, \"hoverlabel\": {\"align\": \"left\"}, \"hovermode\": \"closest\", \"mapbox\": {\"style\": \"light\"}, \"paper_bgcolor\": \"white\", \"plot_bgcolor\": \"#E5ECF6\", \"polar\": {\"angularaxis\": {\"gridcolor\": \"white\", \"linecolor\": \"white\", \"ticks\": \"\"}, \"bgcolor\": \"#E5ECF6\", \"radialaxis\": {\"gridcolor\": \"white\", \"linecolor\": \"white\", \"ticks\": \"\"}}, \"scene\": {\"xaxis\": {\"backgroundcolor\": \"#E5ECF6\", \"gridcolor\": \"white\", \"gridwidth\": 2, \"linecolor\": \"white\", \"showbackground\": true, \"ticks\": \"\", \"zerolinecolor\": \"white\"}, \"yaxis\": {\"backgroundcolor\": \"#E5ECF6\", \"gridcolor\": \"white\", \"gridwidth\": 2, \"linecolor\": \"white\", \"showbackground\": true, \"ticks\": \"\", \"zerolinecolor\": \"white\"}, \"zaxis\": {\"backgroundcolor\": \"#E5ECF6\", \"gridcolor\": \"white\", \"gridwidth\": 2, \"linecolor\": \"white\", \"showbackground\": true, \"ticks\": \"\", \"zerolinecolor\": \"white\"}}, \"shapedefaults\": {\"line\": {\"color\": \"#2a3f5f\"}}, \"ternary\": {\"aaxis\": {\"gridcolor\": \"white\", \"linecolor\": \"white\", \"ticks\": \"\"}, \"baxis\": {\"gridcolor\": \"white\", \"linecolor\": \"white\", \"ticks\": \"\"}, \"bgcolor\": \"#E5ECF6\", \"caxis\": {\"gridcolor\": \"white\", \"linecolor\": \"white\", \"ticks\": \"\"}}, \"title\": {\"x\": 0.05}, \"xaxis\": {\"automargin\": true, \"gridcolor\": \"white\", \"linecolor\": \"white\", \"ticks\": \"\", \"title\": {\"standoff\": 15}, \"zerolinecolor\": \"white\", \"zerolinewidth\": 2}, \"yaxis\": {\"automargin\": true, \"gridcolor\": \"white\", \"linecolor\": \"white\", \"ticks\": \"\", \"title\": {\"standoff\": 15}, \"zerolinecolor\": \"white\", \"zerolinewidth\": 2}}}, \"xaxis\": {\"anchor\": \"y\", \"domain\": [0.0, 1.0], \"range\": [39.5, 60.5], \"title\": {\"text\": \"Runs\"}}, \"yaxis\": {\"anchor\": \"x\", \"domain\": [0.0, 1.0], \"range\": [0, 0.7], \"title\": {\"text\": \"Percentage\"}}},                        {\"responsive\": true}                    ).then(function(){\n",
       "                            \n",
       "var gd = document.getElementById('a95c3f40-6261-4886-ae2a-e4e9d045ab2b');\n",
       "var x = new MutationObserver(function (mutations, observer) {{\n",
       "        var display = window.getComputedStyle(gd).display;\n",
       "        if (!display || display === 'none') {{\n",
       "            console.log([gd, 'removed!']);\n",
       "            Plotly.purge(gd);\n",
       "            observer.disconnect();\n",
       "        }}\n",
       "}});\n",
       "\n",
       "// Listen for the removal of the full notebook cells\n",
       "var notebookContainer = gd.closest('#notebook-container');\n",
       "if (notebookContainer) {{\n",
       "    x.observe(notebookContainer, {childList: true});\n",
       "}}\n",
       "\n",
       "// Listen for the clearing of the current output cell\n",
       "var outputEl = gd.closest('.output');\n",
       "if (outputEl) {{\n",
       "    x.observe(outputEl, {childList: true});\n",
       "}}\n",
       "\n",
       "                        })                };                });            </script>        </div>"
      ]
     },
     "metadata": {},
     "output_type": "display_data"
    }
   ],
   "source": [
    "#Look at 50 mark\n",
    "fig = px.bar(df, x='Runs', y='Percentage')\n",
    "fig.update_yaxes(range=[0,0.7])\n",
    "fig.update_xaxes(range=[39.5,60.5])"
   ]
  },
  {
   "cell_type": "code",
   "execution_count": 77,
   "metadata": {},
   "outputs": [
    {
     "data": {
      "application/vnd.plotly.v1+json": {
       "config": {
        "plotlyServerURL": "https://plot.ly"
       },
       "data": [
        {
         "alignmentgroup": "True",
         "hovertemplate": "Runs=%{x}<br>Percentage=%{y}<extra></extra>",
         "legendgroup": "",
         "marker": {
          "color": "#636efa"
         },
         "name": "",
         "offsetgroup": "",
         "orientation": "v",
         "showlegend": false,
         "textposition": "auto",
         "type": "bar",
         "x": [
          0,
          1,
          2,
          4,
          5,
          3,
          6,
          7,
          8,
          9,
          10,
          11,
          12,
          13,
          14,
          15,
          16,
          17,
          19,
          18,
          20,
          21,
          22,
          24,
          23,
          25,
          26,
          28,
          27,
          29,
          30,
          31,
          33,
          38,
          32,
          35,
          34,
          36,
          37,
          40,
          39,
          43,
          41,
          42,
          50,
          44,
          46,
          45,
          51,
          52,
          47,
          53,
          48,
          55,
          54,
          49,
          56,
          63,
          58,
          59,
          62,
          57,
          60,
          61,
          64,
          65,
          67,
          71,
          68,
          66,
          69,
          74,
          72,
          76,
          70,
          73,
          79,
          75,
          77,
          80,
          78,
          82,
          83,
          81,
          89,
          84,
          86,
          87,
          85,
          90,
          102,
          88,
          91,
          92,
          95,
          101,
          103,
          100,
          104,
          109,
          94,
          96,
          106,
          105,
          97,
          110,
          107,
          93,
          112,
          113,
          117,
          98,
          108,
          99,
          119,
          115,
          118,
          116,
          111,
          121,
          124,
          127,
          126,
          128,
          122,
          114,
          123,
          130,
          120,
          129,
          138,
          125,
          136,
          137,
          135,
          131,
          139,
          144,
          147,
          134,
          143,
          133,
          140,
          176,
          148,
          150,
          132,
          146,
          149,
          156,
          141,
          151,
          142,
          158,
          153,
          169,
          152,
          160,
          173,
          162,
          166,
          159,
          161,
          180,
          167,
          145,
          157,
          164,
          192,
          163,
          174,
          202,
          226,
          175,
          165,
          215,
          224,
          177,
          154,
          196,
          199,
          186,
          155,
          171,
          190,
          195,
          193,
          170,
          239,
          185,
          243,
          200,
          179,
          178,
          168,
          203,
          211,
          218,
          212,
          206,
          191,
          194,
          187,
          213,
          209,
          189,
          184,
          183,
          214,
          182,
          181,
          221,
          219,
          319,
          204,
          235,
          201,
          172,
          227,
          270,
          267,
          293,
          313,
          232,
          258,
          230,
          251,
          374,
          188,
          217,
          231,
          253,
          317,
          333,
          216,
          254,
          234,
          260,
          228,
          240,
          238,
          264,
          290,
          302,
          225,
          263,
          210,
          287,
          208,
          294,
          262,
          275,
          236,
          197,
          245,
          291,
          205
         ],
         "xaxis": "x",
         "y": [
          11.310041799221079,
          5.807666519251894,
          4.401044267229696,
          4.091473244218726,
          3.586458764283778,
          3.1713197426423387,
          3.1213889324792787,
          2.7932721799791715,
          2.709103099990014,
          2.4751415895116766,
          2.3995320769790434,
          2.212648187511591,
          2.1883960797181046,
          2.0913876485441603,
          1.871692083826697,
          1.7918027875658018,
          1.6691156540222833,
          1.6320241950440104,
          1.5022040886200552,
          1.5007774940439678,
          1.3681041984678375,
          1.3467052798265262,
          1.2810819293265048,
          1.2582564161091059,
          1.2225915517069204,
          1.1455554445981997,
          1.065666148337304,
          1.0171619327503318,
          0.9786438791959713,
          0.937272636489436,
          0.9215800961524745,
          0.893048204630726,
          0.8003195571850437,
          0.7518153415980712,
          0.7518153415980712,
          0.7432557741415468,
          0.7318430175328473,
          0.720430260924148,
          0.683338801945875,
          0.646247342967602,
          0.6405409646632524,
          0.5948899382284548,
          0.5948899382284548,
          0.5392527497610454,
          0.5363995606088706,
          0.5321197768806083,
          0.5306931823045208,
          0.5092942636632095,
          0.4593634535001498,
          0.4493772914675378,
          0.4422443185871008,
          0.39801988672839067,
          0.392313508424041,
          0.37804756266316675,
          0.3737677789349045,
          0.3709145897827297,
          0.3709145897827297,
          0.3352497253805441,
          0.33239653622836923,
          0.328116752500107,
          0.32669015792401956,
          0.30529123928270824,
          0.29673167182618376,
          0.27818594233704724,
          0.273906158608785,
          0.2710529694566101,
          0.26677318572834785,
          0.24537426708703655,
          0.24109448335877426,
          0.23824129420659942,
          0.2311083213261623,
          0.2082828081087636,
          0.199723240652239,
          0.19829664607615163,
          0.19401686234788934,
          0.18973707861962708,
          0.18260410573918998,
          0.1783243220109277,
          0.17689772743484028,
          0.16120518709787865,
          0.14836583591309188,
          0.14693924133700442,
          0.13980626845656732,
          0.13837967388047992,
          0.11555416066308115,
          0.11412756608699373,
          0.11270097151090631,
          0.11270097151090631,
          0.1112743769348189,
          0.10556799863046921,
          0.10128821490220694,
          0.10128821490220694,
          0.09700843117394467,
          0.09700843117394467,
          0.09700843117394467,
          0.09700843117394467,
          0.08702226914133272,
          0.08416907998915789,
          0.08416907998915789,
          0.08131589083698304,
          0.07988929626089561,
          0.07988929626089561,
          0.07560951253263336,
          0.07275632338045851,
          0.07275632338045851,
          0.06990313422828366,
          0.06847653965219624,
          0.06704994507610883,
          0.05849037761958428,
          0.05849037761958428,
          0.05563718846740945,
          0.054210593891322024,
          0.05278399931523461,
          0.05278399931523461,
          0.05135740473914718,
          0.05135740473914718,
          0.048504215586972335,
          0.048504215586972335,
          0.045651026434797494,
          0.04279783728262265,
          0.04137124270653523,
          0.03851805355436039,
          0.03709145897827297,
          0.03566486440218554,
          0.03566486440218554,
          0.03423826982609812,
          0.0328116752500107,
          0.0328116752500107,
          0.031385080673923274,
          0.029958486097835857,
          0.028531891521748433,
          0.027105296945661012,
          0.027105296945661012,
          0.024252107793486168,
          0.022825513217398747,
          0.022825513217398747,
          0.021398918641311326,
          0.021398918641311326,
          0.021398918641311326,
          0.021398918641311326,
          0.021398918641311326,
          0.019972324065223902,
          0.019972324065223902,
          0.018545729489136485,
          0.01711913491304906,
          0.01711913491304906,
          0.01711913491304906,
          0.01711913491304906,
          0.015692540336961637,
          0.015692540336961637,
          0.015692540336961637,
          0.015692540336961637,
          0.012839351184786796,
          0.012839351184786796,
          0.011412756608699373,
          0.011412756608699373,
          0.011412756608699373,
          0.011412756608699373,
          0.011412756608699373,
          0.009986162032611951,
          0.009986162032611951,
          0.009986162032611951,
          0.009986162032611951,
          0.00855956745652453,
          0.00855956745652453,
          0.00855956745652453,
          0.00855956745652453,
          0.00855956745652453,
          0.00855956745652453,
          0.007132972880437108,
          0.007132972880437108,
          0.007132972880437108,
          0.007132972880437108,
          0.007132972880437108,
          0.007132972880437108,
          0.007132972880437108,
          0.007132972880437108,
          0.007132972880437108,
          0.007132972880437108,
          0.007132972880437108,
          0.007132972880437108,
          0.007132972880437108,
          0.005706378304349687,
          0.005706378304349687,
          0.005706378304349687,
          0.005706378304349687,
          0.004279783728262265,
          0.004279783728262265,
          0.004279783728262265,
          0.004279783728262265,
          0.004279783728262265,
          0.004279783728262265,
          0.004279783728262265,
          0.004279783728262265,
          0.004279783728262265,
          0.004279783728262265,
          0.004279783728262265,
          0.004279783728262265,
          0.004279783728262265,
          0.004279783728262265,
          0.004279783728262265,
          0.0028531891521748434,
          0.0028531891521748434,
          0.0028531891521748434,
          0.0028531891521748434,
          0.0028531891521748434,
          0.0028531891521748434,
          0.0028531891521748434,
          0.0028531891521748434,
          0.0028531891521748434,
          0.0028531891521748434,
          0.0028531891521748434,
          0.0028531891521748434,
          0.0028531891521748434,
          0.0028531891521748434,
          0.0028531891521748434,
          0.0028531891521748434,
          0.0028531891521748434,
          0.0014265945760874217,
          0.0014265945760874217,
          0.0014265945760874217,
          0.0014265945760874217,
          0.0014265945760874217,
          0.0014265945760874217,
          0.0014265945760874217,
          0.0014265945760874217,
          0.0014265945760874217,
          0.0014265945760874217,
          0.0014265945760874217,
          0.0014265945760874217,
          0.0014265945760874217,
          0.0014265945760874217,
          0.0014265945760874217,
          0.0014265945760874217,
          0.0014265945760874217,
          0.0014265945760874217,
          0.0014265945760874217,
          0.0014265945760874217,
          0.0014265945760874217,
          0.0014265945760874217,
          0.0014265945760874217,
          0.0014265945760874217,
          0.0014265945760874217,
          0.0014265945760874217,
          0.0014265945760874217,
          0.0014265945760874217,
          0.0014265945760874217,
          0.0014265945760874217,
          0.0014265945760874217,
          0.0014265945760874217,
          0.0014265945760874217,
          0.0014265945760874217,
          0.0014265945760874217,
          0.0014265945760874217,
          0.0014265945760874217,
          0.0014265945760874217,
          0.0014265945760874217
         ],
         "yaxis": "y"
        }
       ],
       "layout": {
        "barmode": "relative",
        "legend": {
         "tracegroupgap": 0
        },
        "margin": {
         "t": 60
        },
        "template": {
         "data": {
          "bar": [
           {
            "error_x": {
             "color": "#2a3f5f"
            },
            "error_y": {
             "color": "#2a3f5f"
            },
            "marker": {
             "line": {
              "color": "#E5ECF6",
              "width": 0.5
             }
            },
            "type": "bar"
           }
          ],
          "barpolar": [
           {
            "marker": {
             "line": {
              "color": "#E5ECF6",
              "width": 0.5
             }
            },
            "type": "barpolar"
           }
          ],
          "carpet": [
           {
            "aaxis": {
             "endlinecolor": "#2a3f5f",
             "gridcolor": "white",
             "linecolor": "white",
             "minorgridcolor": "white",
             "startlinecolor": "#2a3f5f"
            },
            "baxis": {
             "endlinecolor": "#2a3f5f",
             "gridcolor": "white",
             "linecolor": "white",
             "minorgridcolor": "white",
             "startlinecolor": "#2a3f5f"
            },
            "type": "carpet"
           }
          ],
          "choropleth": [
           {
            "colorbar": {
             "outlinewidth": 0,
             "ticks": ""
            },
            "type": "choropleth"
           }
          ],
          "contour": [
           {
            "colorbar": {
             "outlinewidth": 0,
             "ticks": ""
            },
            "colorscale": [
             [
              0,
              "#0d0887"
             ],
             [
              0.1111111111111111,
              "#46039f"
             ],
             [
              0.2222222222222222,
              "#7201a8"
             ],
             [
              0.3333333333333333,
              "#9c179e"
             ],
             [
              0.4444444444444444,
              "#bd3786"
             ],
             [
              0.5555555555555556,
              "#d8576b"
             ],
             [
              0.6666666666666666,
              "#ed7953"
             ],
             [
              0.7777777777777778,
              "#fb9f3a"
             ],
             [
              0.8888888888888888,
              "#fdca26"
             ],
             [
              1,
              "#f0f921"
             ]
            ],
            "type": "contour"
           }
          ],
          "contourcarpet": [
           {
            "colorbar": {
             "outlinewidth": 0,
             "ticks": ""
            },
            "type": "contourcarpet"
           }
          ],
          "heatmap": [
           {
            "colorbar": {
             "outlinewidth": 0,
             "ticks": ""
            },
            "colorscale": [
             [
              0,
              "#0d0887"
             ],
             [
              0.1111111111111111,
              "#46039f"
             ],
             [
              0.2222222222222222,
              "#7201a8"
             ],
             [
              0.3333333333333333,
              "#9c179e"
             ],
             [
              0.4444444444444444,
              "#bd3786"
             ],
             [
              0.5555555555555556,
              "#d8576b"
             ],
             [
              0.6666666666666666,
              "#ed7953"
             ],
             [
              0.7777777777777778,
              "#fb9f3a"
             ],
             [
              0.8888888888888888,
              "#fdca26"
             ],
             [
              1,
              "#f0f921"
             ]
            ],
            "type": "heatmap"
           }
          ],
          "heatmapgl": [
           {
            "colorbar": {
             "outlinewidth": 0,
             "ticks": ""
            },
            "colorscale": [
             [
              0,
              "#0d0887"
             ],
             [
              0.1111111111111111,
              "#46039f"
             ],
             [
              0.2222222222222222,
              "#7201a8"
             ],
             [
              0.3333333333333333,
              "#9c179e"
             ],
             [
              0.4444444444444444,
              "#bd3786"
             ],
             [
              0.5555555555555556,
              "#d8576b"
             ],
             [
              0.6666666666666666,
              "#ed7953"
             ],
             [
              0.7777777777777778,
              "#fb9f3a"
             ],
             [
              0.8888888888888888,
              "#fdca26"
             ],
             [
              1,
              "#f0f921"
             ]
            ],
            "type": "heatmapgl"
           }
          ],
          "histogram": [
           {
            "marker": {
             "colorbar": {
              "outlinewidth": 0,
              "ticks": ""
             }
            },
            "type": "histogram"
           }
          ],
          "histogram2d": [
           {
            "colorbar": {
             "outlinewidth": 0,
             "ticks": ""
            },
            "colorscale": [
             [
              0,
              "#0d0887"
             ],
             [
              0.1111111111111111,
              "#46039f"
             ],
             [
              0.2222222222222222,
              "#7201a8"
             ],
             [
              0.3333333333333333,
              "#9c179e"
             ],
             [
              0.4444444444444444,
              "#bd3786"
             ],
             [
              0.5555555555555556,
              "#d8576b"
             ],
             [
              0.6666666666666666,
              "#ed7953"
             ],
             [
              0.7777777777777778,
              "#fb9f3a"
             ],
             [
              0.8888888888888888,
              "#fdca26"
             ],
             [
              1,
              "#f0f921"
             ]
            ],
            "type": "histogram2d"
           }
          ],
          "histogram2dcontour": [
           {
            "colorbar": {
             "outlinewidth": 0,
             "ticks": ""
            },
            "colorscale": [
             [
              0,
              "#0d0887"
             ],
             [
              0.1111111111111111,
              "#46039f"
             ],
             [
              0.2222222222222222,
              "#7201a8"
             ],
             [
              0.3333333333333333,
              "#9c179e"
             ],
             [
              0.4444444444444444,
              "#bd3786"
             ],
             [
              0.5555555555555556,
              "#d8576b"
             ],
             [
              0.6666666666666666,
              "#ed7953"
             ],
             [
              0.7777777777777778,
              "#fb9f3a"
             ],
             [
              0.8888888888888888,
              "#fdca26"
             ],
             [
              1,
              "#f0f921"
             ]
            ],
            "type": "histogram2dcontour"
           }
          ],
          "mesh3d": [
           {
            "colorbar": {
             "outlinewidth": 0,
             "ticks": ""
            },
            "type": "mesh3d"
           }
          ],
          "parcoords": [
           {
            "line": {
             "colorbar": {
              "outlinewidth": 0,
              "ticks": ""
             }
            },
            "type": "parcoords"
           }
          ],
          "pie": [
           {
            "automargin": true,
            "type": "pie"
           }
          ],
          "scatter": [
           {
            "marker": {
             "colorbar": {
              "outlinewidth": 0,
              "ticks": ""
             }
            },
            "type": "scatter"
           }
          ],
          "scatter3d": [
           {
            "line": {
             "colorbar": {
              "outlinewidth": 0,
              "ticks": ""
             }
            },
            "marker": {
             "colorbar": {
              "outlinewidth": 0,
              "ticks": ""
             }
            },
            "type": "scatter3d"
           }
          ],
          "scattercarpet": [
           {
            "marker": {
             "colorbar": {
              "outlinewidth": 0,
              "ticks": ""
             }
            },
            "type": "scattercarpet"
           }
          ],
          "scattergeo": [
           {
            "marker": {
             "colorbar": {
              "outlinewidth": 0,
              "ticks": ""
             }
            },
            "type": "scattergeo"
           }
          ],
          "scattergl": [
           {
            "marker": {
             "colorbar": {
              "outlinewidth": 0,
              "ticks": ""
             }
            },
            "type": "scattergl"
           }
          ],
          "scattermapbox": [
           {
            "marker": {
             "colorbar": {
              "outlinewidth": 0,
              "ticks": ""
             }
            },
            "type": "scattermapbox"
           }
          ],
          "scatterpolar": [
           {
            "marker": {
             "colorbar": {
              "outlinewidth": 0,
              "ticks": ""
             }
            },
            "type": "scatterpolar"
           }
          ],
          "scatterpolargl": [
           {
            "marker": {
             "colorbar": {
              "outlinewidth": 0,
              "ticks": ""
             }
            },
            "type": "scatterpolargl"
           }
          ],
          "scatterternary": [
           {
            "marker": {
             "colorbar": {
              "outlinewidth": 0,
              "ticks": ""
             }
            },
            "type": "scatterternary"
           }
          ],
          "surface": [
           {
            "colorbar": {
             "outlinewidth": 0,
             "ticks": ""
            },
            "colorscale": [
             [
              0,
              "#0d0887"
             ],
             [
              0.1111111111111111,
              "#46039f"
             ],
             [
              0.2222222222222222,
              "#7201a8"
             ],
             [
              0.3333333333333333,
              "#9c179e"
             ],
             [
              0.4444444444444444,
              "#bd3786"
             ],
             [
              0.5555555555555556,
              "#d8576b"
             ],
             [
              0.6666666666666666,
              "#ed7953"
             ],
             [
              0.7777777777777778,
              "#fb9f3a"
             ],
             [
              0.8888888888888888,
              "#fdca26"
             ],
             [
              1,
              "#f0f921"
             ]
            ],
            "type": "surface"
           }
          ],
          "table": [
           {
            "cells": {
             "fill": {
              "color": "#EBF0F8"
             },
             "line": {
              "color": "white"
             }
            },
            "header": {
             "fill": {
              "color": "#C8D4E3"
             },
             "line": {
              "color": "white"
             }
            },
            "type": "table"
           }
          ]
         },
         "layout": {
          "annotationdefaults": {
           "arrowcolor": "#2a3f5f",
           "arrowhead": 0,
           "arrowwidth": 1
          },
          "autotypenumbers": "strict",
          "coloraxis": {
           "colorbar": {
            "outlinewidth": 0,
            "ticks": ""
           }
          },
          "colorscale": {
           "diverging": [
            [
             0,
             "#8e0152"
            ],
            [
             0.1,
             "#c51b7d"
            ],
            [
             0.2,
             "#de77ae"
            ],
            [
             0.3,
             "#f1b6da"
            ],
            [
             0.4,
             "#fde0ef"
            ],
            [
             0.5,
             "#f7f7f7"
            ],
            [
             0.6,
             "#e6f5d0"
            ],
            [
             0.7,
             "#b8e186"
            ],
            [
             0.8,
             "#7fbc41"
            ],
            [
             0.9,
             "#4d9221"
            ],
            [
             1,
             "#276419"
            ]
           ],
           "sequential": [
            [
             0,
             "#0d0887"
            ],
            [
             0.1111111111111111,
             "#46039f"
            ],
            [
             0.2222222222222222,
             "#7201a8"
            ],
            [
             0.3333333333333333,
             "#9c179e"
            ],
            [
             0.4444444444444444,
             "#bd3786"
            ],
            [
             0.5555555555555556,
             "#d8576b"
            ],
            [
             0.6666666666666666,
             "#ed7953"
            ],
            [
             0.7777777777777778,
             "#fb9f3a"
            ],
            [
             0.8888888888888888,
             "#fdca26"
            ],
            [
             1,
             "#f0f921"
            ]
           ],
           "sequentialminus": [
            [
             0,
             "#0d0887"
            ],
            [
             0.1111111111111111,
             "#46039f"
            ],
            [
             0.2222222222222222,
             "#7201a8"
            ],
            [
             0.3333333333333333,
             "#9c179e"
            ],
            [
             0.4444444444444444,
             "#bd3786"
            ],
            [
             0.5555555555555556,
             "#d8576b"
            ],
            [
             0.6666666666666666,
             "#ed7953"
            ],
            [
             0.7777777777777778,
             "#fb9f3a"
            ],
            [
             0.8888888888888888,
             "#fdca26"
            ],
            [
             1,
             "#f0f921"
            ]
           ]
          },
          "colorway": [
           "#636efa",
           "#EF553B",
           "#00cc96",
           "#ab63fa",
           "#FFA15A",
           "#19d3f3",
           "#FF6692",
           "#B6E880",
           "#FF97FF",
           "#FECB52"
          ],
          "font": {
           "color": "#2a3f5f"
          },
          "geo": {
           "bgcolor": "white",
           "lakecolor": "white",
           "landcolor": "#E5ECF6",
           "showlakes": true,
           "showland": true,
           "subunitcolor": "white"
          },
          "hoverlabel": {
           "align": "left"
          },
          "hovermode": "closest",
          "mapbox": {
           "style": "light"
          },
          "paper_bgcolor": "white",
          "plot_bgcolor": "#E5ECF6",
          "polar": {
           "angularaxis": {
            "gridcolor": "white",
            "linecolor": "white",
            "ticks": ""
           },
           "bgcolor": "#E5ECF6",
           "radialaxis": {
            "gridcolor": "white",
            "linecolor": "white",
            "ticks": ""
           }
          },
          "scene": {
           "xaxis": {
            "backgroundcolor": "#E5ECF6",
            "gridcolor": "white",
            "gridwidth": 2,
            "linecolor": "white",
            "showbackground": true,
            "ticks": "",
            "zerolinecolor": "white"
           },
           "yaxis": {
            "backgroundcolor": "#E5ECF6",
            "gridcolor": "white",
            "gridwidth": 2,
            "linecolor": "white",
            "showbackground": true,
            "ticks": "",
            "zerolinecolor": "white"
           },
           "zaxis": {
            "backgroundcolor": "#E5ECF6",
            "gridcolor": "white",
            "gridwidth": 2,
            "linecolor": "white",
            "showbackground": true,
            "ticks": "",
            "zerolinecolor": "white"
           }
          },
          "shapedefaults": {
           "line": {
            "color": "#2a3f5f"
           }
          },
          "ternary": {
           "aaxis": {
            "gridcolor": "white",
            "linecolor": "white",
            "ticks": ""
           },
           "baxis": {
            "gridcolor": "white",
            "linecolor": "white",
            "ticks": ""
           },
           "bgcolor": "#E5ECF6",
           "caxis": {
            "gridcolor": "white",
            "linecolor": "white",
            "ticks": ""
           }
          },
          "title": {
           "x": 0.05
          },
          "xaxis": {
           "automargin": true,
           "gridcolor": "white",
           "linecolor": "white",
           "ticks": "",
           "title": {
            "standoff": 15
           },
           "zerolinecolor": "white",
           "zerolinewidth": 2
          },
          "yaxis": {
           "automargin": true,
           "gridcolor": "white",
           "linecolor": "white",
           "ticks": "",
           "title": {
            "standoff": 15
           },
           "zerolinecolor": "white",
           "zerolinewidth": 2
          }
         }
        },
        "xaxis": {
         "anchor": "y",
         "domain": [
          0,
          1
         ],
         "range": [
          89.5,
          110.5
         ],
         "title": {
          "text": "Runs"
         }
        },
        "yaxis": {
         "anchor": "x",
         "domain": [
          0,
          1
         ],
         "range": [
          0,
          0.15
         ],
         "title": {
          "text": "Percentage"
         }
        }
       }
      },
      "text/html": [
       "<div>                            <div id=\"1c2dd8dc-436b-4e07-aacf-1895054ec313\" class=\"plotly-graph-div\" style=\"height:525px; width:100%;\"></div>            <script type=\"text/javascript\">                require([\"plotly\"], function(Plotly) {                    window.PLOTLYENV=window.PLOTLYENV || {};                                    if (document.getElementById(\"1c2dd8dc-436b-4e07-aacf-1895054ec313\")) {                    Plotly.newPlot(                        \"1c2dd8dc-436b-4e07-aacf-1895054ec313\",                        [{\"alignmentgroup\": \"True\", \"hovertemplate\": \"Runs=%{x}<br>Percentage=%{y}<extra></extra>\", \"legendgroup\": \"\", \"marker\": {\"color\": \"#636efa\"}, \"name\": \"\", \"offsetgroup\": \"\", \"orientation\": \"v\", \"showlegend\": false, \"textposition\": \"auto\", \"type\": \"bar\", \"x\": [0, 1, 2, 4, 5, 3, 6, 7, 8, 9, 10, 11, 12, 13, 14, 15, 16, 17, 19, 18, 20, 21, 22, 24, 23, 25, 26, 28, 27, 29, 30, 31, 33, 38, 32, 35, 34, 36, 37, 40, 39, 43, 41, 42, 50, 44, 46, 45, 51, 52, 47, 53, 48, 55, 54, 49, 56, 63, 58, 59, 62, 57, 60, 61, 64, 65, 67, 71, 68, 66, 69, 74, 72, 76, 70, 73, 79, 75, 77, 80, 78, 82, 83, 81, 89, 84, 86, 87, 85, 90, 102, 88, 91, 92, 95, 101, 103, 100, 104, 109, 94, 96, 106, 105, 97, 110, 107, 93, 112, 113, 117, 98, 108, 99, 119, 115, 118, 116, 111, 121, 124, 127, 126, 128, 122, 114, 123, 130, 120, 129, 138, 125, 136, 137, 135, 131, 139, 144, 147, 134, 143, 133, 140, 176, 148, 150, 132, 146, 149, 156, 141, 151, 142, 158, 153, 169, 152, 160, 173, 162, 166, 159, 161, 180, 167, 145, 157, 164, 192, 163, 174, 202, 226, 175, 165, 215, 224, 177, 154, 196, 199, 186, 155, 171, 190, 195, 193, 170, 239, 185, 243, 200, 179, 178, 168, 203, 211, 218, 212, 206, 191, 194, 187, 213, 209, 189, 184, 183, 214, 182, 181, 221, 219, 319, 204, 235, 201, 172, 227, 270, 267, 293, 313, 232, 258, 230, 251, 374, 188, 217, 231, 253, 317, 333, 216, 254, 234, 260, 228, 240, 238, 264, 290, 302, 225, 263, 210, 287, 208, 294, 262, 275, 236, 197, 245, 291, 205], \"xaxis\": \"x\", \"y\": [11.310041799221079, 5.807666519251894, 4.401044267229696, 4.091473244218726, 3.586458764283778, 3.1713197426423387, 3.1213889324792787, 2.7932721799791715, 2.709103099990014, 2.4751415895116766, 2.3995320769790434, 2.212648187511591, 2.1883960797181046, 2.0913876485441603, 1.871692083826697, 1.7918027875658018, 1.6691156540222833, 1.6320241950440104, 1.5022040886200552, 1.5007774940439678, 1.3681041984678375, 1.3467052798265262, 1.2810819293265048, 1.2582564161091059, 1.2225915517069204, 1.1455554445981997, 1.065666148337304, 1.0171619327503318, 0.9786438791959713, 0.937272636489436, 0.9215800961524745, 0.893048204630726, 0.8003195571850437, 0.7518153415980712, 0.7518153415980712, 0.7432557741415468, 0.7318430175328473, 0.720430260924148, 0.683338801945875, 0.646247342967602, 0.6405409646632524, 0.5948899382284548, 0.5948899382284548, 0.5392527497610454, 0.5363995606088706, 0.5321197768806083, 0.5306931823045208, 0.5092942636632095, 0.4593634535001498, 0.4493772914675378, 0.4422443185871008, 0.39801988672839067, 0.392313508424041, 0.37804756266316675, 0.3737677789349045, 0.3709145897827297, 0.3709145897827297, 0.3352497253805441, 0.33239653622836923, 0.328116752500107, 0.32669015792401956, 0.30529123928270824, 0.29673167182618376, 0.27818594233704724, 0.273906158608785, 0.2710529694566101, 0.26677318572834785, 0.24537426708703655, 0.24109448335877426, 0.23824129420659942, 0.2311083213261623, 0.2082828081087636, 0.199723240652239, 0.19829664607615163, 0.19401686234788934, 0.18973707861962708, 0.18260410573918998, 0.1783243220109277, 0.17689772743484028, 0.16120518709787865, 0.14836583591309188, 0.14693924133700442, 0.13980626845656732, 0.13837967388047992, 0.11555416066308115, 0.11412756608699373, 0.11270097151090631, 0.11270097151090631, 0.1112743769348189, 0.10556799863046921, 0.10128821490220694, 0.10128821490220694, 0.09700843117394467, 0.09700843117394467, 0.09700843117394467, 0.09700843117394467, 0.08702226914133272, 0.08416907998915789, 0.08416907998915789, 0.08131589083698304, 0.07988929626089561, 0.07988929626089561, 0.07560951253263336, 0.07275632338045851, 0.07275632338045851, 0.06990313422828366, 0.06847653965219624, 0.06704994507610883, 0.05849037761958428, 0.05849037761958428, 0.05563718846740945, 0.054210593891322024, 0.05278399931523461, 0.05278399931523461, 0.05135740473914718, 0.05135740473914718, 0.048504215586972335, 0.048504215586972335, 0.045651026434797494, 0.04279783728262265, 0.04137124270653523, 0.03851805355436039, 0.03709145897827297, 0.03566486440218554, 0.03566486440218554, 0.03423826982609812, 0.0328116752500107, 0.0328116752500107, 0.031385080673923274, 0.029958486097835857, 0.028531891521748433, 0.027105296945661012, 0.027105296945661012, 0.024252107793486168, 0.022825513217398747, 0.022825513217398747, 0.021398918641311326, 0.021398918641311326, 0.021398918641311326, 0.021398918641311326, 0.021398918641311326, 0.019972324065223902, 0.019972324065223902, 0.018545729489136485, 0.01711913491304906, 0.01711913491304906, 0.01711913491304906, 0.01711913491304906, 0.015692540336961637, 0.015692540336961637, 0.015692540336961637, 0.015692540336961637, 0.012839351184786796, 0.012839351184786796, 0.011412756608699373, 0.011412756608699373, 0.011412756608699373, 0.011412756608699373, 0.011412756608699373, 0.009986162032611951, 0.009986162032611951, 0.009986162032611951, 0.009986162032611951, 0.00855956745652453, 0.00855956745652453, 0.00855956745652453, 0.00855956745652453, 0.00855956745652453, 0.00855956745652453, 0.007132972880437108, 0.007132972880437108, 0.007132972880437108, 0.007132972880437108, 0.007132972880437108, 0.007132972880437108, 0.007132972880437108, 0.007132972880437108, 0.007132972880437108, 0.007132972880437108, 0.007132972880437108, 0.007132972880437108, 0.007132972880437108, 0.005706378304349687, 0.005706378304349687, 0.005706378304349687, 0.005706378304349687, 0.004279783728262265, 0.004279783728262265, 0.004279783728262265, 0.004279783728262265, 0.004279783728262265, 0.004279783728262265, 0.004279783728262265, 0.004279783728262265, 0.004279783728262265, 0.004279783728262265, 0.004279783728262265, 0.004279783728262265, 0.004279783728262265, 0.004279783728262265, 0.004279783728262265, 0.0028531891521748434, 0.0028531891521748434, 0.0028531891521748434, 0.0028531891521748434, 0.0028531891521748434, 0.0028531891521748434, 0.0028531891521748434, 0.0028531891521748434, 0.0028531891521748434, 0.0028531891521748434, 0.0028531891521748434, 0.0028531891521748434, 0.0028531891521748434, 0.0028531891521748434, 0.0028531891521748434, 0.0028531891521748434, 0.0028531891521748434, 0.0014265945760874217, 0.0014265945760874217, 0.0014265945760874217, 0.0014265945760874217, 0.0014265945760874217, 0.0014265945760874217, 0.0014265945760874217, 0.0014265945760874217, 0.0014265945760874217, 0.0014265945760874217, 0.0014265945760874217, 0.0014265945760874217, 0.0014265945760874217, 0.0014265945760874217, 0.0014265945760874217, 0.0014265945760874217, 0.0014265945760874217, 0.0014265945760874217, 0.0014265945760874217, 0.0014265945760874217, 0.0014265945760874217, 0.0014265945760874217, 0.0014265945760874217, 0.0014265945760874217, 0.0014265945760874217, 0.0014265945760874217, 0.0014265945760874217, 0.0014265945760874217, 0.0014265945760874217, 0.0014265945760874217, 0.0014265945760874217, 0.0014265945760874217, 0.0014265945760874217, 0.0014265945760874217, 0.0014265945760874217, 0.0014265945760874217, 0.0014265945760874217, 0.0014265945760874217, 0.0014265945760874217], \"yaxis\": \"y\"}],                        {\"barmode\": \"relative\", \"legend\": {\"tracegroupgap\": 0}, \"margin\": {\"t\": 60}, \"template\": {\"data\": {\"bar\": [{\"error_x\": {\"color\": \"#2a3f5f\"}, \"error_y\": {\"color\": \"#2a3f5f\"}, \"marker\": {\"line\": {\"color\": \"#E5ECF6\", \"width\": 0.5}}, \"type\": \"bar\"}], \"barpolar\": [{\"marker\": {\"line\": {\"color\": \"#E5ECF6\", \"width\": 0.5}}, \"type\": \"barpolar\"}], \"carpet\": [{\"aaxis\": {\"endlinecolor\": \"#2a3f5f\", \"gridcolor\": \"white\", \"linecolor\": \"white\", \"minorgridcolor\": \"white\", \"startlinecolor\": \"#2a3f5f\"}, \"baxis\": {\"endlinecolor\": \"#2a3f5f\", \"gridcolor\": \"white\", \"linecolor\": \"white\", \"minorgridcolor\": \"white\", \"startlinecolor\": \"#2a3f5f\"}, \"type\": \"carpet\"}], \"choropleth\": [{\"colorbar\": {\"outlinewidth\": 0, \"ticks\": \"\"}, \"type\": \"choropleth\"}], \"contour\": [{\"colorbar\": {\"outlinewidth\": 0, \"ticks\": \"\"}, \"colorscale\": [[0.0, \"#0d0887\"], [0.1111111111111111, \"#46039f\"], [0.2222222222222222, \"#7201a8\"], [0.3333333333333333, \"#9c179e\"], [0.4444444444444444, \"#bd3786\"], [0.5555555555555556, \"#d8576b\"], [0.6666666666666666, \"#ed7953\"], [0.7777777777777778, \"#fb9f3a\"], [0.8888888888888888, \"#fdca26\"], [1.0, \"#f0f921\"]], \"type\": \"contour\"}], \"contourcarpet\": [{\"colorbar\": {\"outlinewidth\": 0, \"ticks\": \"\"}, \"type\": \"contourcarpet\"}], \"heatmap\": [{\"colorbar\": {\"outlinewidth\": 0, \"ticks\": \"\"}, \"colorscale\": [[0.0, \"#0d0887\"], [0.1111111111111111, \"#46039f\"], [0.2222222222222222, \"#7201a8\"], [0.3333333333333333, \"#9c179e\"], [0.4444444444444444, \"#bd3786\"], [0.5555555555555556, \"#d8576b\"], [0.6666666666666666, \"#ed7953\"], [0.7777777777777778, \"#fb9f3a\"], [0.8888888888888888, \"#fdca26\"], [1.0, \"#f0f921\"]], \"type\": \"heatmap\"}], \"heatmapgl\": [{\"colorbar\": {\"outlinewidth\": 0, \"ticks\": \"\"}, \"colorscale\": [[0.0, \"#0d0887\"], [0.1111111111111111, \"#46039f\"], [0.2222222222222222, \"#7201a8\"], [0.3333333333333333, \"#9c179e\"], [0.4444444444444444, \"#bd3786\"], [0.5555555555555556, \"#d8576b\"], [0.6666666666666666, \"#ed7953\"], [0.7777777777777778, \"#fb9f3a\"], [0.8888888888888888, \"#fdca26\"], [1.0, \"#f0f921\"]], \"type\": \"heatmapgl\"}], \"histogram\": [{\"marker\": {\"colorbar\": {\"outlinewidth\": 0, \"ticks\": \"\"}}, \"type\": \"histogram\"}], \"histogram2d\": [{\"colorbar\": {\"outlinewidth\": 0, \"ticks\": \"\"}, \"colorscale\": [[0.0, \"#0d0887\"], [0.1111111111111111, \"#46039f\"], [0.2222222222222222, \"#7201a8\"], [0.3333333333333333, \"#9c179e\"], [0.4444444444444444, \"#bd3786\"], [0.5555555555555556, \"#d8576b\"], [0.6666666666666666, \"#ed7953\"], [0.7777777777777778, \"#fb9f3a\"], [0.8888888888888888, \"#fdca26\"], [1.0, \"#f0f921\"]], \"type\": \"histogram2d\"}], \"histogram2dcontour\": [{\"colorbar\": {\"outlinewidth\": 0, \"ticks\": \"\"}, \"colorscale\": [[0.0, \"#0d0887\"], [0.1111111111111111, \"#46039f\"], [0.2222222222222222, \"#7201a8\"], [0.3333333333333333, \"#9c179e\"], [0.4444444444444444, \"#bd3786\"], [0.5555555555555556, \"#d8576b\"], [0.6666666666666666, \"#ed7953\"], [0.7777777777777778, \"#fb9f3a\"], [0.8888888888888888, \"#fdca26\"], [1.0, \"#f0f921\"]], \"type\": \"histogram2dcontour\"}], \"mesh3d\": [{\"colorbar\": {\"outlinewidth\": 0, \"ticks\": \"\"}, \"type\": \"mesh3d\"}], \"parcoords\": [{\"line\": {\"colorbar\": {\"outlinewidth\": 0, \"ticks\": \"\"}}, \"type\": \"parcoords\"}], \"pie\": [{\"automargin\": true, \"type\": \"pie\"}], \"scatter\": [{\"marker\": {\"colorbar\": {\"outlinewidth\": 0, \"ticks\": \"\"}}, \"type\": \"scatter\"}], \"scatter3d\": [{\"line\": {\"colorbar\": {\"outlinewidth\": 0, \"ticks\": \"\"}}, \"marker\": {\"colorbar\": {\"outlinewidth\": 0, \"ticks\": \"\"}}, \"type\": \"scatter3d\"}], \"scattercarpet\": [{\"marker\": {\"colorbar\": {\"outlinewidth\": 0, \"ticks\": \"\"}}, \"type\": \"scattercarpet\"}], \"scattergeo\": [{\"marker\": {\"colorbar\": {\"outlinewidth\": 0, \"ticks\": \"\"}}, \"type\": \"scattergeo\"}], \"scattergl\": [{\"marker\": {\"colorbar\": {\"outlinewidth\": 0, \"ticks\": \"\"}}, \"type\": \"scattergl\"}], \"scattermapbox\": [{\"marker\": {\"colorbar\": {\"outlinewidth\": 0, \"ticks\": \"\"}}, \"type\": \"scattermapbox\"}], \"scatterpolar\": [{\"marker\": {\"colorbar\": {\"outlinewidth\": 0, \"ticks\": \"\"}}, \"type\": \"scatterpolar\"}], \"scatterpolargl\": [{\"marker\": {\"colorbar\": {\"outlinewidth\": 0, \"ticks\": \"\"}}, \"type\": \"scatterpolargl\"}], \"scatterternary\": [{\"marker\": {\"colorbar\": {\"outlinewidth\": 0, \"ticks\": \"\"}}, \"type\": \"scatterternary\"}], \"surface\": [{\"colorbar\": {\"outlinewidth\": 0, \"ticks\": \"\"}, \"colorscale\": [[0.0, \"#0d0887\"], [0.1111111111111111, \"#46039f\"], [0.2222222222222222, \"#7201a8\"], [0.3333333333333333, \"#9c179e\"], [0.4444444444444444, \"#bd3786\"], [0.5555555555555556, \"#d8576b\"], [0.6666666666666666, \"#ed7953\"], [0.7777777777777778, \"#fb9f3a\"], [0.8888888888888888, \"#fdca26\"], [1.0, \"#f0f921\"]], \"type\": \"surface\"}], \"table\": [{\"cells\": {\"fill\": {\"color\": \"#EBF0F8\"}, \"line\": {\"color\": \"white\"}}, \"header\": {\"fill\": {\"color\": \"#C8D4E3\"}, \"line\": {\"color\": \"white\"}}, \"type\": \"table\"}]}, \"layout\": {\"annotationdefaults\": {\"arrowcolor\": \"#2a3f5f\", \"arrowhead\": 0, \"arrowwidth\": 1}, \"autotypenumbers\": \"strict\", \"coloraxis\": {\"colorbar\": {\"outlinewidth\": 0, \"ticks\": \"\"}}, \"colorscale\": {\"diverging\": [[0, \"#8e0152\"], [0.1, \"#c51b7d\"], [0.2, \"#de77ae\"], [0.3, \"#f1b6da\"], [0.4, \"#fde0ef\"], [0.5, \"#f7f7f7\"], [0.6, \"#e6f5d0\"], [0.7, \"#b8e186\"], [0.8, \"#7fbc41\"], [0.9, \"#4d9221\"], [1, \"#276419\"]], \"sequential\": [[0.0, \"#0d0887\"], [0.1111111111111111, \"#46039f\"], [0.2222222222222222, \"#7201a8\"], [0.3333333333333333, \"#9c179e\"], [0.4444444444444444, \"#bd3786\"], [0.5555555555555556, \"#d8576b\"], [0.6666666666666666, \"#ed7953\"], [0.7777777777777778, \"#fb9f3a\"], [0.8888888888888888, \"#fdca26\"], [1.0, \"#f0f921\"]], \"sequentialminus\": [[0.0, \"#0d0887\"], [0.1111111111111111, \"#46039f\"], [0.2222222222222222, \"#7201a8\"], [0.3333333333333333, \"#9c179e\"], [0.4444444444444444, \"#bd3786\"], [0.5555555555555556, \"#d8576b\"], [0.6666666666666666, \"#ed7953\"], [0.7777777777777778, \"#fb9f3a\"], [0.8888888888888888, \"#fdca26\"], [1.0, \"#f0f921\"]]}, \"colorway\": [\"#636efa\", \"#EF553B\", \"#00cc96\", \"#ab63fa\", \"#FFA15A\", \"#19d3f3\", \"#FF6692\", \"#B6E880\", \"#FF97FF\", \"#FECB52\"], \"font\": {\"color\": \"#2a3f5f\"}, \"geo\": {\"bgcolor\": \"white\", \"lakecolor\": \"white\", \"landcolor\": \"#E5ECF6\", \"showlakes\": true, \"showland\": true, \"subunitcolor\": \"white\"}, \"hoverlabel\": {\"align\": \"left\"}, \"hovermode\": \"closest\", \"mapbox\": {\"style\": \"light\"}, \"paper_bgcolor\": \"white\", \"plot_bgcolor\": \"#E5ECF6\", \"polar\": {\"angularaxis\": {\"gridcolor\": \"white\", \"linecolor\": \"white\", \"ticks\": \"\"}, \"bgcolor\": \"#E5ECF6\", \"radialaxis\": {\"gridcolor\": \"white\", \"linecolor\": \"white\", \"ticks\": \"\"}}, \"scene\": {\"xaxis\": {\"backgroundcolor\": \"#E5ECF6\", \"gridcolor\": \"white\", \"gridwidth\": 2, \"linecolor\": \"white\", \"showbackground\": true, \"ticks\": \"\", \"zerolinecolor\": \"white\"}, \"yaxis\": {\"backgroundcolor\": \"#E5ECF6\", \"gridcolor\": \"white\", \"gridwidth\": 2, \"linecolor\": \"white\", \"showbackground\": true, \"ticks\": \"\", \"zerolinecolor\": \"white\"}, \"zaxis\": {\"backgroundcolor\": \"#E5ECF6\", \"gridcolor\": \"white\", \"gridwidth\": 2, \"linecolor\": \"white\", \"showbackground\": true, \"ticks\": \"\", \"zerolinecolor\": \"white\"}}, \"shapedefaults\": {\"line\": {\"color\": \"#2a3f5f\"}}, \"ternary\": {\"aaxis\": {\"gridcolor\": \"white\", \"linecolor\": \"white\", \"ticks\": \"\"}, \"baxis\": {\"gridcolor\": \"white\", \"linecolor\": \"white\", \"ticks\": \"\"}, \"bgcolor\": \"#E5ECF6\", \"caxis\": {\"gridcolor\": \"white\", \"linecolor\": \"white\", \"ticks\": \"\"}}, \"title\": {\"x\": 0.05}, \"xaxis\": {\"automargin\": true, \"gridcolor\": \"white\", \"linecolor\": \"white\", \"ticks\": \"\", \"title\": {\"standoff\": 15}, \"zerolinecolor\": \"white\", \"zerolinewidth\": 2}, \"yaxis\": {\"automargin\": true, \"gridcolor\": \"white\", \"linecolor\": \"white\", \"ticks\": \"\", \"title\": {\"standoff\": 15}, \"zerolinecolor\": \"white\", \"zerolinewidth\": 2}}}, \"xaxis\": {\"anchor\": \"y\", \"domain\": [0.0, 1.0], \"range\": [89.5, 110.5], \"title\": {\"text\": \"Runs\"}}, \"yaxis\": {\"anchor\": \"x\", \"domain\": [0.0, 1.0], \"range\": [0, 0.15], \"title\": {\"text\": \"Percentage\"}}},                        {\"responsive\": true}                    ).then(function(){\n",
       "                            \n",
       "var gd = document.getElementById('1c2dd8dc-436b-4e07-aacf-1895054ec313');\n",
       "var x = new MutationObserver(function (mutations, observer) {{\n",
       "        var display = window.getComputedStyle(gd).display;\n",
       "        if (!display || display === 'none') {{\n",
       "            console.log([gd, 'removed!']);\n",
       "            Plotly.purge(gd);\n",
       "            observer.disconnect();\n",
       "        }}\n",
       "}});\n",
       "\n",
       "// Listen for the removal of the full notebook cells\n",
       "var notebookContainer = gd.closest('#notebook-container');\n",
       "if (notebookContainer) {{\n",
       "    x.observe(notebookContainer, {childList: true});\n",
       "}}\n",
       "\n",
       "// Listen for the clearing of the current output cell\n",
       "var outputEl = gd.closest('.output');\n",
       "if (outputEl) {{\n",
       "    x.observe(outputEl, {childList: true});\n",
       "}}\n",
       "\n",
       "                        })                };                });            </script>        </div>"
      ]
     },
     "metadata": {},
     "output_type": "display_data"
    }
   ],
   "source": [
    "#Look at 100 mark\n",
    "fig = px.bar(df, x='Runs', y='Percentage')\n",
    "fig.update_yaxes(range=[0,0.15])\n",
    "fig.update_xaxes(range=[89.5,110.5])\n",
    "fig.show()"
   ]
  },
  {
   "cell_type": "code",
   "execution_count": 82,
   "metadata": {},
   "outputs": [
    {
     "data": {
      "text/plain": [
       "Index(['match_id', 'start_date', 'venue', 'batting_team', 'bowling_team',\n",
       "       'innings', 'position', 'batsman', 'runs', 'balls_faced', 'bowler',\n",
       "       'how_out'],\n",
       "      dtype='object')"
      ]
     },
     "execution_count": 82,
     "metadata": {},
     "output_type": "execute_result"
    }
   ],
   "source": [
    "all_scores.columns"
   ]
  },
  {
   "cell_type": "code",
   "execution_count": 177,
   "metadata": {},
   "outputs": [
    {
     "data": {
      "text/html": [
       "<div>\n",
       "<style scoped>\n",
       "    .dataframe tbody tr th:only-of-type {\n",
       "        vertical-align: middle;\n",
       "    }\n",
       "\n",
       "    .dataframe tbody tr th {\n",
       "        vertical-align: top;\n",
       "    }\n",
       "\n",
       "    .dataframe thead th {\n",
       "        text-align: right;\n",
       "    }\n",
       "</style>\n",
       "<table border=\"1\" class=\"dataframe\">\n",
       "  <thead>\n",
       "    <tr style=\"text-align: right;\">\n",
       "      <th></th>\n",
       "      <th>batsman</th>\n",
       "      <th>batting_team</th>\n",
       "      <th>runs</th>\n",
       "      <th>n_dismissals</th>\n",
       "      <th>n_not_outs</th>\n",
       "      <th>n_inns</th>\n",
       "      <th>average</th>\n",
       "    </tr>\n",
       "  </thead>\n",
       "  <tbody>\n",
       "    <tr>\n",
       "      <th>65</th>\n",
       "      <td>A Rawat</td>\n",
       "      <td>India</td>\n",
       "      <td>153</td>\n",
       "      <td>1</td>\n",
       "      <td>1.0</td>\n",
       "      <td>2.0</td>\n",
       "      <td>153.0</td>\n",
       "    </tr>\n",
       "    <tr>\n",
       "      <th>1448</th>\n",
       "      <td>KR Patterson</td>\n",
       "      <td>Australia</td>\n",
       "      <td>144</td>\n",
       "      <td>1</td>\n",
       "      <td>1.0</td>\n",
       "      <td>2.0</td>\n",
       "      <td>144.0</td>\n",
       "    </tr>\n",
       "    <tr>\n",
       "      <th>2572</th>\n",
       "      <td>SC Taylor</td>\n",
       "      <td>England</td>\n",
       "      <td>250</td>\n",
       "      <td>2</td>\n",
       "      <td>3.0</td>\n",
       "      <td>5.0</td>\n",
       "      <td>125.0</td>\n",
       "    </tr>\n",
       "    <tr>\n",
       "      <th>918</th>\n",
       "      <td>GK Diviya</td>\n",
       "      <td>Singapore</td>\n",
       "      <td>111</td>\n",
       "      <td>1</td>\n",
       "      <td>2.0</td>\n",
       "      <td>3.0</td>\n",
       "      <td>111.0</td>\n",
       "    </tr>\n",
       "    <tr>\n",
       "      <th>215</th>\n",
       "      <td>Aamer Yamin</td>\n",
       "      <td>Pakistan</td>\n",
       "      <td>110</td>\n",
       "      <td>1</td>\n",
       "      <td>3.0</td>\n",
       "      <td>4.0</td>\n",
       "      <td>110.0</td>\n",
       "    </tr>\n",
       "    <tr>\n",
       "      <th>...</th>\n",
       "      <td>...</td>\n",
       "      <td>...</td>\n",
       "      <td>...</td>\n",
       "      <td>...</td>\n",
       "      <td>...</td>\n",
       "      <td>...</td>\n",
       "      <td>...</td>\n",
       "    </tr>\n",
       "    <tr>\n",
       "      <th>3151</th>\n",
       "      <td>ZK Finkili</td>\n",
       "      <td>Tanzania</td>\n",
       "      <td>8</td>\n",
       "      <td>0</td>\n",
       "      <td>1.0</td>\n",
       "      <td>1.0</td>\n",
       "      <td>NaN</td>\n",
       "    </tr>\n",
       "    <tr>\n",
       "      <th>3152</th>\n",
       "      <td>ZK Shem</td>\n",
       "      <td>Vanuatu</td>\n",
       "      <td>1</td>\n",
       "      <td>0</td>\n",
       "      <td>1.0</td>\n",
       "      <td>1.0</td>\n",
       "      <td>NaN</td>\n",
       "    </tr>\n",
       "    <tr>\n",
       "      <th>3158</th>\n",
       "      <td>Zahid Shah</td>\n",
       "      <td>United Arab Emirates</td>\n",
       "      <td>11</td>\n",
       "      <td>0</td>\n",
       "      <td>2.0</td>\n",
       "      <td>2.0</td>\n",
       "      <td>NaN</td>\n",
       "    </tr>\n",
       "    <tr>\n",
       "      <th>3163</th>\n",
       "      <td>Zakiullah Zaki</td>\n",
       "      <td>Afghanistan</td>\n",
       "      <td>3</td>\n",
       "      <td>0</td>\n",
       "      <td>1.0</td>\n",
       "      <td>1.0</td>\n",
       "      <td>NaN</td>\n",
       "    </tr>\n",
       "    <tr>\n",
       "      <th>3171</th>\n",
       "      <td>Zhang Xiangxue</td>\n",
       "      <td>China</td>\n",
       "      <td>2</td>\n",
       "      <td>0</td>\n",
       "      <td>1.0</td>\n",
       "      <td>1.0</td>\n",
       "      <td>NaN</td>\n",
       "    </tr>\n",
       "  </tbody>\n",
       "</table>\n",
       "<p>3182 rows × 7 columns</p>\n",
       "</div>"
      ],
      "text/plain": [
       "             batsman          batting_team  runs  n_dismissals  n_not_outs  \\\n",
       "65           A Rawat                 India   153             1         1.0   \n",
       "1448    KR Patterson             Australia   144             1         1.0   \n",
       "2572       SC Taylor               England   250             2         3.0   \n",
       "918        GK Diviya             Singapore   111             1         2.0   \n",
       "215      Aamer Yamin              Pakistan   110             1         3.0   \n",
       "...              ...                   ...   ...           ...         ...   \n",
       "3151      ZK Finkili              Tanzania     8             0         1.0   \n",
       "3152         ZK Shem               Vanuatu     1             0         1.0   \n",
       "3158      Zahid Shah  United Arab Emirates    11             0         2.0   \n",
       "3163  Zakiullah Zaki           Afghanistan     3             0         1.0   \n",
       "3171  Zhang Xiangxue                 China     2             0         1.0   \n",
       "\n",
       "      n_inns  average  \n",
       "65       2.0    153.0  \n",
       "1448     2.0    144.0  \n",
       "2572     5.0    125.0  \n",
       "918      3.0    111.0  \n",
       "215      4.0    110.0  \n",
       "...      ...      ...  \n",
       "3151     1.0      NaN  \n",
       "3152     1.0      NaN  \n",
       "3158     2.0      NaN  \n",
       "3163     1.0      NaN  \n",
       "3171     1.0      NaN  \n",
       "\n",
       "[3182 rows x 7 columns]"
      ]
     },
     "execution_count": 177,
     "metadata": {},
     "output_type": "execute_result"
    }
   ],
   "source": [
    "#Work out batsmans total runs, times out and times not out\n",
    "totals = all_scores[['runs','batsman','batting_team']].groupby(['batsman','batting_team']).sum().reset_index()\n",
    "times_out = all_scores[['how_out','batsman']].groupby(['batsman']).count().reset_index().rename(columns = {'how_out':'n_dismissals'})\n",
    "all_not_outs = all_scores[pd.isnull(all_scores.how_out)]\n",
    "all_not_outs = all_not_outs.assign(how_out=\"not_out\")\n",
    "not_outs =  all_not_outs[['how_out','batsman']].groupby(['batsman']).count().reset_index().rename(columns = {'how_out':'n_not_outs'})\n",
    "\n",
    "#Now merge all tables as one, make NaNs as 0s\n",
    "averages = pd.merge(totals,times_out,how=\"left\",on=[\"batsman\"])\n",
    "averages =pd.merge(averages,not_outs,how=\"left\",on=[\"batsman\"])\n",
    "averages = averages.fillna(0)\n",
    "\n",
    "#Calculate average and number of innings\n",
    "averages['n_inns'] = averages['n_dismissals']+averages['n_not_outs']\n",
    "averages['average'] = averages['runs']/averages['n_dismissals']\n",
    "#If average is inf set it to NaN \n",
    "averages.loc[np.isinf(averages['average']),'average'] = float('NaN')\n",
    "     # bat_order.loc[bat_order.variable == 'non_striker', 'ball'] = bat_order['ball']+0.01\n",
    "all_not_outs = all_scores[pd.isnull(all_scores.how_out)]\n",
    "#Sort and export as csv\n",
    "averages = averages.sort_values(['average'],ascending=False)\n",
    "averages.to_csv(folder + \"averages.csv\",index=False)\n",
    "averages"
   ]
  },
  {
   "cell_type": "code",
   "execution_count": 228,
   "metadata": {},
   "outputs": [],
   "source": [
    "#Merge with all scores\n",
    "combined_scores = pd.merge(all_scores_excl,averages.rename(columns = {'runs':'total_runs'}),how='left',on=['batsman','batting_team'])\n",
    "#Identify \"good\" batsmen, assume bad by default\n",
    "combined_scores['quality'] = 'Bad'\n",
    "combined_scores.loc[(combined_scores['average']>=25) & (combined_scores['total_runs']>= 1000),['quality']] = 'Good'"
   ]
  },
  {
   "cell_type": "code",
   "execution_count": 298,
   "metadata": {},
   "outputs": [
    {
     "name": "stdout",
     "output_type": "stream",
     "text": [
      "There are 37160 innings in this dataset.\n",
      "There are 32937 innings in this dataset.\n"
     ]
    },
    {
     "data": {
      "application/vnd.plotly.v1+json": {
       "config": {
        "plotlyServerURL": "https://plot.ly"
       },
       "data": [
        {
         "hovertemplate": "quality=Good<br>Runs=%{x}<br>Percentage=%{y}<extra></extra>",
         "legendgroup": "Good",
         "line": {
          "color": "#636efa",
          "dash": "solid"
         },
         "mode": "lines",
         "name": "Good",
         "orientation": "v",
         "showlegend": true,
         "type": "scatter",
         "x": [
          0,
          1,
          2,
          3,
          4,
          5,
          6,
          7,
          8,
          9,
          10,
          11,
          12,
          13,
          14,
          15,
          16,
          17,
          18,
          19,
          20,
          21,
          22,
          23,
          24,
          25,
          26,
          27,
          28,
          29,
          30,
          31,
          32,
          33,
          34,
          35,
          36,
          37,
          38,
          39,
          40,
          41,
          42,
          43,
          44,
          45,
          46,
          47,
          48,
          49,
          50,
          51,
          52,
          53,
          54,
          55,
          56,
          57,
          58,
          59,
          60,
          61,
          62,
          63,
          64,
          65,
          66,
          67,
          68,
          69,
          70,
          71,
          72,
          73,
          74,
          75,
          76,
          77,
          78,
          79,
          80,
          81,
          82,
          83,
          84,
          85,
          86,
          87,
          88,
          89,
          90,
          91,
          92,
          93,
          94,
          95,
          96,
          97,
          98,
          99,
          100,
          101,
          102,
          103,
          104,
          105,
          106,
          107,
          108,
          109,
          110,
          111,
          112,
          113,
          114,
          115,
          116,
          117,
          118,
          119,
          120,
          121,
          122,
          123,
          124,
          125,
          126,
          127,
          128,
          129,
          130,
          131,
          132,
          133,
          134,
          135,
          136,
          137,
          138,
          139,
          140,
          141,
          142,
          143,
          144,
          145,
          146,
          147,
          148,
          149,
          150,
          151,
          152,
          153,
          154,
          155,
          156,
          157,
          158,
          159,
          160,
          161,
          162,
          163,
          164,
          165,
          166,
          167,
          168,
          169,
          170,
          171,
          172,
          173,
          174,
          175,
          176,
          177,
          178,
          179,
          180,
          181,
          182,
          183,
          184,
          185,
          186,
          187,
          188,
          189,
          190,
          191,
          192,
          193,
          194,
          195,
          196,
          197,
          199,
          200,
          201,
          202,
          203,
          204,
          205,
          206,
          208,
          209,
          210,
          211,
          212,
          213,
          214,
          215,
          216,
          217,
          218,
          219,
          221,
          224,
          225,
          226,
          227,
          228,
          230,
          231,
          232,
          234,
          235,
          236,
          238,
          239,
          240,
          243,
          245,
          251,
          253,
          254,
          258,
          260,
          262,
          263,
          264,
          270,
          275,
          287,
          290,
          291,
          293,
          294,
          302,
          313,
          317,
          319,
          333,
          374
         ],
         "xaxis": "x",
         "y": [
          7.473089343379978,
          3.8132400430570508,
          2.927879440258342,
          2.238966630785791,
          3.2185145317545745,
          2.8471474703982778,
          2.556512378902045,
          2.217438105489774,
          2.295479009687836,
          2.160925726587729,
          2.2093649085037677,
          2.0156081808396125,
          1.9052744886975244,
          1.956404736275565,
          1.7895586652314315,
          1.6980624327233584,
          1.7142088266953712,
          1.6065662002152852,
          1.5581270182992464,
          1.6307857911733046,
          1.4181916038751345,
          1.391280947255113,
          1.4020452099031218,
          1.3670613562970937,
          1.4854682454251884,
          1.3213132400430572,
          1.2217438105489773,
          1.1571582346609257,
          1.165231431646932,
          1.057588805166846,
          1.1033369214208828,
          1.036060279870829,
          0.9203444564047363,
          0.9580193756727664,
          0.8988159311087189,
          0.896124865446717,
          0.9230355220667384,
          0.8584499461786868,
          0.9445640473627557,
          0.8180839612486545,
          0.8557588805166846,
          0.7804090419806243,
          0.7561894510226049,
          0.791173304628633,
          0.6942949407965554,
          0.6889128094725512,
          0.7615715823466093,
          0.616254036598493,
          0.5597416576964478,
          0.5166846071044133,
          0.7346609257265877,
          0.6781485468245425,
          0.6081808396124866,
          0.5893433799784715,
          0.5705059203444565,
          0.5489773950484391,
          0.5220667384284177,
          0.457481162540366,
          0.48170075349838537,
          0.4655543595263724,
          0.44940796555435947,
          0.41173304628632934,
          0.48170075349838537,
          0.5166846071044133,
          0.4251883745963402,
          0.4063509149623251,
          0.36867599569429493,
          0.4009687836383208,
          0.38482238966630783,
          0.3713670613562971,
          0.3040904198062433,
          0.3928955866523143,
          0.29870828848223896,
          0.28525296017222823,
          0.317545748116254,
          0.2879440258342304,
          0.317545748116254,
          0.2960172228202368,
          0.2448869752421959,
          0.2933261571582346,
          0.27717976318622173,
          0.20990312163616792,
          0.23412271259418727,
          0.22335844994617868,
          0.16953713670613563,
          0.1883745963401507,
          0.18568353067814855,
          0.18299246501614638,
          0.16146393972012918,
          0.19106566200215283,
          0.16953713670613563,
          0.16146393972012918,
          0.15339074273412273,
          0.11571582346609258,
          0.13993541442411195,
          0.15608180839612487,
          0.12648008611410116,
          0.11840688912809472,
          0.0968783638320775,
          0.08880516684607105,
          0.13993541442411195,
          0.16953713670613563,
          0.18030139935414424,
          0.15339074273412273,
          0.13993541442411195,
          0.12648008611410116,
          0.12917115177610333,
          0.10495156081808396,
          0.08880516684607105,
          0.1318622174381055,
          0.12648008611410116,
          0.08073196986006459,
          0.10226049515608181,
          0.09956942949407965,
          0.05920344456404736,
          0.08342303552206674,
          0.08880516684607105,
          0.0861141011840689,
          0.08342303552206674,
          0.0968783638320775,
          0.05382131324004305,
          0.07804090419806244,
          0.06727664155005382,
          0.05651237890204521,
          0.06727664155005382,
          0.051130247578040904,
          0.06458557588805167,
          0.06458557588805167,
          0.06458557588805167,
          0.051130247578040904,
          0.05651237890204521,
          0.04305705059203445,
          0.03229278794402583,
          0.03767491926803014,
          0.03498385360602799,
          0.040365984930032295,
          0.04843918191603875,
          0.045748116254036596,
          0.04843918191603875,
          0.03767491926803014,
          0.03498385360602799,
          0.02960172228202368,
          0.024219590958019375,
          0.040365984930032295,
          0.040365984930032295,
          0.016146393972012917,
          0.026910656620021525,
          0.040365984930032295,
          0.02960172228202368,
          0.02960172228202368,
          0.02960172228202368,
          0.02960172228202368,
          0.021528525296017224,
          0.021528525296017224,
          0.013455328310010763,
          0.010764262648008612,
          0.026910656620021525,
          0.016146393972012917,
          0.021528525296017224,
          0.01883745963401507,
          0.01883745963401507,
          0.01883745963401507,
          0.01883745963401507,
          0.010764262648008612,
          0.016146393972012917,
          0.013455328310010763,
          0.016146393972012917,
          0.016146393972012917,
          0.008073196986006458,
          0.016146393972012917,
          0.008073196986006458,
          0.008073196986006458,
          0.005382131324004306,
          0.021528525296017224,
          0.010764262648008612,
          0.013455328310010763,
          0.03498385360602799,
          0.013455328310010763,
          0.008073196986006458,
          0.005382131324004306,
          0.016146393972012917,
          0.005382131324004306,
          0.005382131324004306,
          0.005382131324004306,
          0.002691065662002153,
          0.008073196986006458,
          0.013455328310010763,
          0.005382131324004306,
          0.002691065662002153,
          0.005382131324004306,
          0.008073196986006458,
          0.008073196986006458,
          0.016146393972012917,
          0.008073196986006458,
          0.005382131324004306,
          0.010764262648008612,
          0.013455328310010763,
          0.002691065662002153,
          0.013455328310010763,
          0.008073196986006458,
          0.005382131324004306,
          0.013455328310010763,
          0.008073196986006458,
          0.005382131324004306,
          0.002691065662002153,
          0.008073196986006458,
          0.002691065662002153,
          0.005382131324004306,
          0.002691065662002153,
          0.008073196986006458,
          0.008073196986006458,
          0.005382131324004306,
          0.005382131324004306,
          0.013455328310010763,
          0.002691065662002153,
          0.002691065662002153,
          0.008073196986006458,
          0.005382131324004306,
          0.005382131324004306,
          0.013455328310010763,
          0.002691065662002153,
          0.013455328310010763,
          0.002691065662002153,
          0.002691065662002153,
          0.002691065662002153,
          0.002691065662002153,
          0.002691065662002153,
          0.002691065662002153,
          0.005382131324004306,
          0.002691065662002153,
          0.002691065662002153,
          0.008073196986006458,
          0.002691065662002153,
          0.008073196986006458,
          0.002691065662002153,
          0.002691065662002153,
          0.002691065662002153,
          0.002691065662002153,
          0.002691065662002153,
          0.002691065662002153,
          0.002691065662002153,
          0.002691065662002153,
          0.002691065662002153,
          0.002691065662002153,
          0.002691065662002153,
          0.002691065662002153,
          0.002691065662002153,
          0.002691065662002153,
          0.002691065662002153,
          0.002691065662002153,
          0.002691065662002153,
          0.002691065662002153,
          0.002691065662002153,
          0.005382131324004306,
          0.002691065662002153,
          0.002691065662002153
         ],
         "yaxis": "y"
        },
        {
         "hovertemplate": "quality=Bad<br>Runs=%{x}<br>Percentage=%{y}<extra></extra>",
         "legendgroup": "Bad",
         "line": {
          "color": "#EF553B",
          "dash": "solid"
         },
         "mode": "lines",
         "name": "Bad",
         "orientation": "v",
         "showlegend": true,
         "type": "scatter",
         "x": [
          0,
          1,
          2,
          3,
          4,
          5,
          6,
          7,
          8,
          9,
          10,
          11,
          12,
          13,
          14,
          15,
          16,
          17,
          18,
          19,
          20,
          21,
          22,
          23,
          24,
          25,
          26,
          27,
          28,
          29,
          30,
          31,
          32,
          33,
          34,
          35,
          36,
          37,
          38,
          39,
          40,
          41,
          42,
          43,
          44,
          45,
          46,
          47,
          48,
          49,
          50,
          51,
          52,
          53,
          54,
          55,
          56,
          57,
          58,
          59,
          60,
          61,
          62,
          63,
          64,
          65,
          66,
          67,
          68,
          69,
          70,
          71,
          72,
          73,
          74,
          75,
          76,
          77,
          78,
          79,
          80,
          81,
          82,
          83,
          84,
          85,
          86,
          87,
          88,
          89,
          90,
          91,
          92,
          93,
          94,
          95,
          96,
          97,
          98,
          99,
          100,
          101,
          102,
          103,
          104,
          105,
          106,
          107,
          108,
          109,
          110,
          111,
          112,
          113,
          114,
          115,
          116,
          117,
          118,
          120,
          121,
          123,
          124,
          126,
          127,
          128,
          129,
          130,
          134,
          135,
          136,
          138,
          139,
          140,
          146,
          148,
          150,
          156,
          158,
          160,
          163,
          166,
          169,
          171,
          174,
          179,
          184,
          190,
          267
         ],
         "xaxis": "x",
         "y": [
          15.638947080790599,
          8.057807329143516,
          6.063090141785834,
          4.2232140146339985,
          5.07635789537602,
          4.420560463915961,
          3.758690834016456,
          3.4429365151653157,
          3.1757597838297356,
          2.8296444727813705,
          2.614081428181073,
          2.4349515742174455,
          2.5078179554907853,
          2.243677323374928,
          1.9643561951604576,
          1.8975620123265629,
          1.6182408841120928,
          1.6607462731882079,
          1.4360749309287428,
          1.3571363512159578,
          1.3115948629201202,
          1.2964143668215078,
          1.1446094058353828,
          1.0595986276831526,
          1.001912742508425,
          0.9472629565534201,
          0.8895770713786926,
          0.7772414002489602,
          0.8501077815223002,
          0.8015301940067401,
          0.7165194158545102,
          0.7316999119531227,
          0.5616783556486626,
          0.6224003400431126,
          0.5434617603303277,
          0.5707866533078301,
          0.4918480735950451,
          0.48577587515560006,
          0.53435346267116,
          0.44023438685976257,
          0.4098733946625376,
          0.38558460090475755,
          0.2945016243130825,
          0.3734402040258676,
          0.3491514102680876,
          0.3066460211919726,
          0.27021283055530254,
          0.24592403679752256,
          0.20341864772140755,
          0.20645474694113006,
          0.31271821963141755,
          0.21252694538057504,
          0.27021283055530254,
          0.18216595318335005,
          0.15180496098612503,
          0.18520205240307253,
          0.20038254850168502,
          0.13358836566779,
          0.16394935786501502,
          0.17305765552418254,
          0.12448006800862253,
          0.12751616722834502,
          0.15180496098612503,
          0.13055226644806753,
          0.10322737347056503,
          0.11840786956917751,
          0.09108297659167502,
          0.11537177034945502,
          0.07893857971278502,
          0.07286638127334001,
          0.06983028205361752,
          0.07893857971278502,
          0.0880468773719525,
          0.08197467893250751,
          0.08501077815223002,
          0.05464978595500501,
          0.06375808361417251,
          0.04250538907611501,
          0.03946928985639251,
          0.05768588517472751,
          0.030360992197225004,
          0.05768588517472751,
          0.04857758751556001,
          0.04554148829583751,
          0.051613686735282514,
          0.024288793757780005,
          0.030360992197225004,
          0.0333970914169475,
          0.0333970914169475,
          0.030360992197225004,
          0.0333970914169475,
          0.024288793757780005,
          0.0333970914169475,
          0.012144396878890002,
          0.012144396878890002,
          0.030360992197225004,
          0.027324892977502506,
          0.021252694538057504,
          0.006072198439445001,
          0.012144396878890002,
          0.021252694538057504,
          0.015180496098612502,
          0.012144396878890002,
          0.012144396878890002,
          0.021252694538057504,
          0.012144396878890002,
          0.015180496098612502,
          0.027324892977502506,
          0.012144396878890002,
          0.024288793757780005,
          0.006072198439445001,
          0.006072198439445001,
          0.009108297659167501,
          0.012144396878890002,
          0.006072198439445001,
          0.015180496098612502,
          0.0030360992197225006,
          0.021252694538057504,
          0.009108297659167501,
          0.006072198439445001,
          0.0030360992197225006,
          0.006072198439445001,
          0.012144396878890002,
          0.006072198439445001,
          0.009108297659167501,
          0.0030360992197225006,
          0.006072198439445001,
          0.006072198439445001,
          0.006072198439445001,
          0.0030360992197225006,
          0.0030360992197225006,
          0.006072198439445001,
          0.0030360992197225006,
          0.0030360992197225006,
          0.006072198439445001,
          0.0030360992197225006,
          0.0030360992197225006,
          0.0030360992197225006,
          0.0030360992197225006,
          0.0030360992197225006,
          0.0030360992197225006,
          0.0030360992197225006,
          0.006072198439445001,
          0.0030360992197225006,
          0.0030360992197225006,
          0.0030360992197225006,
          0.0030360992197225006,
          0.0030360992197225006,
          0.0030360992197225006
         ],
         "yaxis": "y"
        }
       ],
       "layout": {
        "legend": {
         "title": {
          "text": "quality"
         },
         "tracegroupgap": 0
        },
        "margin": {
         "t": 60
        },
        "template": {
         "data": {
          "bar": [
           {
            "error_x": {
             "color": "#2a3f5f"
            },
            "error_y": {
             "color": "#2a3f5f"
            },
            "marker": {
             "line": {
              "color": "#E5ECF6",
              "width": 0.5
             }
            },
            "type": "bar"
           }
          ],
          "barpolar": [
           {
            "marker": {
             "line": {
              "color": "#E5ECF6",
              "width": 0.5
             }
            },
            "type": "barpolar"
           }
          ],
          "carpet": [
           {
            "aaxis": {
             "endlinecolor": "#2a3f5f",
             "gridcolor": "white",
             "linecolor": "white",
             "minorgridcolor": "white",
             "startlinecolor": "#2a3f5f"
            },
            "baxis": {
             "endlinecolor": "#2a3f5f",
             "gridcolor": "white",
             "linecolor": "white",
             "minorgridcolor": "white",
             "startlinecolor": "#2a3f5f"
            },
            "type": "carpet"
           }
          ],
          "choropleth": [
           {
            "colorbar": {
             "outlinewidth": 0,
             "ticks": ""
            },
            "type": "choropleth"
           }
          ],
          "contour": [
           {
            "colorbar": {
             "outlinewidth": 0,
             "ticks": ""
            },
            "colorscale": [
             [
              0,
              "#0d0887"
             ],
             [
              0.1111111111111111,
              "#46039f"
             ],
             [
              0.2222222222222222,
              "#7201a8"
             ],
             [
              0.3333333333333333,
              "#9c179e"
             ],
             [
              0.4444444444444444,
              "#bd3786"
             ],
             [
              0.5555555555555556,
              "#d8576b"
             ],
             [
              0.6666666666666666,
              "#ed7953"
             ],
             [
              0.7777777777777778,
              "#fb9f3a"
             ],
             [
              0.8888888888888888,
              "#fdca26"
             ],
             [
              1,
              "#f0f921"
             ]
            ],
            "type": "contour"
           }
          ],
          "contourcarpet": [
           {
            "colorbar": {
             "outlinewidth": 0,
             "ticks": ""
            },
            "type": "contourcarpet"
           }
          ],
          "heatmap": [
           {
            "colorbar": {
             "outlinewidth": 0,
             "ticks": ""
            },
            "colorscale": [
             [
              0,
              "#0d0887"
             ],
             [
              0.1111111111111111,
              "#46039f"
             ],
             [
              0.2222222222222222,
              "#7201a8"
             ],
             [
              0.3333333333333333,
              "#9c179e"
             ],
             [
              0.4444444444444444,
              "#bd3786"
             ],
             [
              0.5555555555555556,
              "#d8576b"
             ],
             [
              0.6666666666666666,
              "#ed7953"
             ],
             [
              0.7777777777777778,
              "#fb9f3a"
             ],
             [
              0.8888888888888888,
              "#fdca26"
             ],
             [
              1,
              "#f0f921"
             ]
            ],
            "type": "heatmap"
           }
          ],
          "heatmapgl": [
           {
            "colorbar": {
             "outlinewidth": 0,
             "ticks": ""
            },
            "colorscale": [
             [
              0,
              "#0d0887"
             ],
             [
              0.1111111111111111,
              "#46039f"
             ],
             [
              0.2222222222222222,
              "#7201a8"
             ],
             [
              0.3333333333333333,
              "#9c179e"
             ],
             [
              0.4444444444444444,
              "#bd3786"
             ],
             [
              0.5555555555555556,
              "#d8576b"
             ],
             [
              0.6666666666666666,
              "#ed7953"
             ],
             [
              0.7777777777777778,
              "#fb9f3a"
             ],
             [
              0.8888888888888888,
              "#fdca26"
             ],
             [
              1,
              "#f0f921"
             ]
            ],
            "type": "heatmapgl"
           }
          ],
          "histogram": [
           {
            "marker": {
             "colorbar": {
              "outlinewidth": 0,
              "ticks": ""
             }
            },
            "type": "histogram"
           }
          ],
          "histogram2d": [
           {
            "colorbar": {
             "outlinewidth": 0,
             "ticks": ""
            },
            "colorscale": [
             [
              0,
              "#0d0887"
             ],
             [
              0.1111111111111111,
              "#46039f"
             ],
             [
              0.2222222222222222,
              "#7201a8"
             ],
             [
              0.3333333333333333,
              "#9c179e"
             ],
             [
              0.4444444444444444,
              "#bd3786"
             ],
             [
              0.5555555555555556,
              "#d8576b"
             ],
             [
              0.6666666666666666,
              "#ed7953"
             ],
             [
              0.7777777777777778,
              "#fb9f3a"
             ],
             [
              0.8888888888888888,
              "#fdca26"
             ],
             [
              1,
              "#f0f921"
             ]
            ],
            "type": "histogram2d"
           }
          ],
          "histogram2dcontour": [
           {
            "colorbar": {
             "outlinewidth": 0,
             "ticks": ""
            },
            "colorscale": [
             [
              0,
              "#0d0887"
             ],
             [
              0.1111111111111111,
              "#46039f"
             ],
             [
              0.2222222222222222,
              "#7201a8"
             ],
             [
              0.3333333333333333,
              "#9c179e"
             ],
             [
              0.4444444444444444,
              "#bd3786"
             ],
             [
              0.5555555555555556,
              "#d8576b"
             ],
             [
              0.6666666666666666,
              "#ed7953"
             ],
             [
              0.7777777777777778,
              "#fb9f3a"
             ],
             [
              0.8888888888888888,
              "#fdca26"
             ],
             [
              1,
              "#f0f921"
             ]
            ],
            "type": "histogram2dcontour"
           }
          ],
          "mesh3d": [
           {
            "colorbar": {
             "outlinewidth": 0,
             "ticks": ""
            },
            "type": "mesh3d"
           }
          ],
          "parcoords": [
           {
            "line": {
             "colorbar": {
              "outlinewidth": 0,
              "ticks": ""
             }
            },
            "type": "parcoords"
           }
          ],
          "pie": [
           {
            "automargin": true,
            "type": "pie"
           }
          ],
          "scatter": [
           {
            "marker": {
             "colorbar": {
              "outlinewidth": 0,
              "ticks": ""
             }
            },
            "type": "scatter"
           }
          ],
          "scatter3d": [
           {
            "line": {
             "colorbar": {
              "outlinewidth": 0,
              "ticks": ""
             }
            },
            "marker": {
             "colorbar": {
              "outlinewidth": 0,
              "ticks": ""
             }
            },
            "type": "scatter3d"
           }
          ],
          "scattercarpet": [
           {
            "marker": {
             "colorbar": {
              "outlinewidth": 0,
              "ticks": ""
             }
            },
            "type": "scattercarpet"
           }
          ],
          "scattergeo": [
           {
            "marker": {
             "colorbar": {
              "outlinewidth": 0,
              "ticks": ""
             }
            },
            "type": "scattergeo"
           }
          ],
          "scattergl": [
           {
            "marker": {
             "colorbar": {
              "outlinewidth": 0,
              "ticks": ""
             }
            },
            "type": "scattergl"
           }
          ],
          "scattermapbox": [
           {
            "marker": {
             "colorbar": {
              "outlinewidth": 0,
              "ticks": ""
             }
            },
            "type": "scattermapbox"
           }
          ],
          "scatterpolar": [
           {
            "marker": {
             "colorbar": {
              "outlinewidth": 0,
              "ticks": ""
             }
            },
            "type": "scatterpolar"
           }
          ],
          "scatterpolargl": [
           {
            "marker": {
             "colorbar": {
              "outlinewidth": 0,
              "ticks": ""
             }
            },
            "type": "scatterpolargl"
           }
          ],
          "scatterternary": [
           {
            "marker": {
             "colorbar": {
              "outlinewidth": 0,
              "ticks": ""
             }
            },
            "type": "scatterternary"
           }
          ],
          "surface": [
           {
            "colorbar": {
             "outlinewidth": 0,
             "ticks": ""
            },
            "colorscale": [
             [
              0,
              "#0d0887"
             ],
             [
              0.1111111111111111,
              "#46039f"
             ],
             [
              0.2222222222222222,
              "#7201a8"
             ],
             [
              0.3333333333333333,
              "#9c179e"
             ],
             [
              0.4444444444444444,
              "#bd3786"
             ],
             [
              0.5555555555555556,
              "#d8576b"
             ],
             [
              0.6666666666666666,
              "#ed7953"
             ],
             [
              0.7777777777777778,
              "#fb9f3a"
             ],
             [
              0.8888888888888888,
              "#fdca26"
             ],
             [
              1,
              "#f0f921"
             ]
            ],
            "type": "surface"
           }
          ],
          "table": [
           {
            "cells": {
             "fill": {
              "color": "#EBF0F8"
             },
             "line": {
              "color": "white"
             }
            },
            "header": {
             "fill": {
              "color": "#C8D4E3"
             },
             "line": {
              "color": "white"
             }
            },
            "type": "table"
           }
          ]
         },
         "layout": {
          "annotationdefaults": {
           "arrowcolor": "#2a3f5f",
           "arrowhead": 0,
           "arrowwidth": 1
          },
          "autotypenumbers": "strict",
          "coloraxis": {
           "colorbar": {
            "outlinewidth": 0,
            "ticks": ""
           }
          },
          "colorscale": {
           "diverging": [
            [
             0,
             "#8e0152"
            ],
            [
             0.1,
             "#c51b7d"
            ],
            [
             0.2,
             "#de77ae"
            ],
            [
             0.3,
             "#f1b6da"
            ],
            [
             0.4,
             "#fde0ef"
            ],
            [
             0.5,
             "#f7f7f7"
            ],
            [
             0.6,
             "#e6f5d0"
            ],
            [
             0.7,
             "#b8e186"
            ],
            [
             0.8,
             "#7fbc41"
            ],
            [
             0.9,
             "#4d9221"
            ],
            [
             1,
             "#276419"
            ]
           ],
           "sequential": [
            [
             0,
             "#0d0887"
            ],
            [
             0.1111111111111111,
             "#46039f"
            ],
            [
             0.2222222222222222,
             "#7201a8"
            ],
            [
             0.3333333333333333,
             "#9c179e"
            ],
            [
             0.4444444444444444,
             "#bd3786"
            ],
            [
             0.5555555555555556,
             "#d8576b"
            ],
            [
             0.6666666666666666,
             "#ed7953"
            ],
            [
             0.7777777777777778,
             "#fb9f3a"
            ],
            [
             0.8888888888888888,
             "#fdca26"
            ],
            [
             1,
             "#f0f921"
            ]
           ],
           "sequentialminus": [
            [
             0,
             "#0d0887"
            ],
            [
             0.1111111111111111,
             "#46039f"
            ],
            [
             0.2222222222222222,
             "#7201a8"
            ],
            [
             0.3333333333333333,
             "#9c179e"
            ],
            [
             0.4444444444444444,
             "#bd3786"
            ],
            [
             0.5555555555555556,
             "#d8576b"
            ],
            [
             0.6666666666666666,
             "#ed7953"
            ],
            [
             0.7777777777777778,
             "#fb9f3a"
            ],
            [
             0.8888888888888888,
             "#fdca26"
            ],
            [
             1,
             "#f0f921"
            ]
           ]
          },
          "colorway": [
           "#636efa",
           "#EF553B",
           "#00cc96",
           "#ab63fa",
           "#FFA15A",
           "#19d3f3",
           "#FF6692",
           "#B6E880",
           "#FF97FF",
           "#FECB52"
          ],
          "font": {
           "color": "#2a3f5f"
          },
          "geo": {
           "bgcolor": "white",
           "lakecolor": "white",
           "landcolor": "#E5ECF6",
           "showlakes": true,
           "showland": true,
           "subunitcolor": "white"
          },
          "hoverlabel": {
           "align": "left"
          },
          "hovermode": "closest",
          "mapbox": {
           "style": "light"
          },
          "paper_bgcolor": "white",
          "plot_bgcolor": "#E5ECF6",
          "polar": {
           "angularaxis": {
            "gridcolor": "white",
            "linecolor": "white",
            "ticks": ""
           },
           "bgcolor": "#E5ECF6",
           "radialaxis": {
            "gridcolor": "white",
            "linecolor": "white",
            "ticks": ""
           }
          },
          "scene": {
           "xaxis": {
            "backgroundcolor": "#E5ECF6",
            "gridcolor": "white",
            "gridwidth": 2,
            "linecolor": "white",
            "showbackground": true,
            "ticks": "",
            "zerolinecolor": "white"
           },
           "yaxis": {
            "backgroundcolor": "#E5ECF6",
            "gridcolor": "white",
            "gridwidth": 2,
            "linecolor": "white",
            "showbackground": true,
            "ticks": "",
            "zerolinecolor": "white"
           },
           "zaxis": {
            "backgroundcolor": "#E5ECF6",
            "gridcolor": "white",
            "gridwidth": 2,
            "linecolor": "white",
            "showbackground": true,
            "ticks": "",
            "zerolinecolor": "white"
           }
          },
          "shapedefaults": {
           "line": {
            "color": "#2a3f5f"
           }
          },
          "ternary": {
           "aaxis": {
            "gridcolor": "white",
            "linecolor": "white",
            "ticks": ""
           },
           "baxis": {
            "gridcolor": "white",
            "linecolor": "white",
            "ticks": ""
           },
           "bgcolor": "#E5ECF6",
           "caxis": {
            "gridcolor": "white",
            "linecolor": "white",
            "ticks": ""
           }
          },
          "title": {
           "x": 0.05
          },
          "xaxis": {
           "automargin": true,
           "gridcolor": "white",
           "linecolor": "white",
           "ticks": "",
           "title": {
            "standoff": 15
           },
           "zerolinecolor": "white",
           "zerolinewidth": 2
          },
          "yaxis": {
           "automargin": true,
           "gridcolor": "white",
           "linecolor": "white",
           "ticks": "",
           "title": {
            "standoff": 15
           },
           "zerolinecolor": "white",
           "zerolinewidth": 2
          }
         }
        },
        "xaxis": {
         "anchor": "y",
         "domain": [
          0,
          1
         ],
         "range": [
          -0.5,
          50.5
         ],
         "title": {
          "text": "Runs"
         }
        },
        "yaxis": {
         "anchor": "x",
         "domain": [
          0,
          1
         ],
         "title": {
          "text": "Percentage"
         }
        }
       }
      },
      "text/html": [
       "<div>                            <div id=\"fceac189-40b5-4ffb-a34f-0896e263c294\" class=\"plotly-graph-div\" style=\"height:525px; width:100%;\"></div>            <script type=\"text/javascript\">                require([\"plotly\"], function(Plotly) {                    window.PLOTLYENV=window.PLOTLYENV || {};                                    if (document.getElementById(\"fceac189-40b5-4ffb-a34f-0896e263c294\")) {                    Plotly.newPlot(                        \"fceac189-40b5-4ffb-a34f-0896e263c294\",                        [{\"hovertemplate\": \"quality=Good<br>Runs=%{x}<br>Percentage=%{y}<extra></extra>\", \"legendgroup\": \"Good\", \"line\": {\"color\": \"#636efa\", \"dash\": \"solid\"}, \"mode\": \"lines\", \"name\": \"Good\", \"orientation\": \"v\", \"showlegend\": true, \"type\": \"scatter\", \"x\": [0, 1, 2, 3, 4, 5, 6, 7, 8, 9, 10, 11, 12, 13, 14, 15, 16, 17, 18, 19, 20, 21, 22, 23, 24, 25, 26, 27, 28, 29, 30, 31, 32, 33, 34, 35, 36, 37, 38, 39, 40, 41, 42, 43, 44, 45, 46, 47, 48, 49, 50, 51, 52, 53, 54, 55, 56, 57, 58, 59, 60, 61, 62, 63, 64, 65, 66, 67, 68, 69, 70, 71, 72, 73, 74, 75, 76, 77, 78, 79, 80, 81, 82, 83, 84, 85, 86, 87, 88, 89, 90, 91, 92, 93, 94, 95, 96, 97, 98, 99, 100, 101, 102, 103, 104, 105, 106, 107, 108, 109, 110, 111, 112, 113, 114, 115, 116, 117, 118, 119, 120, 121, 122, 123, 124, 125, 126, 127, 128, 129, 130, 131, 132, 133, 134, 135, 136, 137, 138, 139, 140, 141, 142, 143, 144, 145, 146, 147, 148, 149, 150, 151, 152, 153, 154, 155, 156, 157, 158, 159, 160, 161, 162, 163, 164, 165, 166, 167, 168, 169, 170, 171, 172, 173, 174, 175, 176, 177, 178, 179, 180, 181, 182, 183, 184, 185, 186, 187, 188, 189, 190, 191, 192, 193, 194, 195, 196, 197, 199, 200, 201, 202, 203, 204, 205, 206, 208, 209, 210, 211, 212, 213, 214, 215, 216, 217, 218, 219, 221, 224, 225, 226, 227, 228, 230, 231, 232, 234, 235, 236, 238, 239, 240, 243, 245, 251, 253, 254, 258, 260, 262, 263, 264, 270, 275, 287, 290, 291, 293, 294, 302, 313, 317, 319, 333, 374], \"xaxis\": \"x\", \"y\": [7.473089343379978, 3.8132400430570508, 2.927879440258342, 2.238966630785791, 3.2185145317545745, 2.8471474703982778, 2.556512378902045, 2.217438105489774, 2.295479009687836, 2.160925726587729, 2.2093649085037677, 2.0156081808396125, 1.9052744886975244, 1.956404736275565, 1.7895586652314315, 1.6980624327233584, 1.7142088266953712, 1.6065662002152852, 1.5581270182992464, 1.6307857911733046, 1.4181916038751345, 1.391280947255113, 1.4020452099031218, 1.3670613562970937, 1.4854682454251884, 1.3213132400430572, 1.2217438105489773, 1.1571582346609257, 1.165231431646932, 1.057588805166846, 1.1033369214208828, 1.036060279870829, 0.9203444564047363, 0.9580193756727664, 0.8988159311087189, 0.896124865446717, 0.9230355220667384, 0.8584499461786868, 0.9445640473627557, 0.8180839612486545, 0.8557588805166846, 0.7804090419806243, 0.7561894510226049, 0.791173304628633, 0.6942949407965554, 0.6889128094725512, 0.7615715823466093, 0.616254036598493, 0.5597416576964478, 0.5166846071044133, 0.7346609257265877, 0.6781485468245425, 0.6081808396124866, 0.5893433799784715, 0.5705059203444565, 0.5489773950484391, 0.5220667384284177, 0.457481162540366, 0.48170075349838537, 0.4655543595263724, 0.44940796555435947, 0.41173304628632934, 0.48170075349838537, 0.5166846071044133, 0.4251883745963402, 0.4063509149623251, 0.36867599569429493, 0.4009687836383208, 0.38482238966630783, 0.3713670613562971, 0.3040904198062433, 0.3928955866523143, 0.29870828848223896, 0.28525296017222823, 0.317545748116254, 0.2879440258342304, 0.317545748116254, 0.2960172228202368, 0.2448869752421959, 0.2933261571582346, 0.27717976318622173, 0.20990312163616792, 0.23412271259418727, 0.22335844994617868, 0.16953713670613563, 0.1883745963401507, 0.18568353067814855, 0.18299246501614638, 0.16146393972012918, 0.19106566200215283, 0.16953713670613563, 0.16146393972012918, 0.15339074273412273, 0.11571582346609258, 0.13993541442411195, 0.15608180839612487, 0.12648008611410116, 0.11840688912809472, 0.0968783638320775, 0.08880516684607105, 0.13993541442411195, 0.16953713670613563, 0.18030139935414424, 0.15339074273412273, 0.13993541442411195, 0.12648008611410116, 0.12917115177610333, 0.10495156081808396, 0.08880516684607105, 0.1318622174381055, 0.12648008611410116, 0.08073196986006459, 0.10226049515608181, 0.09956942949407965, 0.05920344456404736, 0.08342303552206674, 0.08880516684607105, 0.0861141011840689, 0.08342303552206674, 0.0968783638320775, 0.05382131324004305, 0.07804090419806244, 0.06727664155005382, 0.05651237890204521, 0.06727664155005382, 0.051130247578040904, 0.06458557588805167, 0.06458557588805167, 0.06458557588805167, 0.051130247578040904, 0.05651237890204521, 0.04305705059203445, 0.03229278794402583, 0.03767491926803014, 0.03498385360602799, 0.040365984930032295, 0.04843918191603875, 0.045748116254036596, 0.04843918191603875, 0.03767491926803014, 0.03498385360602799, 0.02960172228202368, 0.024219590958019375, 0.040365984930032295, 0.040365984930032295, 0.016146393972012917, 0.026910656620021525, 0.040365984930032295, 0.02960172228202368, 0.02960172228202368, 0.02960172228202368, 0.02960172228202368, 0.021528525296017224, 0.021528525296017224, 0.013455328310010763, 0.010764262648008612, 0.026910656620021525, 0.016146393972012917, 0.021528525296017224, 0.01883745963401507, 0.01883745963401507, 0.01883745963401507, 0.01883745963401507, 0.010764262648008612, 0.016146393972012917, 0.013455328310010763, 0.016146393972012917, 0.016146393972012917, 0.008073196986006458, 0.016146393972012917, 0.008073196986006458, 0.008073196986006458, 0.005382131324004306, 0.021528525296017224, 0.010764262648008612, 0.013455328310010763, 0.03498385360602799, 0.013455328310010763, 0.008073196986006458, 0.005382131324004306, 0.016146393972012917, 0.005382131324004306, 0.005382131324004306, 0.005382131324004306, 0.002691065662002153, 0.008073196986006458, 0.013455328310010763, 0.005382131324004306, 0.002691065662002153, 0.005382131324004306, 0.008073196986006458, 0.008073196986006458, 0.016146393972012917, 0.008073196986006458, 0.005382131324004306, 0.010764262648008612, 0.013455328310010763, 0.002691065662002153, 0.013455328310010763, 0.008073196986006458, 0.005382131324004306, 0.013455328310010763, 0.008073196986006458, 0.005382131324004306, 0.002691065662002153, 0.008073196986006458, 0.002691065662002153, 0.005382131324004306, 0.002691065662002153, 0.008073196986006458, 0.008073196986006458, 0.005382131324004306, 0.005382131324004306, 0.013455328310010763, 0.002691065662002153, 0.002691065662002153, 0.008073196986006458, 0.005382131324004306, 0.005382131324004306, 0.013455328310010763, 0.002691065662002153, 0.013455328310010763, 0.002691065662002153, 0.002691065662002153, 0.002691065662002153, 0.002691065662002153, 0.002691065662002153, 0.002691065662002153, 0.005382131324004306, 0.002691065662002153, 0.002691065662002153, 0.008073196986006458, 0.002691065662002153, 0.008073196986006458, 0.002691065662002153, 0.002691065662002153, 0.002691065662002153, 0.002691065662002153, 0.002691065662002153, 0.002691065662002153, 0.002691065662002153, 0.002691065662002153, 0.002691065662002153, 0.002691065662002153, 0.002691065662002153, 0.002691065662002153, 0.002691065662002153, 0.002691065662002153, 0.002691065662002153, 0.002691065662002153, 0.002691065662002153, 0.002691065662002153, 0.002691065662002153, 0.005382131324004306, 0.002691065662002153, 0.002691065662002153], \"yaxis\": \"y\"}, {\"hovertemplate\": \"quality=Bad<br>Runs=%{x}<br>Percentage=%{y}<extra></extra>\", \"legendgroup\": \"Bad\", \"line\": {\"color\": \"#EF553B\", \"dash\": \"solid\"}, \"mode\": \"lines\", \"name\": \"Bad\", \"orientation\": \"v\", \"showlegend\": true, \"type\": \"scatter\", \"x\": [0, 1, 2, 3, 4, 5, 6, 7, 8, 9, 10, 11, 12, 13, 14, 15, 16, 17, 18, 19, 20, 21, 22, 23, 24, 25, 26, 27, 28, 29, 30, 31, 32, 33, 34, 35, 36, 37, 38, 39, 40, 41, 42, 43, 44, 45, 46, 47, 48, 49, 50, 51, 52, 53, 54, 55, 56, 57, 58, 59, 60, 61, 62, 63, 64, 65, 66, 67, 68, 69, 70, 71, 72, 73, 74, 75, 76, 77, 78, 79, 80, 81, 82, 83, 84, 85, 86, 87, 88, 89, 90, 91, 92, 93, 94, 95, 96, 97, 98, 99, 100, 101, 102, 103, 104, 105, 106, 107, 108, 109, 110, 111, 112, 113, 114, 115, 116, 117, 118, 120, 121, 123, 124, 126, 127, 128, 129, 130, 134, 135, 136, 138, 139, 140, 146, 148, 150, 156, 158, 160, 163, 166, 169, 171, 174, 179, 184, 190, 267], \"xaxis\": \"x\", \"y\": [15.638947080790599, 8.057807329143516, 6.063090141785834, 4.2232140146339985, 5.07635789537602, 4.420560463915961, 3.758690834016456, 3.4429365151653157, 3.1757597838297356, 2.8296444727813705, 2.614081428181073, 2.4349515742174455, 2.5078179554907853, 2.243677323374928, 1.9643561951604576, 1.8975620123265629, 1.6182408841120928, 1.6607462731882079, 1.4360749309287428, 1.3571363512159578, 1.3115948629201202, 1.2964143668215078, 1.1446094058353828, 1.0595986276831526, 1.001912742508425, 0.9472629565534201, 0.8895770713786926, 0.7772414002489602, 0.8501077815223002, 0.8015301940067401, 0.7165194158545102, 0.7316999119531227, 0.5616783556486626, 0.6224003400431126, 0.5434617603303277, 0.5707866533078301, 0.4918480735950451, 0.48577587515560006, 0.53435346267116, 0.44023438685976257, 0.4098733946625376, 0.38558460090475755, 0.2945016243130825, 0.3734402040258676, 0.3491514102680876, 0.3066460211919726, 0.27021283055530254, 0.24592403679752256, 0.20341864772140755, 0.20645474694113006, 0.31271821963141755, 0.21252694538057504, 0.27021283055530254, 0.18216595318335005, 0.15180496098612503, 0.18520205240307253, 0.20038254850168502, 0.13358836566779, 0.16394935786501502, 0.17305765552418254, 0.12448006800862253, 0.12751616722834502, 0.15180496098612503, 0.13055226644806753, 0.10322737347056503, 0.11840786956917751, 0.09108297659167502, 0.11537177034945502, 0.07893857971278502, 0.07286638127334001, 0.06983028205361752, 0.07893857971278502, 0.0880468773719525, 0.08197467893250751, 0.08501077815223002, 0.05464978595500501, 0.06375808361417251, 0.04250538907611501, 0.03946928985639251, 0.05768588517472751, 0.030360992197225004, 0.05768588517472751, 0.04857758751556001, 0.04554148829583751, 0.051613686735282514, 0.024288793757780005, 0.030360992197225004, 0.0333970914169475, 0.0333970914169475, 0.030360992197225004, 0.0333970914169475, 0.024288793757780005, 0.0333970914169475, 0.012144396878890002, 0.012144396878890002, 0.030360992197225004, 0.027324892977502506, 0.021252694538057504, 0.006072198439445001, 0.012144396878890002, 0.021252694538057504, 0.015180496098612502, 0.012144396878890002, 0.012144396878890002, 0.021252694538057504, 0.012144396878890002, 0.015180496098612502, 0.027324892977502506, 0.012144396878890002, 0.024288793757780005, 0.006072198439445001, 0.006072198439445001, 0.009108297659167501, 0.012144396878890002, 0.006072198439445001, 0.015180496098612502, 0.0030360992197225006, 0.021252694538057504, 0.009108297659167501, 0.006072198439445001, 0.0030360992197225006, 0.006072198439445001, 0.012144396878890002, 0.006072198439445001, 0.009108297659167501, 0.0030360992197225006, 0.006072198439445001, 0.006072198439445001, 0.006072198439445001, 0.0030360992197225006, 0.0030360992197225006, 0.006072198439445001, 0.0030360992197225006, 0.0030360992197225006, 0.006072198439445001, 0.0030360992197225006, 0.0030360992197225006, 0.0030360992197225006, 0.0030360992197225006, 0.0030360992197225006, 0.0030360992197225006, 0.0030360992197225006, 0.006072198439445001, 0.0030360992197225006, 0.0030360992197225006, 0.0030360992197225006, 0.0030360992197225006, 0.0030360992197225006, 0.0030360992197225006], \"yaxis\": \"y\"}],                        {\"legend\": {\"title\": {\"text\": \"quality\"}, \"tracegroupgap\": 0}, \"margin\": {\"t\": 60}, \"template\": {\"data\": {\"bar\": [{\"error_x\": {\"color\": \"#2a3f5f\"}, \"error_y\": {\"color\": \"#2a3f5f\"}, \"marker\": {\"line\": {\"color\": \"#E5ECF6\", \"width\": 0.5}}, \"type\": \"bar\"}], \"barpolar\": [{\"marker\": {\"line\": {\"color\": \"#E5ECF6\", \"width\": 0.5}}, \"type\": \"barpolar\"}], \"carpet\": [{\"aaxis\": {\"endlinecolor\": \"#2a3f5f\", \"gridcolor\": \"white\", \"linecolor\": \"white\", \"minorgridcolor\": \"white\", \"startlinecolor\": \"#2a3f5f\"}, \"baxis\": {\"endlinecolor\": \"#2a3f5f\", \"gridcolor\": \"white\", \"linecolor\": \"white\", \"minorgridcolor\": \"white\", \"startlinecolor\": \"#2a3f5f\"}, \"type\": \"carpet\"}], \"choropleth\": [{\"colorbar\": {\"outlinewidth\": 0, \"ticks\": \"\"}, \"type\": \"choropleth\"}], \"contour\": [{\"colorbar\": {\"outlinewidth\": 0, \"ticks\": \"\"}, \"colorscale\": [[0.0, \"#0d0887\"], [0.1111111111111111, \"#46039f\"], [0.2222222222222222, \"#7201a8\"], [0.3333333333333333, \"#9c179e\"], [0.4444444444444444, \"#bd3786\"], [0.5555555555555556, \"#d8576b\"], [0.6666666666666666, \"#ed7953\"], [0.7777777777777778, \"#fb9f3a\"], [0.8888888888888888, \"#fdca26\"], [1.0, \"#f0f921\"]], \"type\": \"contour\"}], \"contourcarpet\": [{\"colorbar\": {\"outlinewidth\": 0, \"ticks\": \"\"}, \"type\": \"contourcarpet\"}], \"heatmap\": [{\"colorbar\": {\"outlinewidth\": 0, \"ticks\": \"\"}, \"colorscale\": [[0.0, \"#0d0887\"], [0.1111111111111111, \"#46039f\"], [0.2222222222222222, \"#7201a8\"], [0.3333333333333333, \"#9c179e\"], [0.4444444444444444, \"#bd3786\"], [0.5555555555555556, \"#d8576b\"], [0.6666666666666666, \"#ed7953\"], [0.7777777777777778, \"#fb9f3a\"], [0.8888888888888888, \"#fdca26\"], [1.0, \"#f0f921\"]], \"type\": \"heatmap\"}], \"heatmapgl\": [{\"colorbar\": {\"outlinewidth\": 0, \"ticks\": \"\"}, \"colorscale\": [[0.0, \"#0d0887\"], [0.1111111111111111, \"#46039f\"], [0.2222222222222222, \"#7201a8\"], [0.3333333333333333, \"#9c179e\"], [0.4444444444444444, \"#bd3786\"], [0.5555555555555556, \"#d8576b\"], [0.6666666666666666, \"#ed7953\"], [0.7777777777777778, \"#fb9f3a\"], [0.8888888888888888, \"#fdca26\"], [1.0, \"#f0f921\"]], \"type\": \"heatmapgl\"}], \"histogram\": [{\"marker\": {\"colorbar\": {\"outlinewidth\": 0, \"ticks\": \"\"}}, \"type\": \"histogram\"}], \"histogram2d\": [{\"colorbar\": {\"outlinewidth\": 0, \"ticks\": \"\"}, \"colorscale\": [[0.0, \"#0d0887\"], [0.1111111111111111, \"#46039f\"], [0.2222222222222222, \"#7201a8\"], [0.3333333333333333, \"#9c179e\"], [0.4444444444444444, \"#bd3786\"], [0.5555555555555556, \"#d8576b\"], [0.6666666666666666, \"#ed7953\"], [0.7777777777777778, \"#fb9f3a\"], [0.8888888888888888, \"#fdca26\"], [1.0, \"#f0f921\"]], \"type\": \"histogram2d\"}], \"histogram2dcontour\": [{\"colorbar\": {\"outlinewidth\": 0, \"ticks\": \"\"}, \"colorscale\": [[0.0, \"#0d0887\"], [0.1111111111111111, \"#46039f\"], [0.2222222222222222, \"#7201a8\"], [0.3333333333333333, \"#9c179e\"], [0.4444444444444444, \"#bd3786\"], [0.5555555555555556, \"#d8576b\"], [0.6666666666666666, \"#ed7953\"], [0.7777777777777778, \"#fb9f3a\"], [0.8888888888888888, \"#fdca26\"], [1.0, \"#f0f921\"]], \"type\": \"histogram2dcontour\"}], \"mesh3d\": [{\"colorbar\": {\"outlinewidth\": 0, \"ticks\": \"\"}, \"type\": \"mesh3d\"}], \"parcoords\": [{\"line\": {\"colorbar\": {\"outlinewidth\": 0, \"ticks\": \"\"}}, \"type\": \"parcoords\"}], \"pie\": [{\"automargin\": true, \"type\": \"pie\"}], \"scatter\": [{\"marker\": {\"colorbar\": {\"outlinewidth\": 0, \"ticks\": \"\"}}, \"type\": \"scatter\"}], \"scatter3d\": [{\"line\": {\"colorbar\": {\"outlinewidth\": 0, \"ticks\": \"\"}}, \"marker\": {\"colorbar\": {\"outlinewidth\": 0, \"ticks\": \"\"}}, \"type\": \"scatter3d\"}], \"scattercarpet\": [{\"marker\": {\"colorbar\": {\"outlinewidth\": 0, \"ticks\": \"\"}}, \"type\": \"scattercarpet\"}], \"scattergeo\": [{\"marker\": {\"colorbar\": {\"outlinewidth\": 0, \"ticks\": \"\"}}, \"type\": \"scattergeo\"}], \"scattergl\": [{\"marker\": {\"colorbar\": {\"outlinewidth\": 0, \"ticks\": \"\"}}, \"type\": \"scattergl\"}], \"scattermapbox\": [{\"marker\": {\"colorbar\": {\"outlinewidth\": 0, \"ticks\": \"\"}}, \"type\": \"scattermapbox\"}], \"scatterpolar\": [{\"marker\": {\"colorbar\": {\"outlinewidth\": 0, \"ticks\": \"\"}}, \"type\": \"scatterpolar\"}], \"scatterpolargl\": [{\"marker\": {\"colorbar\": {\"outlinewidth\": 0, \"ticks\": \"\"}}, \"type\": \"scatterpolargl\"}], \"scatterternary\": [{\"marker\": {\"colorbar\": {\"outlinewidth\": 0, \"ticks\": \"\"}}, \"type\": \"scatterternary\"}], \"surface\": [{\"colorbar\": {\"outlinewidth\": 0, \"ticks\": \"\"}, \"colorscale\": [[0.0, \"#0d0887\"], [0.1111111111111111, \"#46039f\"], [0.2222222222222222, \"#7201a8\"], [0.3333333333333333, \"#9c179e\"], [0.4444444444444444, \"#bd3786\"], [0.5555555555555556, \"#d8576b\"], [0.6666666666666666, \"#ed7953\"], [0.7777777777777778, \"#fb9f3a\"], [0.8888888888888888, \"#fdca26\"], [1.0, \"#f0f921\"]], \"type\": \"surface\"}], \"table\": [{\"cells\": {\"fill\": {\"color\": \"#EBF0F8\"}, \"line\": {\"color\": \"white\"}}, \"header\": {\"fill\": {\"color\": \"#C8D4E3\"}, \"line\": {\"color\": \"white\"}}, \"type\": \"table\"}]}, \"layout\": {\"annotationdefaults\": {\"arrowcolor\": \"#2a3f5f\", \"arrowhead\": 0, \"arrowwidth\": 1}, \"autotypenumbers\": \"strict\", \"coloraxis\": {\"colorbar\": {\"outlinewidth\": 0, \"ticks\": \"\"}}, \"colorscale\": {\"diverging\": [[0, \"#8e0152\"], [0.1, \"#c51b7d\"], [0.2, \"#de77ae\"], [0.3, \"#f1b6da\"], [0.4, \"#fde0ef\"], [0.5, \"#f7f7f7\"], [0.6, \"#e6f5d0\"], [0.7, \"#b8e186\"], [0.8, \"#7fbc41\"], [0.9, \"#4d9221\"], [1, \"#276419\"]], \"sequential\": [[0.0, \"#0d0887\"], [0.1111111111111111, \"#46039f\"], [0.2222222222222222, \"#7201a8\"], [0.3333333333333333, \"#9c179e\"], [0.4444444444444444, \"#bd3786\"], [0.5555555555555556, \"#d8576b\"], [0.6666666666666666, \"#ed7953\"], [0.7777777777777778, \"#fb9f3a\"], [0.8888888888888888, \"#fdca26\"], [1.0, \"#f0f921\"]], \"sequentialminus\": [[0.0, \"#0d0887\"], [0.1111111111111111, \"#46039f\"], [0.2222222222222222, \"#7201a8\"], [0.3333333333333333, \"#9c179e\"], [0.4444444444444444, \"#bd3786\"], [0.5555555555555556, \"#d8576b\"], [0.6666666666666666, \"#ed7953\"], [0.7777777777777778, \"#fb9f3a\"], [0.8888888888888888, \"#fdca26\"], [1.0, \"#f0f921\"]]}, \"colorway\": [\"#636efa\", \"#EF553B\", \"#00cc96\", \"#ab63fa\", \"#FFA15A\", \"#19d3f3\", \"#FF6692\", \"#B6E880\", \"#FF97FF\", \"#FECB52\"], \"font\": {\"color\": \"#2a3f5f\"}, \"geo\": {\"bgcolor\": \"white\", \"lakecolor\": \"white\", \"landcolor\": \"#E5ECF6\", \"showlakes\": true, \"showland\": true, \"subunitcolor\": \"white\"}, \"hoverlabel\": {\"align\": \"left\"}, \"hovermode\": \"closest\", \"mapbox\": {\"style\": \"light\"}, \"paper_bgcolor\": \"white\", \"plot_bgcolor\": \"#E5ECF6\", \"polar\": {\"angularaxis\": {\"gridcolor\": \"white\", \"linecolor\": \"white\", \"ticks\": \"\"}, \"bgcolor\": \"#E5ECF6\", \"radialaxis\": {\"gridcolor\": \"white\", \"linecolor\": \"white\", \"ticks\": \"\"}}, \"scene\": {\"xaxis\": {\"backgroundcolor\": \"#E5ECF6\", \"gridcolor\": \"white\", \"gridwidth\": 2, \"linecolor\": \"white\", \"showbackground\": true, \"ticks\": \"\", \"zerolinecolor\": \"white\"}, \"yaxis\": {\"backgroundcolor\": \"#E5ECF6\", \"gridcolor\": \"white\", \"gridwidth\": 2, \"linecolor\": \"white\", \"showbackground\": true, \"ticks\": \"\", \"zerolinecolor\": \"white\"}, \"zaxis\": {\"backgroundcolor\": \"#E5ECF6\", \"gridcolor\": \"white\", \"gridwidth\": 2, \"linecolor\": \"white\", \"showbackground\": true, \"ticks\": \"\", \"zerolinecolor\": \"white\"}}, \"shapedefaults\": {\"line\": {\"color\": \"#2a3f5f\"}}, \"ternary\": {\"aaxis\": {\"gridcolor\": \"white\", \"linecolor\": \"white\", \"ticks\": \"\"}, \"baxis\": {\"gridcolor\": \"white\", \"linecolor\": \"white\", \"ticks\": \"\"}, \"bgcolor\": \"#E5ECF6\", \"caxis\": {\"gridcolor\": \"white\", \"linecolor\": \"white\", \"ticks\": \"\"}}, \"title\": {\"x\": 0.05}, \"xaxis\": {\"automargin\": true, \"gridcolor\": \"white\", \"linecolor\": \"white\", \"ticks\": \"\", \"title\": {\"standoff\": 15}, \"zerolinecolor\": \"white\", \"zerolinewidth\": 2}, \"yaxis\": {\"automargin\": true, \"gridcolor\": \"white\", \"linecolor\": \"white\", \"ticks\": \"\", \"title\": {\"standoff\": 15}, \"zerolinecolor\": \"white\", \"zerolinewidth\": 2}}}, \"xaxis\": {\"anchor\": \"y\", \"domain\": [0.0, 1.0], \"range\": [-0.5, 50.5], \"title\": {\"text\": \"Runs\"}}, \"yaxis\": {\"anchor\": \"x\", \"domain\": [0.0, 1.0], \"title\": {\"text\": \"Percentage\"}}},                        {\"responsive\": true}                    ).then(function(){\n",
       "                            \n",
       "var gd = document.getElementById('fceac189-40b5-4ffb-a34f-0896e263c294');\n",
       "var x = new MutationObserver(function (mutations, observer) {{\n",
       "        var display = window.getComputedStyle(gd).display;\n",
       "        if (!display || display === 'none') {{\n",
       "            console.log([gd, 'removed!']);\n",
       "            Plotly.purge(gd);\n",
       "            observer.disconnect();\n",
       "        }}\n",
       "}});\n",
       "\n",
       "// Listen for the removal of the full notebook cells\n",
       "var notebookContainer = gd.closest('#notebook-container');\n",
       "if (notebookContainer) {{\n",
       "    x.observe(notebookContainer, {childList: true});\n",
       "}}\n",
       "\n",
       "// Listen for the clearing of the current output cell\n",
       "var outputEl = gd.closest('.output');\n",
       "if (outputEl) {{\n",
       "    x.observe(outputEl, {childList: true});\n",
       "}}\n",
       "\n",
       "                        })                };                });            </script>        </div>"
      ]
     },
     "metadata": {},
     "output_type": "display_data"
    }
   ],
   "source": [
    "#subset good and bad scores and make counts\n",
    "good_scores = combined_scores[combined_scores['quality']=='Good']\n",
    "bad_scores = combined_scores[combined_scores['quality']=='Bad']\n",
    "\n",
    "good_runs,good_total = get_freq_count(\"good_runs\",good_scores,\"good_total\")\n",
    "bad_runs,bad_total = get_freq_count(\"bad_runs\",bad_scores,\"bad_total\")\n",
    "\n",
    "#Plot all scores\n",
    "def change_to_df(df_in,df_out,quality,total):\n",
    "    df_out = pd.DataFrame({'Runs':df_in.index, 'Count':df_in.values})  ## Converting series type to pandas df as plotly accepts dataframe as input. The two columns of df is FuncGroup which is being made by index of series and new variable called count which is made by values of series s.\n",
    "    df_out['Percentage'] = (df_out['Count']/total)*100\n",
    "    df_out['quality'] = quality\n",
    "    df_out = df_out.sort_values(['Runs'])\n",
    "    return df_out\n",
    " \n",
    "good_df = change_to_df(good_runs,\"good_df\",\"Good\",good_total)\n",
    "bad_df = change_to_df(bad_runs,\"bad_df\",\"Bad\",bad_total)\n",
    "both = good_df.append(bad_df)\n",
    "fig = px.line(both, x='Runs', y='Percentage',color='quality')\n",
    "#fig.update_yaxes(range=[0,11.5])\n",
    "fig.update_xaxes(range=[-0.5,50.5])\n",
    "fig.show()"
   ]
  },
  {
   "cell_type": "code",
   "execution_count": null,
   "metadata": {},
   "outputs": [],
   "source": [
    "#Plot distribution of only \"good\" batsmen"
   ]
  }
 ],
 "metadata": {
  "kernelspec": {
   "display_name": "Python 3",
   "language": "python",
   "name": "python3"
  },
  "language_info": {
   "codemirror_mode": {
    "name": "ipython",
    "version": 3
   },
   "file_extension": ".py",
   "mimetype": "text/x-python",
   "name": "python",
   "nbconvert_exporter": "python",
   "pygments_lexer": "ipython3",
   "version": "3.7.4"
  }
 },
 "nbformat": 4,
 "nbformat_minor": 4
}
